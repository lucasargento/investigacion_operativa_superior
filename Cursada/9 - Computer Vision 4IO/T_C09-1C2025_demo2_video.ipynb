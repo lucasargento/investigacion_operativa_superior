{
 "cells": [
  {
   "cell_type": "markdown",
   "metadata": {},
   "source": [
    "### **DEMO 2**: ANALÍSIS DE VIDEO"
   ]
  },
  {
   "cell_type": "code",
   "execution_count": 11,
   "metadata": {},
   "outputs": [],
   "source": [
    "import cv2\n",
    "import matplotlib.pyplot as plt"
   ]
  },
  {
   "cell_type": "code",
   "execution_count": null,
   "metadata": {},
   "outputs": [],
   "source": [
    "# defino parámetros (son parametros que cambian cuando cambia la posición de la imagen, iluminacion, cámara, etc ...)\n",
    "umbral =                                         \n",
    "x_target = \n",
    "y_target = "
   ]
  },
  {
   "cell_type": "code",
   "execution_count": 13,
   "metadata": {},
   "outputs": [],
   "source": [
    "# funcion que evalua el color en el punto para determinar si el equipo esta encendido o apagado\n",
    "\n",
    "def boton_status(img, x, y):\n",
    "    ret = 0                                         # equipo apagado\n",
    "    if sum(img[y, x, :])>umbral: ret = 1            # equipo encedido\n",
    "    return ret"
   ]
  },
  {
   "cell_type": "code",
   "execution_count": null,
   "metadata": {},
   "outputs": [],
   "source": [
    "# inicia la captura de video\n",
    "cap = cv2.VideoCapture('video.mov')"
   ]
  },
  {
   "cell_type": "code",
   "execution_count": null,
   "metadata": {},
   "outputs": [],
   "source": [
    "# proceso de toma de datos\n",
    "\n",
    "n = 0                                               \n",
    "estado = 0                                          \n",
    "t_proceso = []                                      \n",
    "\n",
    "while cap.isOpened():\n",
    "    ret, frame = cap.read()                           \n",
    "    if ret:\n",
    "        s = boton_status(frame, x_target, y_target)     \n",
    "        if estado<s:                                    \n",
    "            ti = cap.get(cv2.CAP_PROP_POS_MSEC)/1000            # tiempo incial en segundos *****\n",
    "            estado = 1                                  \n",
    "        if estado>s:                                    \n",
    "            tp = (cap.get(cv2.CAP_PROP_POS_MSEC)/1000)-ti       # tiempo final en segundos *****\n",
    "            t_proceso.append(tp)                        \n",
    "            n += 1\n",
    "            print(f\"({n}): {tp:.2f} seg.\")\n",
    "            estado = 0                                  \n",
    "    else:\n",
    "        break    \n",
    "\n",
    "cap.release()   "
   ]
  },
  {
   "cell_type": "code",
   "execution_count": null,
   "metadata": {},
   "outputs": [],
   "source": [
    "print(t_proceso)"
   ]
  }
 ],
 "metadata": {
  "kernelspec": {
   "display_name": "base",
   "language": "python",
   "name": "python3"
  },
  "language_info": {
   "codemirror_mode": {
    "name": "ipython",
    "version": 3
   },
   "file_extension": ".py",
   "mimetype": "text/x-python",
   "name": "python",
   "nbconvert_exporter": "python",
   "pygments_lexer": "ipython3",
   "version": "3.8.8"
  }
 },
 "nbformat": 4,
 "nbformat_minor": 2
}
