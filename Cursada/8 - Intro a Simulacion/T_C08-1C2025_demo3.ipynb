{
 "cells": [
  {
   "cell_type": "markdown",
   "metadata": {},
   "source": [
    "### **DEMO 3**"
   ]
  },
  {
   "cell_type": "code",
   "execution_count": null,
   "metadata": {},
   "outputs": [],
   "source": [
    "import simpy as sim\n",
    "import numpy as np"
   ]
  },
  {
   "cell_type": "markdown",
   "metadata": {},
   "source": [
    "#### SIMPY (PROCESO SIN LIMITACIONES DE CAPACIDAD)"
   ]
  },
  {
   "cell_type": "code",
   "execution_count": null,
   "metadata": {},
   "outputs": [],
   "source": [
    "#demo 3: source -> delay -> sink\n",
    "\n",
    "def proceso(env):\n",
    "    yield env.timeout(np.random.triangular(1,4,6))\n",
    "\n",
    "\n",
    "def principal(env):\n",
    "    while True:\n",
    "        yield env.timeout(np.random.exponential(1.7))\n",
    "        env.process(proceso(env))\n",
    "\n",
    "env = sim.Environment()\n",
    "env.process(principal(env))\n",
    "env.run(until=100)\n"
   ]
  },
  {
   "cell_type": "markdown",
   "metadata": {},
   "source": [
    "#### SIMPY (PROCESO SIN LIMITACIONES DE CAPACIDAD C/ IMPRESIONES)"
   ]
  },
  {
   "cell_type": "code",
   "execution_count": null,
   "metadata": {},
   "outputs": [],
   "source": [
    "def proceso(env, c):\n",
    "    print(f'entra {c}')\n",
    "    yield env.timeout(np.random.triangular(1,4,6))\n",
    "    print(f'sale {c}')\n",
    "  \n",
    "def principal(env):\n",
    "    c = 0\n",
    "    while True:\n",
    "        yield env.timeout(np.random.exponential(1.7))\n",
    "        c += 1\n",
    "        env.process(proceso(env, c))\n",
    "\n",
    "env = sim.Environment()\n",
    "env.process(principal(env))\n",
    "env.run(until=100)"
   ]
  },
  {
   "cell_type": "markdown",
   "metadata": {},
   "source": [
    "#### SIMPY (PROCESO CON LIMITACIONES DE CAPACIDAD, SOLO 1 OPERARIO)"
   ]
  },
  {
   "cell_type": "code",
   "execution_count": null,
   "metadata": {},
   "outputs": [],
   "source": [
    "c = []           # cantidad de items esperando ser procesados\n",
    "\n",
    "def proceso(env):\n",
    "    global c\n",
    "    while True:\n",
    "        if len(c)>0:\n",
    "            i = c.pop(0)\n",
    "            print(f'-> se procesa el item {i} en {env.now:.2f}')\n",
    "            yield env.timeout(np.random.triangular(0.1,0.2,0.3))\n",
    "            print(f'<- se termina de procesar el item {i} en {env.now:.2f}')\n",
    "        yield env.timeout(0.1)  \n",
    "    \n",
    "  \n",
    "def principal(env):\n",
    "    global c\n",
    "    q = 0\n",
    "    while True:    \n",
    "        yield env.timeout(0.1)\n",
    "        q += 1\n",
    "        c.append(q)\n",
    "        print(f'*-> entra el item {q}/{len(c)} en {env.now:.2f}')\n",
    "        \n",
    "\n",
    "env = sim.Environment()\n",
    "env.process(principal(env))\n",
    "env.process(proceso(env))\n",
    "env.run(until=100)"
   ]
  }
 ],
 "metadata": {
  "kernelspec": {
   "display_name": "base",
   "language": "python",
   "name": "python3"
  },
  "language_info": {
   "codemirror_mode": {
    "name": "ipython",
    "version": 3
   },
   "file_extension": ".py",
   "mimetype": "text/x-python",
   "name": "python",
   "nbconvert_exporter": "python",
   "pygments_lexer": "ipython3",
   "version": "3.8.8"
  }
 },
 "nbformat": 4,
 "nbformat_minor": 2
}
