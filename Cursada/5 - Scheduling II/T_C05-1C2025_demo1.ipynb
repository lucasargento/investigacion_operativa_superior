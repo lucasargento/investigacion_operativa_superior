{
 "cells": [
  {
   "cell_type": "markdown",
   "metadata": {},
   "source": [
    "### **DEMO 1A**"
   ]
  },
  {
   "cell_type": "code",
   "execution_count": null,
   "metadata": {},
   "outputs": [],
   "source": [
    "from docplex.cp.model import *\n",
    "import docplex.cp.utils_visu as visu"
   ]
  },
  {
   "cell_type": "markdown",
   "metadata": {},
   "source": [
    "#### TRES PROCESOS SIN RESTRICCIONES"
   ]
  },
  {
   "cell_type": "code",
   "execution_count": null,
   "metadata": {},
   "outputs": [],
   "source": [
    "m = CpoModel()\n",
    "\n",
    "p1 = m.interval_var(name='PROCESO 1', size=10)\n",
    "p2 = m.interval_var(name='PROCESO 2', size=20)\n",
    "p3 = m.interval_var(name='PROCESO 3', size=15)\n",
    "\n",
    "m.add(p1, p2, p3) # agregar los intervalos\n",
    "\n",
    "s = m.solve()\n",
    "\n",
    "s.print_solution()\n",
    "\n",
    "if s:\n",
    "    # Gráfico de Gantt\n",
    "    visu.interval(s.get_var_solution(p1), 1, 'P1')  \n",
    "    visu.interval(s.get_var_solution(p2), 2, 'P2')  \n",
    "    visu.interval(s.get_var_solution(p3), 3, 'P3')        \n",
    "\n",
    "visu.show()"
   ]
  },
  {
   "cell_type": "markdown",
   "metadata": {},
   "source": [
    "#### TRES PROCESOS PERO SOLO DOS MÁQUINAS"
   ]
  },
  {
   "cell_type": "code",
   "execution_count": null,
   "metadata": {},
   "outputs": [],
   "source": [
    "m = CpoModel()\n",
    "\n",
    "p1 = m.interval_var(name='PROCESO 1', size=10)\n",
    "p2 = m.interval_var(name='PROCESO 2', size=20)\n",
    "p3 = m.interval_var(name='PROCESO 3', size=15)\n",
    "\n",
    "m.add(m.pulse(p1,1)+m.pulse(p2,1)+m.pulse(p3,1) <= 2)   # Restricción de recursos (máquinas)\n",
    "\n",
    "s = m.solve()\n",
    "\n",
    "s.print_solution()\n",
    "\n",
    " \n",
    "if s:\n",
    "    p1s = s.get_var_solution(p1)\n",
    "    p2s = s.get_var_solution(p2)\n",
    "    p3s = s.get_var_solution(p3)\n",
    "\n",
    "    # Gráfico de Gantt\n",
    "    visu.panel(name=\"Gantt\")\n",
    "    visu.interval(p1s, 1, 'P1')  \n",
    "    visu.interval(p2s, 2, 'P2')  \n",
    "    visu.interval(p3s, 3, 'P3')  \n",
    "\n",
    "    maq = CpoStepFunction()\n",
    "    maq.add_value(p1s.start, p1s.end, 1)\n",
    "    maq.add_value(p2s.start, p2s.end, 1)\n",
    "    maq.add_value(p3s.start, p3s.end, 1)\n",
    "\n",
    "    # Gráfico de utilización de recursos\n",
    "    visu.panel(name=\"Uso de recursos\")\n",
    "    visu.function(segments=maq, style='area', origin=0, horizon=30, color='khaki')     \n",
    "\n",
    "visu.show()"
   ]
  },
  {
   "cell_type": "markdown",
   "metadata": {},
   "source": [
    "### **DEMO 1B**"
   ]
  },
  {
   "cell_type": "markdown",
   "metadata": {},
   "source": [
    "#### LIMITACIÓN DE MATERIA PRIMA USANDO STEP_AT_START"
   ]
  },
  {
   "cell_type": "code",
   "execution_count": null,
   "metadata": {},
   "outputs": [],
   "source": [
    "m = CpoModel()\n",
    "\n",
    "t1 = m.interval_var(optional=True, name='PROCESO 1', size=10)   # muy importante optional = True\n",
    "t2 = m.interval_var(optional=True, name='PROCESO 2', size=10)\n",
    "t3 = m.interval_var(optional=True, name='PROCESO 3', size=10)\n",
    "\n",
    "m.add(m.step_at_start(t1,28)+m.step_at_start(t2,12)+m.step_at_start(t3,10) <= 45)   # Restricción de materia prima\n",
    "\n",
    "m.add(m.end_before_start(t1,t2))\n",
    "\n",
    "m.add(m.maximize(m.presence_of(t1)+m.presence_of(t2)+m.presence_of(t3)))\n",
    "\n",
    "s = m.solve()\n",
    "\n",
    "s.print_solution()\n",
    "\n",
    "if s:    \n",
    "    t1s = s.get_var_solution(t1)\n",
    "    t2s = s.get_var_solution(t2)\n",
    "    t3s = s.get_var_solution(t3)\n",
    "\n",
    "    # Gráfico de Gantt\n",
    "    visu.panel(name=\"Gantt\")\n",
    "    if t1s.is_present(): visu.interval(t1s, 1, 'P1')  \n",
    "    if t2s.is_present(): visu.interval(t2s, 2, 'P2')  \n",
    "    if t3s.is_present(): visu.interval(t3s, 3, 'P3')  \n",
    "\n",
    "    max_int = 1000\n",
    "    maq = CpoStepFunction()\n",
    "    if t1s.is_present(): maq.add_value(t1s.start, max_int, 28)\n",
    "    if t2s.is_present(): maq.add_value(t2s.start, max_int, 12)\n",
    "    if t3s.is_present(): maq.add_value(t3s.start, max_int, 10)\n",
    "\n",
    "    # Gráfico de utilización de recursos\n",
    "    visu.panel(name=\"Consumo de MP\")\n",
    "    visu.function(segments=maq, style='area', origin = -1, horizon = 30, color='lightgreen')     \n",
    "    \n",
    "\n",
    "visu.show()"
   ]
  },
  {
   "cell_type": "markdown",
   "metadata": {},
   "source": [
    "### **DEMO 1C**"
   ]
  },
  {
   "cell_type": "markdown",
   "metadata": {},
   "source": [
    "#### EJEMPLO DE USO DE STEP_AT_END"
   ]
  },
  {
   "cell_type": "code",
   "execution_count": null,
   "metadata": {},
   "outputs": [],
   "source": [
    "from docplex.cp.model import CpoModel, CpoStepFunction\n",
    "import docplex.cp.utils_visu as visu\n",
    "\n",
    "m = CpoModel()\n",
    "\n",
    "a1 = m.interval_var(size = 5, name = 'A1')\n",
    "a2 = m.interval_var(size = 5, name = 'A2')\n",
    "a3 = m.interval_var(size = 5, name = 'A3')\n",
    "pk = m.interval_var(size = 2, name = 'PK')\n",
    "\n",
    "m.add(m.pulse(a1,1)+m.pulse(a2,1)+m.pulse(a3,1)<=1) # un operario\n",
    "\n",
    "f = m.step_at_end(a1,1) + m.step_at_end(a2,1) + m.step_at_end(a3,1) # funcion que acumula produccion\n",
    "\n",
    "m.add(m.always_in(f, pk, 3, 3))\n",
    "\n",
    "s = m.solve()\n",
    "\n",
    "s.print_solution()\n",
    "\n",
    "if s:    \n",
    "    a1s = s.get_var_solution(a1)\n",
    "    a2s = s.get_var_solution(a2)\n",
    "    a3s = s.get_var_solution(a3)\n",
    "    pks = s.get_var_solution(pk)\n",
    "\n",
    "    # Gráfico de Gantt\n",
    "    visu.panel(name=\"Gantt\")\n",
    "    if a1s.is_present(): visu.interval(a1s, 'coral', 'A1')  \n",
    "    if a2s.is_present(): visu.interval(a2s, 'lightgreen', 'A2')  \n",
    "    if a3s.is_present(): visu.interval(a3s, 'lightblue', 'A3')  \n",
    "    if pks.is_present(): visu.interval(pks, 'yellow', 'PK')  \n",
    "    \n",
    "    max_int = 1000\n",
    "    maq = CpoStepFunction()\n",
    "    if a1s.is_present(): maq.add_value(a1s.end, max_int, 1)\n",
    "    if a2s.is_present(): maq.add_value(a2s.end, max_int, 1) # += step_at\n",
    "    if a3s.is_present(): maq.add_value(a3s.end, max_int, 1)\n",
    "    if pks.is_present(): maq.add_value(pks.end, max_int, -3)\n",
    "    \n",
    "\n",
    "    # Gráfico de utilización de recursos\n",
    "    visu.panel(name=\"Productos\")\n",
    "    visu.function(segments=maq, style='area', origin=0, horizon=30, color='salmon')     \n",
    "\n",
    "visu.show()"
   ]
  },
  {
   "cell_type": "markdown",
   "metadata": {},
   "source": [
    "### **DEMO 1D**"
   ]
  },
  {
   "cell_type": "markdown",
   "metadata": {},
   "source": [
    "### CALENDARIO PARA EL MES DE DICIEMBRE"
   ]
  },
  {
   "cell_type": "code",
   "execution_count": null,
   "metadata": {},
   "outputs": [],
   "source": [
    "from docplex.cp.model import CpoModel, CpoStepFunction\n",
    "import docplex.cp.utils_visu as visu\n",
    "\n",
    "dic = CpoStepFunction()\n",
    "\n",
    "dic.set_value(0, 31, 100)       # carga todos al 100%\n",
    "\n",
    "for i in range(0, 31, 7):       # fines de semana\n",
    "    dic.set_value(i, i+2, 0)\n",
    "\n",
    "for i in [8, 25]:               # feriados\n",
    "    dic.set_value(i, i+1, 0)\n",
    "\n",
    "m = CpoModel()\n",
    "\n",
    "a1 = m.interval_var(name='A1', size = 5, intensity=dic)\n",
    "a2 = m.interval_var(name='A2', size = 4, intensity=dic)\n",
    "a3 = m.interval_var(name='A3', size = 3, intensity=dic)\n",
    "\n",
    "m.add(m.end_before_start(a1,a2))\n",
    "m.add(m.end_before_start(a2,a3))\n",
    "\n",
    "s = m.solve()\n",
    "\n",
    "s.print_solution()\n",
    "\n",
    "if s:\n",
    "    visu.panel()\n",
    "    visu.pause(dic) # marca los no laborables\n",
    "    visu.interval(s.get_var_solution(a1), 1, 'A1')\n",
    "    visu.interval(s.get_var_solution(a2), 2, 'A2')\n",
    "    visu.interval(s.get_var_solution(a3), 3, 'A3')\n",
    "    visu.show(origin=0, horizon=30)"
   ]
  },
  {
   "cell_type": "markdown",
   "metadata": {},
   "source": [
    "### USO DE FORBID"
   ]
  },
  {
   "cell_type": "code",
   "execution_count": null,
   "metadata": {},
   "outputs": [],
   "source": [
    "from docplex.cp.model import CpoModel, CpoStepFunction\n",
    "import docplex.cp.utils_visu as visu\n",
    "\n",
    "dic = CpoStepFunction()\n",
    "\n",
    "dic.set_value(0, 31, 100)       # carga todos al 100%\n",
    "\n",
    "for i in range(0, 31, 7):       # fines de semana\n",
    "    dic.set_value(i, i+2, 0)\n",
    "\n",
    "for i in [8, 25]:               # feriados\n",
    "    dic.set_value(i, i+1, 0)\n",
    "\n",
    "m = CpoModel()\n",
    "\n",
    "a1 = m.interval_var(name='A1', size = 5, intensity=dic)\n",
    "a2 = m.interval_var(name='A2', size = 4, intensity=dic)\n",
    "a3 = m.interval_var(name='A3', size = 3, intensity=dic)\n",
    "\n",
    "m.add(m.end_before_start(a1,a2))\n",
    "m.add(m.end_before_start(a2,a3))\n",
    "\n",
    "#m.add(m.forbid_start(a1, dic))\n",
    "#m.add(m.forbid_end(a1, dic))\n",
    "m.add(m.forbid_extent(a1, dic))\n",
    "\n",
    "#m.add(m.forbid_start(a2, dic))\n",
    "#m.add(m.forbid_end(a2, dic))\n",
    "m.add(m.forbid_extent(a2, dic))\n",
    "\n",
    "#m.add(m.forbid_start(a3, dic))\n",
    "#m.add(m.forbid_end(a3, dic))\n",
    "m.add(m.forbid_extent(a3, dic))\n",
    "\n",
    "s = m.solve()\n",
    "\n",
    "s.print_solution()\n",
    "\n",
    "if s:\n",
    "    visu.panel()\n",
    "    visu.pause(dic)\n",
    "    visu.interval(s.get_var_solution(a1), 1, 'A1')\n",
    "    visu.interval(s.get_var_solution(a2), 2, 'A2')\n",
    "    visu.interval(s.get_var_solution(a3), 3, 'A3')\n",
    "    visu.show(origin=0, horizon=30)"
   ]
  }
 ],
 "metadata": {
  "kernelspec": {
   "display_name": "base",
   "language": "python",
   "name": "python3"
  },
  "language_info": {
   "codemirror_mode": {
    "name": "ipython",
    "version": 3
   },
   "file_extension": ".py",
   "mimetype": "text/x-python",
   "name": "python",
   "nbconvert_exporter": "python",
   "pygments_lexer": "ipython3",
   "version": "3.8.8"
  }
 },
 "nbformat": 4,
 "nbformat_minor": 2
}
