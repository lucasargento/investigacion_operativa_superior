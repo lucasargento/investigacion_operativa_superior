{
 "cells": [
  {
   "cell_type": "markdown",
   "metadata": {},
   "source": [
    "### DEMO 3A"
   ]
  },
  {
   "cell_type": "markdown",
   "metadata": {},
   "source": [
    "#### Utilización de los f-strings."
   ]
  },
  {
   "cell_type": "code",
   "execution_count": null,
   "metadata": {},
   "outputs": [],
   "source": [
    "demo = f\"\"\"HOLA\"\"\"\n",
    "\n",
    "print(demo)"
   ]
  },
  {
   "cell_type": "code",
   "execution_count": null,
   "metadata": {},
   "outputs": [],
   "source": [
    "nombre = \"AGUSTIN\"\n",
    "\n",
    "demo = f\"\"\"HOLA {nombre} !!!!\"\"\"\n",
    "\n",
    "print(demo)"
   ]
  },
  {
   "cell_type": "markdown",
   "metadata": {},
   "source": [
    "#### Generación del HTML."
   ]
  },
  {
   "cell_type": "code",
   "execution_count": null,
   "metadata": {},
   "outputs": [],
   "source": [
    "from html import escape\n",
    "from IPython.core.display import HTML\n",
    "\n",
    "# Generar el documento HTML\n",
    "# cuaidado con {} ... deben ir dobles\n",
    "a =80\n",
    "\n",
    "html = f\"\"\"\n",
    "<html>\n",
    "  <head>\n",
    "    <script type=\"text/javascript\" src=\"https://www.gstatic.com/charts/loader.js\"></script>\n",
    "    <script type=\"text/javascript\">\n",
    "      google.charts.load('current', {{'packages':['corechart']}});\n",
    "      google.charts.setOnLoadCallback(drawChart1);\n",
    "\n",
    "      function drawChart1() {{\n",
    "\n",
    "        var data = google.visualization.arrayToDataTable([\n",
    "          ['Area', 'Horas'], ['Corte Metal', {a}], ['Doblado', 18], ['Soldado', 10], \n",
    "          ['Corte Madera', 21],['Tapizado', 52], ['Pintura', 12], ['Despacho', 72]\n",
    "        ]);\n",
    "\n",
    "        var options = {{\n",
    "          title: 'UTILIZACION'\n",
    "        }};\n",
    "\n",
    "        var chart1 = new google.visualization.PieChart(document.getElementById('piechart'));\n",
    "\n",
    "        chart1.draw(data, options);\n",
    "      }}\n",
    "    </script>\n",
    "  </head>\n",
    "  <body>\n",
    "    <div id=\"piechart\" style=\"width: 900px; height: 500px;\"></div>\n",
    "  </body>\n",
    "</html>\n",
    "\"\"\"\n",
    "\n",
    "# grabo el html\n",
    "with open(\"T_C05-1C2025_demo3A.html\", \"w\") as f:\n",
    "    f.write(html)\n"
   ]
  },
  {
   "cell_type": "markdown",
   "metadata": {},
   "source": [
    "#### Visualización de un html en la salida de Python."
   ]
  },
  {
   "cell_type": "code",
   "execution_count": null,
   "metadata": {},
   "outputs": [],
   "source": [
    "from IPython.core.display import display, HTML\n",
    "\n",
    "display(HTML(html))"
   ]
  },
  {
   "cell_type": "markdown",
   "metadata": {},
   "source": [
    "### DEMO 3B"
   ]
  },
  {
   "cell_type": "markdown",
   "metadata": {},
   "source": [
    "#### Conversión del html a un pdf"
   ]
  },
  {
   "cell_type": "code",
   "execution_count": null,
   "metadata": {},
   "outputs": [],
   "source": [
    "import os\n",
    "from pyhtml2pdf import converter\n",
    "\n",
    "path = os.path.abspath('T_C05-1C2025_demo3A.html')\n",
    "converter.convert(f'file:///{path}', 'T_C05-1C2025_demo3B.pdf')"
   ]
  },
  {
   "cell_type": "code",
   "execution_count": null,
   "metadata": {},
   "outputs": [],
   "source": []
  }
 ],
 "metadata": {
  "kernelspec": {
   "display_name": "base",
   "language": "python",
   "name": "python3"
  },
  "language_info": {
   "codemirror_mode": {
    "name": "ipython",
    "version": 3
   },
   "file_extension": ".py",
   "mimetype": "text/x-python",
   "name": "python",
   "nbconvert_exporter": "python",
   "pygments_lexer": "ipython3",
   "version": "3.8.8"
  }
 },
 "nbformat": 4,
 "nbformat_minor": 2
}
