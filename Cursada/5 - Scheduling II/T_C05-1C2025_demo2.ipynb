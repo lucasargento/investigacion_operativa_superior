{
 "cells": [
  {
   "cell_type": "markdown",
   "metadata": {},
   "source": [
    "### DEMO 2A"
   ]
  },
  {
   "cell_type": "markdown",
   "metadata": {},
   "source": [
    "#### Matriz de cambio."
   ]
  },
  {
   "cell_type": "code",
   "execution_count": null,
   "metadata": {},
   "outputs": [],
   "source": [
    "from docplex.cp.model import CpoModel, transition_matrix\n",
    "import docplex.cp.utils_visu as visu\n",
    "\n",
    "m = CpoModel()\n",
    "\n",
    "mt = [[0, 0, 10, 10, 0, 0,15],\n",
    "     [0,0, 10, 10, 0, 0, 15],\n",
    "     [10,10, 0, 0, 0, 0, 15],\n",
    "     [50,50, 10, 0, 0, 0,15],\n",
    "     [100,100,15,15,0, 0,15],\n",
    "     [100,100,50,50,15,0,15],\n",
    "     [100,100,50,50,15,15,0]]\n",
    "\n",
    "\n",
    "matriz = transition_matrix(mt)\n",
    "\n",
    "p1 = m.interval_var(size=8,  name='P1')\n",
    "p2 = m.interval_var(size=10, name='P2')\n",
    "p3 = m.interval_var(size=6,  name='P3')\n",
    "p4 = m.interval_var(size=12, name='P4')\n",
    "p5 = m.interval_var(size=9,  name='P5')\n",
    "p6 = m.interval_var(size=14, name='P6')\n",
    "\n",
    "t = [p1, p2, p3, p4, p5, p6]\n",
    "\n",
    "tipos = [1, 3, 6, 5, 2, 0]\n",
    "\n",
    "s = m.sequence_var(t, types=tipos, name='S')\n",
    "        \n",
    "m.add(m.no_overlap(s, matriz, True))\n",
    "\n",
    "m.add( m.minimize(   m.max_of([m.end_of(p1), m.end_of(p2), m.end_of(p3), m.end_of(p4), m.end_of(p5), m.end_of(p6)] )))\n",
    "\n",
    "s = m.solve()\n",
    "\n",
    "s.print_solution()\n",
    "\n",
    "if s:\n",
    "    visu.panel()\n",
    "    visu.interval(s.get_var_solution(p1), 1, 'P1_'+str(tipos[0]))\n",
    "    visu.interval(s.get_var_solution(p2), 2, 'P2_'+str(tipos[1]))\n",
    "    visu.interval(s.get_var_solution(p3), 3, 'P3_'+str(tipos[2]))\n",
    "    visu.interval(s.get_var_solution(p4), 4, 'P4_'+str(tipos[3]))\n",
    "    visu.interval(s.get_var_solution(p5), 5, 'P5_'+str(tipos[4]))\n",
    "    visu.interval(s.get_var_solution(p6), 6, 'P6_'+str(tipos[5]))\n",
    "\n",
    "    visu.matrix(name=\"M1\", matrix=mt)\n",
    "    \n",
    "    visu.show(origin=0, horizon=30)\n",
    "\n"
   ]
  },
  {
   "cell_type": "markdown",
   "metadata": {},
   "source": [
    "### DEMO 2B"
   ]
  },
  {
   "cell_type": "markdown",
   "metadata": {},
   "source": [
    "#### Función de estados."
   ]
  },
  {
   "cell_type": "code",
   "execution_count": null,
   "metadata": {},
   "outputs": [],
   "source": [
    "from docplex.cp.model import CpoModel, transition_matrix\n",
    "import docplex.cp.utils_visu as visu\n",
    "\n",
    "m2 = CpoModel()\n",
    "\n",
    "matriz = [[0, 12, 5],\n",
    "          [12, 0 ,10],\n",
    "          [5, 10, 0]]\n",
    "\n",
    "ms = transition_matrix(matriz)\n",
    "\n",
    "sf = m2.state_function(trmtx=ms, name='sf')\n",
    "\n",
    "\n",
    "p1 = m2.interval_var(size=8,  name='P1')\n",
    "p2 = m2.interval_var(size=10, name='P2')\n",
    "p3 = m2.interval_var(size=6,  name='P3')\n",
    "\n",
    "\n",
    "m2.add(m2.always_equal(sf, p1, 0))\n",
    "m2.add(m2.always_equal(sf, p2, 1))\n",
    "m2.add(m2.always_equal(sf, p3, 2))\n",
    "\n",
    "m2.add( m2.minimize(   m2.max_of([m2.end_of(p1), m2.end_of(p2), m2.end_of(p3)] )))\n",
    "\n",
    "s2 = m2.solve()\n",
    "\n",
    "s2.print_solution()\n",
    "\n",
    "# 2 0 1\n",
    "\n",
    "if s2:\n",
    "    visu.panel()\n",
    "    visu.interval(s2.get_var_solution(p1), 'pink', 'P1[0]')\n",
    "    visu.interval(s2.get_var_solution(p2), 'lightblue', 'P2[1]')\n",
    "    visu.interval(s2.get_var_solution(p3), 'lightgreen', 'P3[2]')\n",
    "\n",
    "    # Gráfico de utilización de recursos\n",
    "    #visu.sequence(name=sf.get_name(), segments=s2.get_var_solution(sf))\n",
    "    visu.panel(name=\"función de estados\")\n",
    "\n",
    "    ff = s2.get_var_solution(sf)\n",
    "    a = []\n",
    "    for i in range( 1, len(ff.get_value())-1):\n",
    "        if ff.get_value()[i][2]==-1:\n",
    "            a.append((ff.get_value()[i][0], ff.get_value()[i][1], ant, ff.get_value()[i+1][2]))\n",
    "        else:    \n",
    "            a.append((ff.get_value()[i][0], ff.get_value()[i][1],ff.get_value()[i][2]))\n",
    "            ant = ff.get_value()[i][2]\n",
    "\n",
    "\n",
    "    #visu.function(segments=s2.get_var_solution(sf), style='segment', origin=0, horizon=30, color='khaki')     \n",
    "    visu.function(segments=a, style='segment', origin=0, horizon=40, color='red')     \n",
    "\n",
    "\n",
    "    visu.panel(name=\"Matriz de tiempos\")\n",
    "    visu.matrix(name=\"M1\", matrix=matriz)\n",
    "    \n",
    "\n",
    "\n",
    "    visu.show(origin=0, horizon=30)\n",
    "\n"
   ]
  }
 ],
 "metadata": {
  "kernelspec": {
   "display_name": "base",
   "language": "python",
   "name": "python3"
  },
  "language_info": {
   "codemirror_mode": {
    "name": "ipython",
    "version": 3
   },
   "file_extension": ".py",
   "mimetype": "text/x-python",
   "name": "python",
   "nbconvert_exporter": "python",
   "pygments_lexer": "ipython3",
   "version": "3.8.8"
  }
 },
 "nbformat": 4,
 "nbformat_minor": 2
}
