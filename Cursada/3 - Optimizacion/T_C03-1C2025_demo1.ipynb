{
 "cells": [
  {
   "cell_type": "markdown",
   "metadata": {},
   "source": [
    "### DEMO 1: DOCPLEX ... EL MODELO MÁS SIMPLE"
   ]
  },
  {
   "cell_type": "code",
   "execution_count": null,
   "metadata": {},
   "outputs": [
    {
     "name": "stdout",
     "output_type": "stream",
     "text": [
      "objetivo = 1537.5\n",
      "x = 50.0\n",
      "y = 2.5\n"
     ]
    }
   ],
   "source": [
    "from docplex.mp.model import Model\n",
    "\n",
    "m = Model()\n",
    "x = m.continuous_var(name='x')\n",
    "y = m.continuous_var(name='y')\n",
    "m.maximize(30*x + 15*y)\n",
    "\n",
    "m.add_constraint(x+2*y<=55)\n",
    "m.add_constraint(x<=50)\n",
    "m.add_constraint(y<=50)\n",
    "\n",
    "s = m.solve()\n",
    "\n",
    "print(f\"objetivo = {s.get_objective_value()}\")\n",
    "print(f\"x = {s['x']}\")\n",
    "print(f\"y = {s['y']}\")"
   ]
  }
 ],
 "metadata": {
  "kernelspec": {
   "display_name": "base",
   "language": "python",
   "name": "python3"
  },
  "language_info": {
   "codemirror_mode": {
    "name": "ipython",
    "version": 3
   },
   "file_extension": ".py",
   "mimetype": "text/x-python",
   "name": "python",
   "nbconvert_exporter": "python",
   "pygments_lexer": "ipython3",
   "version": "3.8.8"
  }
 },
 "nbformat": 4,
 "nbformat_minor": 2
}
