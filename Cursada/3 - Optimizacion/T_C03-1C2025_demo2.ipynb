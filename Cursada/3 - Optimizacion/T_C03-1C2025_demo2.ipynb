{
 "cells": [
  {
   "cell_type": "markdown",
   "metadata": {},
   "source": [
    "### DEMO 2: OPTIMIZACIÓN DE NECESIDADES DE STOCK"
   ]
  },
  {
   "cell_type": "code",
   "execution_count": 1,
   "metadata": {},
   "outputs": [],
   "source": [
    "from docplex.mp.model import Model"
   ]
  },
  {
   "cell_type": "markdown",
   "metadata": {},
   "source": [
    "### CARGA DE DATOS"
   ]
  },
  {
   "cell_type": "code",
   "execution_count": 2,
   "metadata": {},
   "outputs": [],
   "source": [
    "MAR_M = 10\n",
    "MAR_S = 12\n",
    "MAR_B = 30\n",
    "\n",
    "STK_SEG_M = 100\n",
    "STK_SEG_S = 110\n",
    "STK_SEG_B = 120\n",
    "\n",
    "STK_M = 12\n",
    "STK_S = 15\n",
    "STK_B = 20\n",
    "\n",
    "STK_MAX_M = 200\n",
    "STK_MAX_S = 300\n",
    "STK_MAX_B = 300\n",
    "\n",
    "DEM_M = 150\n",
    "DEM_S = 150\n",
    "DEM_B = 150\n",
    "\n",
    "PESO_M = 4\n",
    "PESO_S = 4\n",
    "PESO_B = 4\n",
    "\n",
    "SUP_M = 4\n",
    "SUP_S = 4\n",
    "SUP_B = 4\n",
    "\n",
    "COST_M = 5.5\n",
    "COST_S = 5.5\n",
    "COST_B = 5.5\n",
    "\n",
    "SUP_MAX_B = 4000\n",
    "PESO_MAX = 4000\n",
    "INV_MAX = 12000"
   ]
  },
  {
   "cell_type": "markdown",
   "metadata": {},
   "source": [
    "### (1) MAXIMIZAR GANANCIAS - DEFINICIÓN DE VARIABLES DE DECISIÓN Y FUNCIONAL"
   ]
  },
  {
   "cell_type": "code",
   "execution_count": 3,
   "metadata": {},
   "outputs": [],
   "source": [
    "modelo = Model()\n",
    "\n",
    "dvars = ['M', 'S', 'B']\n",
    "\n",
    "Q = modelo.integer_var_dict(dvars, name='Q')\n",
    "\n",
    "modelo.maximize(Q['M'] * MAR_M + Q['S'] * MAR_S + Q['B'] * MAR_B)"
   ]
  },
  {
   "cell_type": "markdown",
   "metadata": {},
   "source": [
    "### (2) LIMITACION DE SUPERFICIE PARA BIBLIOTECAS"
   ]
  },
  {
   "cell_type": "code",
   "execution_count": 5,
   "metadata": {},
   "outputs": [
    {
     "data": {
      "text/plain": [
       "docplex.mp.LinearConstraint[](4Q_B+80,LE,4000)"
      ]
     },
     "execution_count": 5,
     "metadata": {},
     "output_type": "execute_result"
    }
   ],
   "source": [
    "modelo.add_constraint(SUP_B*STK_B + SUP_B*Q['B'] <= SUP_MAX_B)"
   ]
  },
  {
   "cell_type": "markdown",
   "metadata": {},
   "source": [
    "### (3) RESTRICCIONES DE STOCK DE SEGURIDAD"
   ]
  },
  {
   "cell_type": "code",
   "execution_count": 6,
   "metadata": {},
   "outputs": [
    {
     "data": {
      "text/plain": [
       "docplex.mp.LinearConstraint[](Q_B+20,GE,120)"
      ]
     },
     "execution_count": 6,
     "metadata": {},
     "output_type": "execute_result"
    }
   ],
   "source": [
    "modelo.add_constraint(STK_M + Q['M'] >= STK_SEG_M)\n",
    "modelo.add_constraint(STK_S + Q['S'] >= STK_SEG_S)\n",
    "modelo.add_constraint(STK_B + Q['B'] >= STK_SEG_B)"
   ]
  },
  {
   "cell_type": "markdown",
   "metadata": {},
   "source": [
    "### (4) RESTRICCIONES DE MÁXIMO STOCK "
   ]
  },
  {
   "cell_type": "code",
   "execution_count": 7,
   "metadata": {},
   "outputs": [
    {
     "data": {
      "text/plain": [
       "docplex.mp.LinearConstraint[](Q_B+20,LE,300)"
      ]
     },
     "execution_count": 7,
     "metadata": {},
     "output_type": "execute_result"
    }
   ],
   "source": [
    "modelo.add_constraint(STK_M + Q['M'] <= STK_MAX_M)\n",
    "modelo.add_constraint(STK_S + Q['S'] <= STK_MAX_S)\n",
    "modelo.add_constraint(STK_B + Q['B'] <= STK_MAX_B)"
   ]
  },
  {
   "cell_type": "markdown",
   "metadata": {},
   "source": [
    "### (5) RESTRICCIONES DE PESO (MESAS Y SILLAS)"
   ]
  },
  {
   "cell_type": "code",
   "execution_count": 8,
   "metadata": {},
   "outputs": [
    {
     "data": {
      "text/plain": [
       "docplex.mp.LinearConstraint[](4Q_M+4Q_S,LE,4000)"
      ]
     },
     "execution_count": 8,
     "metadata": {},
     "output_type": "execute_result"
    }
   ],
   "source": [
    "modelo.add_constraint(PESO_M * Q['M'] + PESO_S * Q['S'] <= PESO_MAX)"
   ]
  },
  {
   "cell_type": "markdown",
   "metadata": {},
   "source": [
    "### (6) RESTRICCIONES INVERSIÓN"
   ]
  },
  {
   "cell_type": "code",
   "execution_count": 9,
   "metadata": {},
   "outputs": [
    {
     "data": {
      "text/plain": [
       "docplex.mp.LinearConstraint[](5.500Q_M+5.500Q_S+5.500Q_B,LE,12000)"
      ]
     },
     "execution_count": 9,
     "metadata": {},
     "output_type": "execute_result"
    }
   ],
   "source": [
    "modelo.add_constraint(COST_M*Q['M'] + COST_S*Q['S'] + COST_B*Q['B'] <= INV_MAX) "
   ]
  },
  {
   "cell_type": "markdown",
   "metadata": {},
   "source": [
    "### (7) RESTRICCIONES SEGÚN ESTIMACIÓN DE DEMANDA"
   ]
  },
  {
   "cell_type": "code",
   "execution_count": 10,
   "metadata": {},
   "outputs": [
    {
     "data": {
      "text/plain": [
       "docplex.mp.LinearConstraint[](Q_B+20,LE,165.0)"
      ]
     },
     "execution_count": 10,
     "metadata": {},
     "output_type": "execute_result"
    }
   ],
   "source": [
    "modelo.add_constraint(STK_M + Q['M'] <= 1.1*DEM_M)\n",
    "modelo.add_constraint(STK_S + Q['S'] <= 1.1*DEM_S)\n",
    "modelo.add_constraint(STK_B + Q['B'] <= 1.1*DEM_B)"
   ]
  },
  {
   "cell_type": "code",
   "execution_count": 11,
   "metadata": {},
   "outputs": [],
   "source": [
    "s = modelo.solve()"
   ]
  },
  {
   "cell_type": "code",
   "execution_count": 12,
   "metadata": {},
   "outputs": [
    {
     "name": "stdout",
     "output_type": "stream",
     "text": [
      "MESAS            =  153.0\n",
      "SILLAS           =  150.0\n",
      "BIBLIOTECAS      =  145.0\n",
      "MARGEN TOTAL: $ 7680.0\n"
     ]
    }
   ],
   "source": [
    "print(\"MESAS          \",\" = \", s.get_value(Q['M']))\n",
    "print(\"SILLAS         \",\" = \", s.get_value(Q['S']))\n",
    "print(\"BIBLIOTECAS    \",\" = \", s.get_value(Q['B']))\n",
    "print(\"MARGEN TOTAL: $\", modelo.solution.get_objective_value())"
   ]
  },
  {
   "cell_type": "code",
   "execution_count": 13,
   "metadata": {},
   "outputs": [
    {
     "name": "stdout",
     "output_type": "stream",
     "text": [
      "Model: docplex_model1\n",
      " - number of variables: 3\n",
      "   - binary=0, integer=3, continuous=0\n",
      " - number of constraints: 12\n",
      "   - linear=12\n",
      " - parameters: defaults\n",
      " - objective: maximize\n",
      " - problem type is: MILP\n",
      "\\ This file has been generated by DOcplex\n",
      "\\ ENCODING=ISO-8859-1\n",
      "\\Problem name: docplex_model1\n",
      "\n",
      "Maximize\n",
      " obj: 10 Q_M + 12 Q_S + 30 Q_B\n",
      "Subject To\n",
      " c1: 4 Q_B <= 3920\n",
      " c2: Q_M >= 88\n",
      " c3: Q_S >= 95\n",
      " c4: Q_B >= 100\n",
      " c5: Q_M <= 188\n",
      " c6: Q_S <= 285\n",
      " c7: Q_B <= 280\n",
      " c8: 4 Q_M + 4 Q_S <= 4000\n",
      " c9: 5.500000000000 Q_M + 5.500000000000 Q_S + 5.500000000000 Q_B <= 12000\n",
      " c10: Q_M <= 153\n",
      " c11: Q_S <= 150\n",
      " c12: Q_B <= 145\n",
      "\n",
      "Bounds\n",
      "\n",
      "Generals\n",
      " Q_M Q_S Q_B\n",
      "End\n",
      "\n"
     ]
    }
   ],
   "source": [
    "modelo.print_information()\n",
    "print(modelo.export_as_lp_string())"
   ]
  }
 ],
 "metadata": {
  "kernelspec": {
   "display_name": "base",
   "language": "python",
   "name": "python3"
  },
  "language_info": {
   "codemirror_mode": {
    "name": "ipython",
    "version": 3
   },
   "file_extension": ".py",
   "mimetype": "text/x-python",
   "name": "python",
   "nbconvert_exporter": "python",
   "pygments_lexer": "ipython3",
   "version": "3.8.8"
  }
 },
 "nbformat": 4,
 "nbformat_minor": 2
}
