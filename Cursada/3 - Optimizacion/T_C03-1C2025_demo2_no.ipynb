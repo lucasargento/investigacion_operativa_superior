{
 "cells": [
  {
   "cell_type": "markdown",
   "metadata": {},
   "source": [
    "### DEMO 2: OPTIMIZACIÓN DE NECESIDADES DE STOCK (EJEMPLO DE COMO \"NO\" MODELAR)"
   ]
  },
  {
   "cell_type": "code",
   "execution_count": null,
   "metadata": {},
   "outputs": [],
   "source": [
    "from docplex.mp.model import Model\n",
    "\n",
    "modelo = Model()\n",
    "Q = modelo.integer_var_list(3, name='X')\n",
    "\n",
    "modelo.maximize(Q[0] * 10 + Q[1] * 12 + Q[2] * 30)\n",
    "\n",
    "modelo.add_constraint(12 + Q[0] <= 200)\n",
    "modelo.add_constraint(15 + Q[1] <= 1.1*150)\n",
    "modelo.add_constraint(20 + Q[2] <= 300)\n",
    "modelo.add_constraint(20 + Q[2] <= 1.1*150)\n",
    "modelo.add_constraint(4*20 + 4*Q[2] <= 4000)\n",
    "modelo.add_constraint(15 + Q[1] >= 110)\n",
    "modelo.add_constraint(4 * Q[0] + 4 * Q[1] <= 4000)\n",
    "modelo.add_constraint(20 + Q[2] >= 120)\n",
    "modelo.add_constraint(5.5*Q[0] + 5.5*Q[1] + 5.5*Q[2] <= 12000) \n",
    "modelo.add_constraint(12 + Q[0] <= 1.1*150)\n",
    "modelo.add_constraint(15 + Q[1] <= 300)\n",
    "modelo.add_constraint(12 + Q[0] >= 100)\n",
    "s = modelo.solve()\n",
    "\n",
    "print(\"MESAS          \",\" = \", s.get_value(Q[0]))\n",
    "print(\"SILLAS         \",\" = \", s.get_value(Q[1]))\n",
    "print(\"BIBLIOTECAS    \",\" = \", s.get_value(Q[2]))\n",
    "print(\"MARGEN TOTAL: $\", modelo.solution.get_objective_value())\n"
   ]
  },
  {
   "cell_type": "code",
   "execution_count": null,
   "metadata": {},
   "outputs": [],
   "source": []
  }
 ],
 "metadata": {
  "kernelspec": {
   "display_name": "base",
   "language": "python",
   "name": "python3"
  },
  "language_info": {
   "codemirror_mode": {
    "name": "ipython",
    "version": 3
   },
   "file_extension": ".py",
   "mimetype": "text/x-python",
   "name": "python",
   "nbconvert_exporter": "python",
   "pygments_lexer": "ipython3",
   "version": "3.8.8"
  }
 },
 "nbformat": 4,
 "nbformat_minor": 2
}
