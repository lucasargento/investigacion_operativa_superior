{
 "cells": [
  {
   "cell_type": "markdown",
   "metadata": {},
   "source": [
    "### DEMO 4: OPTIMIZACIÓN DE NECESIDADES DE STOCK\n",
    "HACIENDO EL MODELO DINAMICO A LOS CAMBIOS EN LOS DATOS (PARTE 2)"
   ]
  },
  {
   "cell_type": "code",
   "execution_count": 2,
   "metadata": {},
   "outputs": [],
   "source": [
    "from docplex.mp.model import Model"
   ]
  },
  {
   "cell_type": "code",
   "execution_count": 3,
   "metadata": {},
   "outputs": [],
   "source": [
    "# CARGA DE DATOS\n",
    "\n",
    "producto = ['M', 'S', 'B']\n",
    "categoria = ['MESA', 'SILLA', 'BIBLIOTECA']\n",
    "margen = [10, 12, 30]\n",
    "peso = [4, 4, 4]\n",
    "stk_seg = [100, 110, 120]\n",
    "stk = [12, 15, 20]\n",
    "stk_max = [200, 300, 300]\n",
    "dem = [150, 150, 150]\n",
    "costo = [5.5, 5.5, 5.5]\n",
    "sup = [4, 4, 4]\n",
    "sup_max = 4000\n",
    "peso_max = 4000\n",
    "inv_max = 12000"
   ]
  },
  {
   "cell_type": "code",
   "execution_count": 6,
   "metadata": {},
   "outputs": [
    {
     "name": "stdout",
     "output_type": "stream",
     "text": [
      "MESAS            =  153.0\n",
      "SILLAS           =  150.0\n",
      "BIBLIOTECAS      =  145.0\n",
      "MARGEN TOTAL: $ 7680.0\n"
     ]
    }
   ],
   "source": [
    "modelo = Model()\n",
    "Q = modelo.integer_var_list(producto, name='Q')\n",
    "\n",
    "# (1) MAXIMIZAR GANANCIAS - DEFINICIÓN DE VARIABLES DE DECISIÓN Y FUNCIONAL\n",
    "\n",
    "modelo.maximize(modelo.sum(Q[i] * margen[i] for i in range(len(producto)))) \n",
    "\n",
    "# (2) LIMITACION DE SUPERFICIE PARA BIBLIOTECAS\n",
    "\n",
    "modelo.add_constraint(modelo.sum(sup[i]*stk[i]*(1 if categoria[i]=='BIBLIOTECA' else 0) for i in range(len(producto))) <= sup_max)\n",
    "\n",
    "for i in range(len(producto)):\n",
    "    modelo.add_constraint(stk[i] + Q[i] >= stk_seg[i])  # (3) RESTRICCIONES DE STOCK DE SEGURIDAD\n",
    "    modelo.add_constraint(stk[i] + Q[i] <= stk_max[i])  # (4) RESTRICCIONES DE MÁXIMO STOCK \n",
    "    modelo.add_constraint(stk[i] + Q[i]  <= 1.1*dem[i]) # (7) RESTRICCIONES SEGÚN ESTIMACIÓN DE DEMANDA\n",
    "\n",
    "# (5) RESTRICCIONES DE PESO (MESAS Y SILLAS)\n",
    "\n",
    "modelo.add_constraint(modelo.sum(peso[i]*Q[i]*(1 if (categoria[i]=='MESA' or categoria[i]=='SILLA') else 0) for i in range(len(producto))) <= peso_max)\n",
    "    \n",
    "# (6) RESTRICCIONES INVERSIÓN\n",
    "\n",
    "modelo.add_constraint(modelo.sum(costo[i]*Q[i] for i in range(len(producto))  ) \n",
    "                      <= inv_max) \n",
    "\n",
    "# RESOLUCIÓN DEL MODELO\n",
    "\n",
    "s = modelo.solve()\n",
    "\n",
    "# IMPRESIÓN DE RESULTADOS\n",
    "\n",
    "print(\"MESAS          \",\" = \", s.get_value(Q[0]))\n",
    "print(\"SILLAS         \",\" = \", s.get_value(Q[1]))\n",
    "print(\"BIBLIOTECAS    \",\" = \", s.get_value(Q[2]))\n",
    "print(\"MARGEN TOTAL: $\", modelo.solution.get_objective_value())"
   ]
  },
  {
   "cell_type": "code",
   "execution_count": null,
   "metadata": {},
   "outputs": [],
   "source": [
    "modelo.print_information()\n",
    "print(modelo.export_as_lp_string())"
   ]
  },
  {
   "cell_type": "code",
   "execution_count": null,
   "metadata": {},
   "outputs": [],
   "source": [
    "# (5) RESTRICCIONES DE PESO (MESAS Y SILLAS)\n",
    "\n",
    "modelo.add_constraint(\n",
    "    \n",
    "    modelo.sum(peso[i]*Q[i]* (1 if (x==1) else 0)\n",
    "    \n",
    "    <= peso_max)\n"
   ]
  },
  {
   "cell_type": "code",
   "execution_count": null,
   "metadata": {},
   "outputs": [
    {
     "data": {
      "text/plain": [
       "5"
      ]
     },
     "execution_count": 4,
     "metadata": {},
     "output_type": "execute_result"
    }
   ],
   "source": [
    "x = 1\n",
    "s = 1 if x==1 else 0\n",
    "s"
   ]
  },
  {
   "cell_type": "code",
   "execution_count": null,
   "metadata": {},
   "outputs": [],
   "source": []
  }
 ],
 "metadata": {
  "kernelspec": {
   "display_name": "base",
   "language": "python",
   "name": "python3"
  },
  "language_info": {
   "codemirror_mode": {
    "name": "ipython",
    "version": 3
   },
   "file_extension": ".py",
   "mimetype": "text/x-python",
   "name": "python",
   "nbconvert_exporter": "python",
   "pygments_lexer": "ipython3",
   "version": "3.8.8"
  }
 },
 "nbformat": 4,
 "nbformat_minor": 2
}
