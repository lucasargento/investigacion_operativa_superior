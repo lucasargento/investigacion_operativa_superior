{
 "cells": [
  {
   "cell_type": "markdown",
   "metadata": {},
   "source": [
    "## DEMO 2"
   ]
  },
  {
   "cell_type": "code",
   "execution_count": null,
   "metadata": {},
   "outputs": [],
   "source": [
    "import xml.etree.cElementTree as xml     # importo la biblioteca que me permite trabajar con XML"
   ]
  },
  {
   "cell_type": "code",
   "execution_count": null,
   "metadata": {},
   "outputs": [],
   "source": [
    "# crear un XML desde python\n",
    "\n",
    "doc = xml.Element(\"doc\")\n",
    "\n",
    "xml.SubElement(doc, \"nro\").text = \"201\"\n",
    "xml.SubElement(doc, \"fecha\").text = \"07-OCT-2025\"\n",
    "xml.SubElement(doc, \"prov\").text = \"CENCOSUD SA\"\n",
    "\n",
    "lin1 = xml.SubElement(doc, \"linea\", nro=\"1\")\n",
    "xml.SubElement(lin1, \"desc\").text = \"CABLE TALLER 2x1.5\"\n",
    "xml.SubElement(lin1, \"cant\").text = \"100\"\n",
    "xml.SubElement(lin1, \"udm\").text = \"MT\"\n",
    "\n",
    "lin2 = xml.SubElement(doc, \"linea\", nro=\"2\")\n",
    "xml.SubElement(lin2, \"desc\").text = \"TOMA SUPERFICIE 10A\"\n",
    "xml.SubElement(lin2, \"cant\").text = \"4\"\n",
    "xml.SubElement(lin2, \"udm\").text = \"UN\"\n",
    "\n",
    "t = xml.ElementTree(doc)\n",
    "\n",
    "# grabar un archivo XML\n",
    "\n",
    "t.write(\"demo2.xml\")"
   ]
  },
  {
   "cell_type": "markdown",
   "metadata": {},
   "source": [
    "## DEMO 3"
   ]
  },
  {
   "cell_type": "code",
   "execution_count": null,
   "metadata": {},
   "outputs": [],
   "source": [
    "import json # importo la biblioteca que me permite trabajar con JSON"
   ]
  },
  {
   "cell_type": "code",
   "execution_count": null,
   "metadata": {},
   "outputs": [],
   "source": [
    "# crear un archivo JSON (a partir de un diccionario)\n",
    "\n",
    "d = {\n",
    "   \"numero\": 201,\n",
    "   \"fecha\": \"07-OCT-2025\",\n",
    "    \"proveedor\": \"CENCOSUD SA\",\n",
    "    \"lineas\": [\n",
    "        {\"nro\": 1, \"desc\": \"CABLE TALLER 2x1.5\",\"cant\": 100, \"udm\": \"MT\"},\n",
    "        {\"nro\": 2, \"desc\": \"TOMA SUPERFICIE 10A\",\"cant\": 4, \"udm\": \"UN\"}\n",
    "    ]}\n",
    "\n",
    "js = json.dumps(d)\n",
    "y = json.loads(js)\n",
    "\n",
    "# grabar un archivo json\n",
    "f = open('demo3.json', 'w')\n",
    "json.dump(y, f)\n",
    "f.close()"
   ]
  },
  {
   "cell_type": "markdown",
   "metadata": {},
   "source": [
    "## DEMO 4"
   ]
  },
  {
   "cell_type": "code",
   "execution_count": null,
   "metadata": {},
   "outputs": [],
   "source": [
    "import requests # bliblioteca que permite trabajar con pedidos http"
   ]
  },
  {
   "cell_type": "code",
   "execution_count": null,
   "metadata": {},
   "outputs": [],
   "source": [
    "r = requests.get(\"https://dolarapi.com/v1/dolares\").json()  # obtengo la información de dólares en formato JSON (lo vemos más adelante)\n",
    "\n",
    "print(r)    # imprimo la información que obtuve "
   ]
  },
  {
   "cell_type": "code",
   "execution_count": null,
   "metadata": {},
   "outputs": [],
   "source": [
    "r = requests.get(\"https://dolarapi.com/v1/dolares/blue\").json() # similar a lo anterior ...\n",
    "\n",
    "dolar_c = r[\"compra\"]   # pero ahora solo voy a imprimir el valor del dolar blue para la compra\n",
    "\n",
    "print(f\"El valor del dólar blue comprador es: {dolar_c} ARS\")"
   ]
  },
  {
   "cell_type": "code",
   "execution_count": null,
   "metadata": {},
   "outputs": [],
   "source": [
    "response = requests.get(\"https://dolarapi.com/v1/dolares/blue\") # similar a lo anterior ...\n",
    "\n",
    "r = response.json()\n",
    "\n",
    "if (response.status_code==200):  # pero ahora verifico el estado de la respuesta es \"ok\" (200)\n",
    "\n",
    "    dolar_c = r[\"compra\"]\n",
    "\n",
    "    print(\"El valor del dólar blue comprador es: ARS\", dolar_c)"
   ]
  },
  {
   "cell_type": "markdown",
   "metadata": {},
   "source": [
    "### Otras APIs de ejemplo:"
   ]
  },
  {
   "cell_type": "code",
   "execution_count": null,
   "metadata": {},
   "outputs": [],
   "source": [
    "url_base = \"https://apis.datos.gob.ar/georef/api/provincias?nombre=\"\n",
    "\n",
    "dato = \"mendosa\"\n",
    "print(r)\n",
    "r = requests.get(url_base+dato).json()\n",
    "\n",
    "print(r[\"provincias\"][0][\"nombre\"])"
   ]
  },
  {
   "cell_type": "code",
   "execution_count": null,
   "metadata": {},
   "outputs": [],
   "source": [
    "url = \"https://api.dictionaryapi.dev/api/v2/entries/en/\"\n",
    "\n",
    "word = \"call\"\n",
    "\n",
    "r = requests.get(url + word)\n",
    "\n",
    "if (r.status_code==200):  \n",
    "\n",
    "    r = r.json()\n",
    "    print(r)    \n",
    "    print(r[0][\"meanings\"][0][\"definitions\"][0][\"definition\"])"
   ]
  }
 ],
 "metadata": {
  "kernelspec": {
   "display_name": "base",
   "language": "python",
   "name": "python3"
  },
  "language_info": {
   "codemirror_mode": {
    "name": "ipython",
    "version": 3
   },
   "file_extension": ".py",
   "mimetype": "text/x-python",
   "name": "python",
   "nbconvert_exporter": "python",
   "pygments_lexer": "ipython3",
   "version": "3.8.8"
  }
 },
 "nbformat": 4,
 "nbformat_minor": 2
}
