{
 "cells": [
  {
   "cell_type": "markdown",
   "metadata": {},
   "source": [
    "## EJERCICIO 3: MODELO DE SIMULACIÓN. VERBOSE Y RESULTADOS."
   ]
  },
  {
   "cell_type": "markdown",
   "metadata": {},
   "source": [
    "#### CARGA DE BIBLIOTECAS"
   ]
  },
  {
   "cell_type": "code",
   "execution_count": 21,
   "metadata": {},
   "outputs": [],
   "source": [
    "import sqlite3      \n",
    "import matplotlib.pyplot as plt\n",
    "import fitter as ft\n",
    "import simpy as sim\n",
    "import numpy as np\n",
    "import datetime as dt\n",
    "import pandas as pd\n",
    "from scipy.stats import f\n",
    "from math import ceil\n",
    "from tqdm import tqdm\n"
   ]
  },
  {
   "cell_type": "markdown",
   "metadata": {},
   "source": [
    "## **DATOS**"
   ]
  },
  {
   "cell_type": "code",
   "execution_count": 22,
   "metadata": {},
   "outputs": [],
   "source": [
    "worked_minutes = 8*60  \n",
    "\n",
    "# CONSULTAS A LA BASE DE DATOS\n",
    "\n",
    "conexion=sqlite3.connect(\"/Users/lucianosmith/Documents/Investigación Operativa 3/2C2024/Python/C07/integrador.db\")\n",
    "\n",
    "# PLAN DE PRODUCCIÓN\n",
    "\n",
    "# fecha de inicio de la planificacion y final de planificación\n",
    "\n",
    "m = conexion.execute(f\"select min(sch_startdate) from schedule;\")\n",
    "\n",
    "start_date = dt.datetime.strptime(m.fetchall()[0][0], '%Y-%m-%d %H:%M:%S')\n",
    "\n",
    "m = conexion.execute(f\"select max(sch_enddate) from schedule;\")\n",
    "\n",
    "end_date = dt.datetime.strptime(m.fetchall()[0][0], '%Y-%m-%d %H:%M:%S')\n",
    "\n",
    "# SECUENCIAS\n",
    "\n",
    "# secuencia incial (lote, producto, cantidad, siguiente_wc, color)\n",
    "\n",
    "start_seq = {}  # secuencia inicial\n",
    "seq = {}        # secuencia completa\n",
    "\n",
    "m = conexion.execute(f\"select sch_task, sch_lot, sch_product, sal_qty, (select p.prs_workcenter from process p where p.prs_product = sch_product and p.prs_prev=x.prs_code), sch_color from schedule, process x, sales where sal_so=sch_lot and x.prs_workcenter=sch_task and x.prs_product=sch_product and x.prs_prev=-1 order by sch_startdate asc;\")\n",
    "\n",
    "for i in m.fetchall():\n",
    "    if i[0] in start_seq: \n",
    "        start_seq[i[0]].append((i[1], i[2], i[3], i[4], i[5])) # si existe el worck center hace un append\n",
    "        seq[i[0]].append((i[1], i[2], i[3], i[4], i[5]))\n",
    "    else:\n",
    "        start_seq.update({i[0]: [(i[1], i[2], i[3], i[4], i[5])]})\n",
    "        seq.update({i[0]: [(i[1], i[2], i[3], i[4], i[5])]})\n",
    "\n",
    "# secuencia completa\n",
    "\n",
    "m = conexion.execute(f\"select sch_task, sch_lot, sch_product, sal_qty, (select p.prs_workcenter from process p where p.prs_product = sch_product and p.prs_prev=x.prs_code), sch_color from schedule, process x, sales where sal_so=sch_lot and x.prs_workcenter=sch_task and x.prs_product=sch_product and x.prs_prev>-1 order by sch_startdate asc;\")\n",
    "\n",
    "for i in m.fetchall():\n",
    "    if i[0] in seq: \n",
    "        seq[i[0]].append((i[1], i[2], i[3], i[4], i[5])) \n",
    "    else:\n",
    "        seq.update({i[0]: [(i[1], i[2], i[3], i[4], i[5])]})\n",
    "\n",
    "# DATOS DE LOS PROCESOS\n",
    "\n",
    "# areas y cantidad de empleados\n",
    "\n",
    "wc = {}\n",
    "wcq = conexion.execute(f\"select woc_code, woc_employees from work_center;\")\n",
    "for i in wcq:\n",
    "    wc.update({i[0]: i[1]})\n",
    "\n",
    "# tiempos de los procesos (por producto) \n",
    "\n",
    "m = conexion.execute(f\"select prs_product, prs_workcenter, prs_time, prs_deviation, prs_distribution from process;\")\n",
    "\n",
    "t_process = {}\n",
    "\n",
    "for i in m.fetchall(): \n",
    "        t_process.update({(i[0], i[1]): (i[4], i[2], i[3])})\n",
    "\n",
    "# consumo de materia prima (por proceso y producto)\n",
    "\n",
    "m = conexion.execute(f\"select prs_product, prs_workcenter, prs_rawqty from process;\")\n",
    "\n",
    "t_rawqty = {}\n",
    "\n",
    "for i in m.fetchall(): \n",
    "        t_rawqty.update({(i[0], i[1]): i[2]})\n",
    "\n",
    "# matriz de cambio de color (pintura)\n",
    "\n",
    "m = conexion.execute(f\"select c1.col_desc, c2.col_desc, cot_time from color_table, colors c1, colors c2 where c1.col_code = cot_orig and c2.col_code = cot_dest;\")\n",
    "\n",
    "setup_color_matrix = {}\n",
    "\n",
    "for i in m.fetchall(): \n",
    "        setup_color_matrix.update({(i[0], i[1]): (i[2])})     \n",
    "\n",
    "# ausentismo para el area de CORTE\n",
    "\n",
    "a = conexion.execute(f\"select count(*) from attendance where att_attendance = 1 and att_workcenter = 'CORTE';\")\n",
    "b = conexion.execute(f\"select count(*) from attendance where att_workcenter = 'CORTE';\")\n",
    "p_ausentismo = 1-(a.fetchall()[0][0]/b.fetchall()[0][0])\n",
    "\n",
    "# feriados\n",
    "\n",
    "s = conexion.execute(f\"select * from feriados;\")\n",
    "holidays = []\n",
    "for i in s.fetchall():\n",
    "    holidays.append( (i[0],i[1],i[2]) )\n",
    "\n",
    "# INFORMACION DE ALMACENAMIENTO\n",
    "\n",
    "# stock de materia prima\n",
    "\n",
    "s = conexion.execute(f\"select * from stock;\")\n",
    "stk = {}\n",
    "for i in s.fetchall():\n",
    "    stk.update({i[1]: i[3]})\n",
    "\n",
    "# reaprovisionamiento\n",
    "\n",
    "def get_min(fecha):\n",
    "    diff = fecha - start_date\n",
    "    min = 0\n",
    "    day = start_date\n",
    "    for d in range(diff.days):        \n",
    "        if (day.weekday()<5) and ((day.day, day.month, day.year) not in holidays): \n",
    "            min += worked_minutes\n",
    "        day = day + dt.timedelta(days=1)\n",
    "    return min\n",
    "\n",
    "reaprovisionamiento = []\n",
    "\n",
    "s = conexion.execute(f\"select * from to_receive where tre_status='waiting' order by tre_date asc;\")\n",
    "\n",
    "t0 = 0\n",
    "for i in s.fetchall():\n",
    "    tt = get_min(dt.datetime.strptime(i[4], '%Y-%m-%d'))\n",
    "    reaprovisionamiento.append((tt-t0, i[2], i[3]))\n",
    "    t0 = tt\n",
    "\n",
    "# AJUSTE DE TIEMPOS DE MANTENIMIENTO\n",
    "\n",
    "# DOBLADORA (TTR)\n",
    "\n",
    "m = conexion.execute(f\"select mai_ttr from maintenance where mai_machine='DOBLADORA' and mai_type='C';\")\n",
    "d_ttr = [i[0] for i in m.fetchall()] \n",
    "\n",
    "# ajuste y obtención de parámetros\n",
    "\n",
    "f2 = ft.Fitter(d_ttr, bins=20, timeout=100, distributions=['norm', 'expon', 'weibull_max','weibull_min'])\n",
    "f2.fit()\n",
    "\n",
    "u_ttr = f2.get_best()['norm'][0]\n",
    "d_ttr = f2.get_best()['norm'][1]\n",
    "\n",
    "# DOBLADORA (TBF)\n",
    "\n",
    "m = conexion.execute(f\"select mai_tbf from maintenance where mai_machine='DOBLADORA' and mai_type='C';\")\n",
    "d_tbf = [i[0] for i in m.fetchall()] \n",
    "\n",
    "# ajuste y obtención de parámetros\n",
    "f1 = ft.Fitter(d_tbf, bins=20, timeout=100, distributions=['norm', 'expon','beta', 'f'])\n",
    "f1.fit()\n",
    "\n",
    "a_tbf = f1.get_best()['f'][0]\n",
    "b_tbf = f1.get_best()['f'][1]\n",
    "c_tbf = f1.get_best()['f'][2]\n",
    "d_tbf = f1.get_best()['f'][3]\n",
    "\n",
    "conexion.close()\n"
   ]
  },
  {
   "cell_type": "markdown",
   "metadata": {},
   "source": [
    "## **MODELO DE SIMULACIÓN**"
   ]
  },
  {
   "cell_type": "code",
   "execution_count": 23,
   "metadata": {},
   "outputs": [],
   "source": [
    "# definición de colores\n",
    "\n",
    "class bcolors:\n",
    "    HEADER = '\\033[95m'\n",
    "    OKBLUE = '\\033[94m'\n",
    "    OKCYAN = '\\033[96m'\n",
    "    OKGREEN = '\\033[92m'\n",
    "    WARNING = '\\033[93m'\n",
    "    FAIL = '\\033[91m'\n",
    "    ENDC = '\\033[0m'\n",
    "    BOLD = '\\033[1m'\n",
    "    UNDERLINE = '\\033[4m'\n",
    "\n",
    "class modelo1:\n",
    "   \n",
    "    def __init__(self, start_date, start_seq, seq, wc, t_process, t_rawqty, setup_color_matrix, p_ausentismo, holidays, stk, reaprov, u_ttr, d_ttr, a_tbf, b_tbf, c_tbf, d_tbf, verbose, tmax):\n",
    "\n",
    "        self.env = sim.Environment()\n",
    "        \n",
    "        # PARÁMETROS\n",
    "\n",
    "        self.worked_minutes = 8*60\n",
    "        self.verbose = verbose                                       \n",
    "        self.setup_color = 'rojo'   \n",
    "        self.mant = False\n",
    "        self.last_maintenance = 900\n",
    "        \n",
    "        self.continuar = True\n",
    "\n",
    "        # parametros enviados\n",
    "        self.start_date = start_date\n",
    "        self.start_seq = start_seq\n",
    "        self.seq = seq\n",
    "        self.wc = wc\n",
    "        self.t_process = t_process\n",
    "        self.t_rawqty = t_rawqty\n",
    "        self.setup_color_matrix = setup_color_matrix\n",
    "        self.p_ausentismo = p_ausentismo\n",
    "        self.holidays = holidays\n",
    "        self.stk = stk\n",
    "        self.reaprov = reaprov.copy()\n",
    "        self.u_ttr = u_ttr\n",
    "        self.d_ttr = d_ttr\n",
    "        self.a_tbf = a_tbf\n",
    "        self.b_tbf = b_tbf\n",
    "        self.c_tbf = c_tbf\n",
    "        self.d_tbf = d_tbf\n",
    "        self.tmax = tmax\n",
    "\n",
    "        # objetos creados\n",
    "        self.wc.update({'terminado':1})                                                \n",
    "\n",
    "        self.store = {}                                                                 \n",
    "        for i in list(self.wc.keys()):\n",
    "            self.store.update({i:sim.FilterStore(self.env)})\n",
    "\n",
    "        self.raw_material = {}                                                          \n",
    "        for i in self.stk:\n",
    "            self.raw_material.update({i: sim.Container(self.env, init=self.stk[i])})\n",
    "\n",
    "        self.workers = {}                                                               \n",
    "        for i in list(self.wc.keys()):\n",
    "            if i!='corte_m':\n",
    "                self.workers.update({i: sim.Resource(self.env, capacity=self.wc[i])})\n",
    "            else:\n",
    "                self.workers_corte_m = sim.Container(self.env, capacity=self.wc[i], init=self.wc[i])\n",
    "\n",
    "        for i in self.start_seq:                                                           \n",
    "            for j in self.start_seq[i]:\n",
    "                self.store[i].put([j[0], j[1]])\n",
    "\n",
    "    # --------------------------------------------------------------------------------------------------------\n",
    "\n",
    "    # FUNCIONES AUXILIARES\n",
    "\n",
    "    def get_setupTime(self, next_color):                                               \n",
    "        self.setup_color\n",
    "        t = self.setup_color_matrix[(self.setup_color, next_color)]\n",
    "        self.setup_color = next_color\n",
    "        return t\n",
    "\n",
    "    def get_processTime(self, prod, work_center, qty):                                \n",
    "        t = 0\n",
    "        dist, mean, std = self.t_process[(prod, work_center)]\n",
    "        if dist == 1:\n",
    "            t = np.sum([abs(np.random.normal(loc=mean, scale=std, size=qty))])     \n",
    "        if dist == 2:\n",
    "            t = np.sum([abs(np.random.uniform(low=mean, high=std, size=qty))])     \n",
    "        return t\n",
    "        \n",
    "    def get_rawqty(self, prod, work_center, qty, color):                       \n",
    "        raw_code = 'madera'\n",
    "        if work_center=='corte_m': raw_code = 'metal'\n",
    "        if work_center=='pintura': raw_code = color\n",
    "        q = self.t_rawqty[(prod, work_center)]*qty\n",
    "        return raw_code, q\n",
    "\n",
    "    def get_date(self, env, tiempo=-1):\n",
    "        if tiempo==-1: tiempo = self.env.now                                               \n",
    "        dias = int(tiempo/self.worked_minutes)\n",
    "        day = self.start_date\n",
    "        day = day + dt.timedelta(days=1)\n",
    "        while dias>0:    \n",
    "            if (day.weekday()<5) and ((day.day, day.month, day.year) not in self.holidays): dias -= 1 \n",
    "            day = day + dt.timedelta(days=1)\n",
    "        day = day + dt.timedelta(days=-1)\n",
    "        dif = ((tiempo/self.worked_minutes)-int(tiempo/self.worked_minutes))*self.worked_minutes/60\n",
    "        if dif>3: dif += 1\n",
    "        day = day + dt.timedelta(hours=9+dif)\n",
    "        return day\n",
    "\n",
    "    # funcion de impresión de eventos según el \n",
    "    # tipo de error y considerando el nivel de \n",
    "    # impresión requerido (verbose).\n",
    "\n",
    "    def print_evt(self, env, type, lot, product, workcenter, msg):\n",
    "        if (self.verbose>0) and (type<=self.verbose):\n",
    "            if type==1: color = bcolors.FAIL                                # solo errores\n",
    "            if type==2: color = bcolors.OKGREEN                             # finalización de producción (por area)\n",
    "            if type==3: color = bcolors.WARNING                             # alertas\n",
    "            if type==4: color = bcolors.HEADER                              # recursos humanos\n",
    "            if type==5: color = bcolors.OKBLUE                              # movimientos de inventario\n",
    "            if type==6: color = bcolors.OKCYAN                              # mantenimiento\n",
    "            p_d = self.get_date(self.env).strftime(\"%d-%m-%Y, %H:%M:%S\")    # obtiene y formatea la fecha de la simulación\n",
    "            s = '['+workcenter.upper().center(8)+']'                       \n",
    "            print(f'{color} [{str(int(self.env.now)).rjust(5)}],[{lot.ljust(7)}],[{product.ljust(8)}],{s},[{p_d}],{msg}')\n",
    "\n",
    "    # --------------------------------------------------------------------------------------------------------\n",
    "\n",
    "    # OPERACION ESTANDARIZADA\n",
    "\n",
    "    def operation(self, env, work_center, product_code, lot, qty, next_wc, color):\n",
    "    \n",
    "        self.print_evt(self.env, type=3, lot=lot, product=product_code, workcenter=work_center, msg=f'ENTRANDO PARA FABRICAR {qty} UND.')\n",
    "        \n",
    "        # MANTENIMIENTO MAQUINA DE DOBLADO\n",
    "        if (work_center == 'doblado') and (self.mant == True):\n",
    "            self.print_evt(self.env, type=1, lot=lot, product=product_code, workcenter=work_center, msg=f'EN ESPERA POR MANTENIMIENTO.')\n",
    "            while self.mant:yield self.env.timeout(1)\n",
    "\n",
    "        # MATERIA PRIMA\n",
    "        if work_center in ('corte_m', 'corte_w', 'pintura'):    \n",
    "            raw_code, raw_q = self.get_rawqty(product_code, work_center, qty, color)\n",
    "            self.print_evt(self.env, type=5, lot=lot, product=product_code, workcenter=work_center, msg=f'SOLICITANDO {raw_code.upper()} {(raw_q*qty):.2f} UND.')\n",
    "            \n",
    "            req_mp = self.raw_material[raw_code].get(qty*raw_q)\n",
    "            \n",
    "            try: \n",
    "                _ = req_mp.ok\n",
    "            except:\n",
    "                self.print_evt(self.env, type=1, lot=lot, product=product_code, workcenter=work_center, msg=f'SIN STOCK DE {raw_code.upper()} ({(self.raw_material[raw_code].level):.2f}).SE REQUIEREN {(raw_q*qty):.2f} UND.')\n",
    "\n",
    "            yield req_mp\n",
    "\n",
    "\n",
    "            self.print_evt(self.env, type=3, lot=lot, product=product_code, workcenter=work_center, msg=f'ALMACÉN DE {raw_code.upper()} QUEDA EN {(self.raw_material[raw_code].level):.2f}  UND.')\n",
    "                \n",
    "        # REQUERIMIENTO DE MANO DE OBRA\n",
    "        self.print_evt(self.env, type=3, lot=lot, product=product_code, workcenter=work_center, msg=f'SOLICITANDO OPERARIO.')\n",
    "        if work_center!='corte_m':\n",
    "            worker_req = self.workers[work_center].request()\n",
    "            yield worker_req\n",
    "        else:\n",
    "            if self.workers_corte_m.level==0:\n",
    "                self.print_evt(self.env, type=1, lot=lot, product=product_code, workcenter=work_center, msg=f'EN ESPERA POR OPERARIO.')\n",
    "            while self.workers_corte_m.level==0:\n",
    "                jj = ceil(self.env.now/self.worked_minutes)\n",
    "                yield self.env.timeout( (jj*self.worked_minutes) - self.env.now + 1 )\n",
    "            yield self.workers_corte_m.get(1)\n",
    "        \n",
    "        # SETUP (PINTURA)\n",
    "        if work_center=='pintura':\n",
    "            self.print_evt(self.env, type=6, lot=lot, product=product_code, workcenter=work_center,  msg=f'REALIZANDO SETUP.')\n",
    "            yield self.env.timeout(self.get_setupTime(color))\n",
    "            self.print_evt(self.env, type=6, lot=lot, product=product_code, workcenter=work_center,  msg=f'SETUP FINALIZADO.')\n",
    "        \n",
    "        # PROCESO DE PRODUCTO\n",
    "        self.print_evt(self.env, type=3, lot=lot, product=product_code, workcenter=work_center,  msg=f'PROCESANDO {qty} UND.')\n",
    "        process_time = self.get_processTime(product_code, work_center, qty)\n",
    "        yield self.env.timeout(process_time)\n",
    "        self.print_evt(self.env, type=2, lot=lot, product=product_code, workcenter=work_center,  msg=f'TEMINÓ DE PROCESAR {qty} UND.')\n",
    "        if (next_wc=='terminado'):\n",
    "            self.print_evt(self.env, type=2, lot=lot, product=product_code, workcenter=work_center, msg=f'{bcolors.ENDC}LOTE {next_wc.upper()}!!{bcolors.ENDC}')\n",
    "        else:\n",
    "            self.print_evt(self.env, type=3, lot=lot, product=product_code, workcenter=work_center, msg=f'PASA A SIGUIENTE OPERACION {next_wc.upper()}.')\n",
    "\n",
    "\n",
    "        # LIBERA MANO DE OBRA\n",
    "        if work_center!='corte_m':\n",
    "            yield self.workers[work_center].release(worker_req)\n",
    "        else:\n",
    "            yield self.workers_corte_m.put(1)\n",
    "\n",
    "        # AGREGA EL SEMIELABORADO/TERMINADO EN EL ALMACEN CORRESPONDIENTE\n",
    "        yield self.store[next_wc].put([lot, product_code])\n",
    "\n",
    "        # CONTROL DE FINALIZACIÓN\n",
    "        if ((next_wc=='terminado') and (len(self.store['terminado'].items)>=len(self.seq['despacho']))) or (self.env.now>self.tmax):\n",
    "            self.continuar = False\n",
    "            self.end_date = self.get_date(self.env)\n",
    "            self.end_min = self.env.now\n",
    "    \n",
    "    # --------------------------------------------------------------------------------------------------------\n",
    "\n",
    "    # FUNCIONES PRINCIPALES\n",
    "    \n",
    "    def main_operation(self, env, work_center):\n",
    "        lote_idx = 0\n",
    "        while self.continuar:\n",
    "            # busca y remueve el siguiente semielaborado disponible\n",
    "            i1 = yield self.store[work_center].get(lambda i: i[0]==self.seq[work_center][lote_idx][0]) \n",
    "            prod = self.seq[work_center][lote_idx][1]\n",
    "            lot = self.seq[work_center][lote_idx][0]\n",
    "            qty = self.seq[work_center][lote_idx][2]\n",
    "            next_wc = self.seq[work_center][lote_idx][3]\n",
    "            color = self.seq[work_center][lote_idx][4]\n",
    "            if next_wc is None: next_wc = 'terminado'\n",
    "            env.process(self.operation(env, work_center, prod, lot, qty, next_wc, color))\n",
    "            lote_idx += 1\n",
    "            if (lote_idx>=len(self.seq[work_center])): break\n",
    "\n",
    "    def ausentismo(self, env):\n",
    "        while self.continuar:\n",
    "            ausentes = sum(np.random.choice(a=[1,0], p=[self.p_ausentismo, 1-self.p_ausentismo], size=self.workers_corte_m.capacity))\n",
    "            if ausentes>0:                    \n",
    "                yield self.workers_corte_m.get(ausentes)\n",
    "                self.print_evt(self.env, type=1, lot='', product='', workcenter='CORTE_M',  msg=f'AUSENTISMO {ausentes} OPERARIO/S.')\n",
    "                yield self.env.timeout(self.worked_minutes-1)\n",
    "                yield self.workers_corte_m.put(ausentes)                    \n",
    "                self.print_evt(self.env, type=1, lot='', product='', workcenter='CORTE_M',  msg=f'FIN DE DIA DE AUSENTISMO.')\n",
    "            yield self.env.timeout(    (ceil(self.env.now/self.worked_minutes)*self.worked_minutes) - self.env.now  )\n",
    "\n",
    "                    \n",
    "    def reaprovisionamiento(self, env):\n",
    "        self.next_reaprov = self.reaprov[0]\n",
    "        while self.continuar:\n",
    "            self.reaprov.remove(self.next_reaprov)\n",
    "            yield self.env.timeout(self.next_reaprov[0])\n",
    "            self.print_evt(self.env, type=5, lot='', product='', workcenter='', msg=f'ALTA DE STOCK {self.next_reaprov[1].upper()} {self.next_reaprov[2]:.2f} UND. TOTAL: {self.raw_material[self.next_reaprov[1]].level:.2f}.')\n",
    "            self.raw_material[self.next_reaprov[1]].put(self.next_reaprov[2])\n",
    "            if len(self.reaprov) == 0: break\n",
    "            self.next_reaprov = self.reaprov[0]\n",
    "    \n",
    "    # --------------------------------------------------------------------------------------------------------\n",
    "    \n",
    "    def mantenimiento(self, env):\n",
    "        self.next_fail = 1200 # abs(f.rvs(self.a_tbf, b_tbf, c_tbf, d_tbf)-self.last_maintenance) # lo fijo para generar una demora intencional\n",
    "        while self.continuar:\n",
    "            yield self.env.timeout(self.next_fail)\n",
    "            self.ttr = abs(np.random.normal(self.u_ttr,self.d_ttr))\n",
    "            self.print_evt(self.env, type=6, lot='', product='', workcenter='DOBLADO', msg=f'EN MANTENIMIENTO.')\n",
    "            self.mant = True\n",
    "            yield self.env.timeout(self.ttr)\n",
    "            self.next_fail = abs(f.rvs(self.a_tbf, b_tbf, c_tbf, d_tbf))\n",
    "            self.print_evt(self.env, type=6, lot='', product='', workcenter='DOBLADO', msg=f'MANTENIMIENTO FINALIZADO.')\n",
    "            self.mant = False\n",
    "            if self.next_fail>10000: break\n",
    "\n",
    "    def run(self):\n",
    "\n",
    "        self.env.process(self.ausentismo(self.env))\n",
    "\n",
    "        for i in list(self.wc.keys())[:-1]:\n",
    "            self.env.process(self.main_operation(self.env, i)) \n",
    "\n",
    "        self.env.process(self.reaprovisionamiento(self.env))\n",
    "\n",
    "        self.env.process(self.mantenimiento(self.env))\n",
    "\n",
    "        self.env.run()\n",
    "        \n",
    "        return self.end_min\n"
   ]
  },
  {
   "cell_type": "markdown",
   "metadata": {},
   "source": [
    "## EJECUCIÓN DEL MODELO"
   ]
  },
  {
   "cell_type": "markdown",
   "metadata": {},
   "source": [
    "##### convertir en bloque Python para activar la generación de una normal (y comentar la activacion de mantenimiento, reaprovisionamiento y ausentismo en la función \"run\")\n",
    "\n",
    "stk = {'madera': 15000,\n",
    " 'metal': 70000,\n",
    " 'laca': 7000,\n",
    " 'blanco': 1000,\n",
    " 'crema': 8000,\n",
    " 'marron': 5500,\n",
    " 'dorado': 1200,\n",
    " 'rojo': 5000,\n",
    " 'aluminio': 4200,\n",
    " 'negro': 1000}"
   ]
  },
  {
   "cell_type": "code",
   "execution_count": 24,
   "metadata": {},
   "outputs": [
    {
     "name": "stderr",
     "output_type": "stream",
     "text": [
      "100%|██████████| 3000/3000 [00:09<00:00, 305.84it/s]\n"
     ]
    }
   ],
   "source": [
    "sim_end = []                                                   # lista que guardará los tiempos de cada simulación\n",
    "verbose = 0                                                    # 99 todas, 0 ninguna\n",
    "iter = 3000                                                    # número de iteraciones\n",
    "\n",
    "for i in  tqdm(range(iter)):\n",
    "\n",
    "    s = modelo1(start_date = start_date, \n",
    "                start_seq = start_seq,\n",
    "                seq = seq, \n",
    "                wc = wc, \n",
    "                t_process = t_process, \n",
    "                t_rawqty = t_rawqty, \n",
    "                setup_color_matrix = setup_color_matrix, \n",
    "                p_ausentismo = p_ausentismo, \n",
    "                holidays = holidays, \n",
    "                stk = stk, \n",
    "                reaprov = reaprovisionamiento, \n",
    "                u_ttr = u_ttr, \n",
    "                d_ttr = d_ttr,\n",
    "                a_tbf = a_tbf,\n",
    "                b_tbf = b_tbf,\n",
    "                c_tbf = c_tbf,\n",
    "                d_tbf = d_tbf,\n",
    "                verbose = verbose,\n",
    "                tmax = 20000)\n",
    "    \n",
    "    end_min = s.run()\n",
    "    sim_end.append(end_min)                                 # agrega el valor a la lista\n",
    "\n",
    "    if verbose>0:\n",
    "        print(f'{bcolors.ENDC}{bcolors.UNDERLINE}FECHA FINALIZACIÓN ÚLTIMO LOTE: {s.end_date.strftime(\"%d-%m-%Y, %H:%M:%S\")} {s.end_min:.2f} (minutos).{bcolors.ENDC}')\n",
    "\n",
    "        for i in stk:\n",
    "            s1 = f'{bcolors.HEADER}STOCK ALMACEN {i.upper()}: '\n",
    "            s2 = f'{s.raw_material[i].level:.2f} UND.'\n",
    "            print(f'{s1.ljust(30)} {s2.rjust(15)}')\n",
    "\n"
   ]
  },
  {
   "cell_type": "markdown",
   "metadata": {},
   "source": [
    "## **ANÁLISIS DE RESULTADOS I**"
   ]
  },
  {
   "cell_type": "code",
   "execution_count": 25,
   "metadata": {},
   "outputs": [
    {
     "data": {
      "image/png": "[encoded data removed]",
      "text/plain": [
       "<Figure size 432x288 with 1 Axes>"
      ]
     },
     "metadata": {
      "needs_background": "light"
     },
     "output_type": "display_data"
    }
   ],
   "source": [
    "plt.hist(sim_end, bins=40, density=False)\n",
    "plt.show()"
   ]
  },
  {
   "cell_type": "markdown",
   "metadata": {},
   "source": [
    "**HASTA ACA B1**"
   ]
  },
  {
   "cell_type": "code",
   "execution_count": 26,
   "metadata": {},
   "outputs": [
    {
     "data": {
      "text/html": [
       "<div>\n",
       "<style scoped>\n",
       "    .dataframe tbody tr th:only-of-type {\n",
       "        vertical-align: middle;\n",
       "    }\n",
       "\n",
       "    .dataframe tbody tr th {\n",
       "        vertical-align: top;\n",
       "    }\n",
       "\n",
       "    .dataframe thead th {\n",
       "        text-align: right;\n",
       "    }\n",
       "</style>\n",
       "<table border=\"1\" class=\"dataframe\">\n",
       "  <thead>\n",
       "    <tr style=\"text-align: right;\">\n",
       "      <th></th>\n",
       "      <th>sumsquare_error</th>\n",
       "      <th>aic</th>\n",
       "      <th>bic</th>\n",
       "      <th>kl_div</th>\n",
       "    </tr>\n",
       "  </thead>\n",
       "  <tbody>\n",
       "    <tr>\n",
       "      <th>norm</th>\n",
       "      <td>0.000005</td>\n",
       "      <td>772.234840</td>\n",
       "      <td>-60424.102683</td>\n",
       "      <td>inf</td>\n",
       "    </tr>\n",
       "    <tr>\n",
       "      <th>expon</th>\n",
       "      <td>0.000007</td>\n",
       "      <td>694.243534</td>\n",
       "      <td>-59832.281363</td>\n",
       "      <td>inf</td>\n",
       "    </tr>\n",
       "    <tr>\n",
       "      <th>weibull_min</th>\n",
       "      <td>0.000010</td>\n",
       "      <td>867.371606</td>\n",
       "      <td>-58556.382073</td>\n",
       "      <td>inf</td>\n",
       "    </tr>\n",
       "    <tr>\n",
       "      <th>weibull_max</th>\n",
       "      <td>0.000011</td>\n",
       "      <td>867.255590</td>\n",
       "      <td>-58331.636190</td>\n",
       "      <td>inf</td>\n",
       "    </tr>\n",
       "  </tbody>\n",
       "</table>\n",
       "</div>"
      ],
      "text/plain": [
       "             sumsquare_error         aic           bic  kl_div\n",
       "norm                0.000005  772.234840 -60424.102683     inf\n",
       "expon               0.000007  694.243534 -59832.281363     inf\n",
       "weibull_min         0.000010  867.371606 -58556.382073     inf\n",
       "weibull_max         0.000011  867.255590 -58331.636190     inf"
      ]
     },
     "execution_count": 26,
     "metadata": {},
     "output_type": "execute_result"
    },
    {
     "data": {
      "image/png": "[encoded data removed]",
      "text/plain": [
       "<Figure size 432x288 with 1 Axes>"
      ]
     },
     "metadata": {
      "needs_background": "light"
     },
     "output_type": "display_data"
    }
   ],
   "source": [
    "# ajuste y obtención de parámetros ...\n",
    "\n",
    "ff = ft.Fitter(sim_end, bins=40, timeout=100, distributions=['norm', 'expon', 'weibull_max','weibull_min'])\n",
    "ff.fit()\n",
    "\n",
    "u = ff.get_best()['norm'][0]\n",
    "d = ff.get_best()['norm'][1]\n",
    "\n",
    "ff.summary()"
   ]
  },
  {
   "cell_type": "code",
   "execution_count": 27,
   "metadata": {},
   "outputs": [],
   "source": [
    "time_max = max(sim_end)\n",
    "time_min = min(sim_end)"
   ]
  },
  {
   "cell_type": "code",
   "execution_count": 28,
   "metadata": {},
   "outputs": [],
   "source": [
    "def get_date(tiempo):\n",
    "        dias = int(tiempo/s.worked_minutes)\n",
    "        day = s.start_date\n",
    "        day = day + dt.timedelta(days=1)\n",
    "        while dias>0:    \n",
    "            if (day.weekday()<5) and ((day.day, day.month, day.year) not in s.holidays): dias -= 1 \n",
    "            day = day + dt.timedelta(days=1)\n",
    "        day = day + dt.timedelta(days=-1)\n",
    "        dif = ((tiempo/s.worked_minutes)-int(tiempo/s.worked_minutes))*s.worked_minutes/60\n",
    "        if dif>3: dif += 1\n",
    "        day = day + dt.timedelta(hours=9+dif)\n",
    "        return day"
   ]
  },
  {
   "cell_type": "code",
   "execution_count": 29,
   "metadata": {},
   "outputs": [
    {
     "name": "stdout",
     "output_type": "stream",
     "text": [
      "distribución normal (u = 9939.26, d = 573.28)\n",
      "\n",
      "media = 9939.26 min (31-10-2024, 15:39:15)\n",
      "desvio = 573.28 min (02-10-2024, 10:33:16)\n",
      "\n",
      "min = 8854.73 min (29-10-2024, 13:34:43)\n",
      "max = 12410.13 min (07-11-2024, 16:50:07)\n"
     ]
    }
   ],
   "source": [
    "# mini reporte:\n",
    "\n",
    "print(f\"distribución normal (u = {u:.2f}, d = {d:.2f})\\n\")\n",
    "\n",
    "print(f'media = {u:.2f} min ({get_date(u).strftime(\"%d-%m-%Y, %H:%M:%S\")})')\n",
    "print(f'desvio = {d:.2f} min ({get_date(d).strftime(\"%d-%m-%Y, %H:%M:%S\")})\\n')\n",
    "\n",
    "print(f'min = {time_min:.2f} min ({get_date(time_min).strftime(\"%d-%m-%Y, %H:%M:%S\")})')\n",
    "print(f'max = {time_max:.2f} min ({get_date(time_max).strftime(\"%d-%m-%Y, %H:%M:%S\")})')\n"
   ]
  },
  {
   "cell_type": "code",
   "execution_count": 30,
   "metadata": {},
   "outputs": [
    {
     "name": "stdout",
     "output_type": "stream",
     "text": [
      "La probabilidad de terminar la producción antes del 24-10-2024, 17:59:00 es de 0.10 %.\n"
     ]
    }
   ],
   "source": [
    "from scipy.stats import norm\n",
    "\n",
    "valor = 8159\n",
    "\n",
    "# Calculamos la probabilidad P(X <= 8159)\n",
    "probabilidad = norm.cdf(valor, loc=u, scale=d)\n",
    "print(f'La probabilidad de terminar la producción antes del {get_date(valor).strftime(\"%d-%m-%Y, %H:%M:%S\")} es de {100*probabilidad:.2f} %.')"
   ]
  },
  {
   "cell_type": "code",
   "execution_count": 31,
   "metadata": {},
   "outputs": [
    {
     "name": "stdout",
     "output_type": "stream",
     "text": [
      "Se podrá terminar la producción antes del 04-11-2024, 10:53:56 con una probabilidad de 90%.\n"
     ]
    }
   ],
   "source": [
    "# Calculamos el valor de x que corresponde al percentil 90 (90% de probabilidad)\n",
    "percentil_90 = norm.ppf(0.90, loc=u, scale=d)\n",
    "print(f'Se podrá terminar la producción antes del {get_date(percentil_90).strftime(\"%d-%m-%Y, %H:%M:%S\")} con una probabilidad de 90%.' )"
   ]
  },
  {
   "cell_type": "markdown",
   "metadata": {},
   "source": [
    "**HASTA ACA B2**"
   ]
  },
  {
   "cell_type": "markdown",
   "metadata": {},
   "source": [
    "## **ANÁLISIS DE RESULTADOS II**"
   ]
  },
  {
   "cell_type": "code",
   "execution_count": 32,
   "metadata": {},
   "outputs": [
    {
     "data": {
      "image/png": "[encoded data removed]",
      "text/plain": [
       "<Figure size 432x288 with 1 Axes>"
      ]
     },
     "metadata": {
      "needs_background": "light"
     },
     "output_type": "display_data"
    }
   ],
   "source": [
    "plt.hist(sim_end, bins=40, density=True)\n",
    "\n",
    "#plt.axis(\"off\")\n",
    "plt.show()"
   ]
  },
  {
   "cell_type": "markdown",
   "metadata": {},
   "source": [
    "El resultado no parece ser una **distribución paramétrica**. En principio la principal causa de esto se debe al **ausentismo**. Tenemos que utilizar métodos para distribuciones no parámetricos a fin de obtener la información que necesitamos."
   ]
  },
  {
   "cell_type": "markdown",
   "metadata": {},
   "source": [
    "**HASTA ACA B3**"
   ]
  },
  {
   "cell_type": "code",
   "execution_count": 33,
   "metadata": {},
   "outputs": [
    {
     "name": "stdout",
     "output_type": "stream",
     "text": [
      "min = 8854.73 min (29-10-2024, 13:34:43)\n",
      "max = 12410.13 min (07-11-2024, 16:50:07)\n"
     ]
    }
   ],
   "source": [
    "print(f'min = {time_min:.2f} min ({get_date(min(sim_end)).strftime(\"%d-%m-%Y, %H:%M:%S\")})')\n",
    "print(f'max = {time_max:.2f} min ({get_date(max(sim_end)).strftime(\"%d-%m-%Y, %H:%M:%S\")})')"
   ]
  },
  {
   "cell_type": "code",
   "execution_count": 34,
   "metadata": {},
   "outputs": [
    {
     "name": "stdout",
     "output_type": "stream",
     "text": [
      "La probabilidad de terminar la producción antes del 24-10-2024, 17:59:00 es de 0.00 %.\n"
     ]
    }
   ],
   "source": [
    "valor = 8159\n",
    "\n",
    "p = len([x for x in sim_end if x < valor])/len(sim_end)\n",
    "\n",
    "print(f'La probabilidad de terminar la producción antes del {get_date(valor).strftime(\"%d-%m-%Y, %H:%M:%S\")} es de {100*p:.2f} %.')"
   ]
  },
  {
   "cell_type": "code",
   "execution_count": 35,
   "metadata": {},
   "outputs": [
    {
     "name": "stdout",
     "output_type": "stream",
     "text": [
      "Se podrá terminar la producción antes del 04-11-2024, 09:42:40 con una probabilidad de 90%.\n"
     ]
    }
   ],
   "source": [
    "fecha = np.percentile(sim_end, 90)\n",
    "\n",
    "print(f'Se podrá terminar la producción antes del {get_date(fecha).strftime(\"%d-%m-%Y, %H:%M:%S\")} con una probabilidad de 90%.' )\n"
   ]
  },
  {
   "cell_type": "markdown",
   "metadata": {},
   "source": []
  }
 ],
 "metadata": {
  "kernelspec": {
   "display_name": "base",
   "language": "python",
   "name": "python3"
  },
  "language_info": {
   "codemirror_mode": {
    "name": "ipython",
    "version": 3
   },
   "file_extension": ".py",
   "mimetype": "text/x-python",
   "name": "python",
   "nbconvert_exporter": "python",
   "pygments_lexer": "ipython3",
   "version": "3.8.8"
  }
 },
 "nbformat": 4,
 "nbformat_minor": 2
}
