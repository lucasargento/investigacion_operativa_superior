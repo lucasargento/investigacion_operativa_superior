{
 "cells": [
  {
   "cell_type": "markdown",
   "metadata": {},
   "source": [
    "## EJERCICIO 1: MODELO DE SIMULACIÓN. OBTENCIÓN DE DATOS"
   ]
  },
  {
   "cell_type": "markdown",
   "metadata": {},
   "source": [
    "#### CARGA DE BIBLIOTECAS"
   ]
  },
  {
   "cell_type": "code",
   "execution_count": 1,
   "metadata": {},
   "outputs": [],
   "source": [
    "import sqlite3     \n",
    "import matplotlib.pyplot as plt\n",
    "import fitter as ft\n",
    "import simpy as sim\n",
    "import numpy as np\n",
    "import datetime as dt\n",
    "import pandas as pd\n",
    "from scipy.stats import f\n",
    "from math import ceil"
   ]
  },
  {
   "cell_type": "markdown",
   "metadata": {},
   "source": [
    "## **DATOS**"
   ]
  },
  {
   "cell_type": "code",
   "execution_count": 2,
   "metadata": {},
   "outputs": [],
   "source": [
    "worked_minutes = 8*60               # cantidad de minutos efectivamente trabajados por día\n",
    "\n",
    "# CONECCIÓN A LA BASE DE DATOS\n",
    "\n",
    "conexion=sqlite3.connect(\"/Users/lucianosmith/Documents/Investigación Operativa 3/1C2025/demos/C07/T_C07-1C2025_integrador.db\")"
   ]
  },
  {
   "cell_type": "markdown",
   "metadata": {},
   "source": [
    "### **PLAN DE PRODUCCIÓN**"
   ]
  },
  {
   "cell_type": "code",
   "execution_count": 3,
   "metadata": {},
   "outputs": [
    {
     "data": {
      "text/plain": [
       "(datetime.datetime(2024, 10, 1, 0, 0), datetime.datetime(2024, 10, 26, 10, 0))"
      ]
     },
     "execution_count": 3,
     "metadata": {},
     "output_type": "execute_result"
    }
   ],
   "source": [
    "# obtengo la fecha de inicio de la planificacion y final de planificación\n",
    "\n",
    "m = conexion.execute(f\"select min(sch_startdate) from schedule;\")\n",
    "\n",
    "start_date = dt.datetime.strptime(m.fetchall()[0][0], '%Y-%m-%d %H:%M:%S')  # convierto el string en tipo de dato fecha\n",
    "\n",
    "m = conexion.execute(f\"select max(sch_enddate) from schedule;\")\n",
    "\n",
    "end_date = dt.datetime.strptime(m.fetchall()[0][0], '%Y-%m-%d %H:%M:%S')    # convierto el string en tipo de dato fecha\n",
    "\n",
    "start_date, end_date"
   ]
  },
  {
   "cell_type": "markdown",
   "metadata": {},
   "source": [
    "### SECUENCIAS"
   ]
  },
  {
   "cell_type": "code",
   "execution_count": 4,
   "metadata": {},
   "outputs": [
    {
     "data": {
      "text/plain": [
       "{'corte_m': [('SO#4001', 'VEZMU1EQ', 34, 'doblado', 'rojo'),\n",
       "  ('SO#4002', 'QTROUV79', 23, 'doblado', 'blanco')],\n",
       " 'corte_w': [('SO#4003', 'YUIIIP4W', 10, 'pintura', 'laca')]}"
      ]
     },
     "execution_count": 4,
     "metadata": {},
     "output_type": "execute_result"
    }
   ],
   "source": [
    "# SECUENCIA INICIAL  formato: {(lote, producto, cantidad, siguiente_wc, color)}\n",
    "# OBJETIVO: Necesito contar con información sobre la secuencia que cargo en las maquinas que dan inivio a la producción ...\n",
    "# luego el sistema depende de cuando estas operaciones terminen para continuar. En otras palabras: \"es el pool de inicio\"\n",
    "\n",
    "start_seq = {}  # secuencia inicial\n",
    "seq = {}        # secuencia completa\n",
    "\n",
    "m = conexion.execute(f\"select sch_task, sch_lot, sch_product, sal_qty, \"+\n",
    "                     \"(select p.prs_workcenter from process p where p.prs_product = sch_product and p.prs_prev=x.prs_code), \"+\n",
    "                     \"sch_color from schedule, process x, sales where sal_so=sch_lot and x.prs_workcenter=sch_task and \"+\n",
    "                     \"x.prs_product=sch_product and x.prs_prev=-1 order by sch_startdate asc;\")\n",
    "\n",
    "for i in m.fetchall():\n",
    "    if i[0] in start_seq: \n",
    "        start_seq[i[0]].append((i[1], i[2], i[3], i[4], i[5])) # si existe el worck center hace un append\n",
    "        seq[i[0]].append((i[1], i[2], i[3], i[4], i[5]))\n",
    "    else:\n",
    "        start_seq.update({i[0]: [(i[1], i[2], i[3], i[4], i[5])]})\n",
    "        seq.update({i[0]: [(i[1], i[2], i[3], i[4], i[5])]})\n",
    "\n",
    "start_seq"
   ]
  },
  {
   "cell_type": "code",
   "execution_count": 5,
   "metadata": {},
   "outputs": [
    {
     "data": {
      "text/plain": [
       "{'corte_m': [('SO#4001', 'VEZMU1EQ', 34, 'doblado', 'rojo'),\n",
       "  ('SO#4002', 'QTROUV79', 23, 'doblado', 'blanco')],\n",
       " 'corte_w': [('SO#4003', 'YUIIIP4W', 10, 'pintura', 'laca'),\n",
       "  ('SO#4002', 'QTROUV79', 23, 'tapizado', 'blanco')],\n",
       " 'pintura': [('SO#4003', 'YUIIIP4W', 10, 'despacho', 'laca'),\n",
       "  ('SO#4001', 'VEZMU1EQ', 34, 'despacho', 'rojo'),\n",
       "  ('SO#4002', 'QTROUV79', 23, 'despacho', 'blanco')],\n",
       " 'despacho': [('SO#4003', 'YUIIIP4W', 10, None, 'laca'),\n",
       "  ('SO#4001', 'VEZMU1EQ', 34, None, 'rojo'),\n",
       "  ('SO#4002', 'QTROUV79', 23, None, 'blanco')],\n",
       " 'doblado': [('SO#4002', 'QTROUV79', 23, 'soldado', 'blanco'),\n",
       "  ('SO#4001', 'VEZMU1EQ', 34, 'soldado', 'rojo')],\n",
       " 'soldado': [('SO#4002', 'QTROUV79', 23, 'corte_w', 'blanco'),\n",
       "  ('SO#4001', 'VEZMU1EQ', 34, 'pintura', 'rojo')],\n",
       " 'tapizado': [('SO#4002', 'QTROUV79', 23, 'pintura', 'blanco')]}"
      ]
     },
     "execution_count": 5,
     "metadata": {},
     "output_type": "execute_result"
    }
   ],
   "source": [
    "# SECUENCIA COMPLETA  formato: {(lote, producto, cantidad, siguiente_wc, color)}\n",
    "# OBJETIVO: Necesito la secuencia completa de todas las operaciones. Recordar que el plan me informa la secuencia e información del\n",
    "# momento de comienzo de las operaciones de iniciales. Luego, el progreso depende de, en este caso, factores estocásticos.\n",
    "\n",
    "m = conexion.execute(f\"select sch_task, sch_lot, sch_product, sal_qty, (select p.prs_workcenter from process p where p.prs_product = sch_product and p.prs_prev=x.prs_code), sch_color from schedule, process x, sales where sal_so=sch_lot and x.prs_workcenter=sch_task and x.prs_product=sch_product and x.prs_prev>-1 order by sch_startdate asc;\")\n",
    "\n",
    "for i in m.fetchall():\n",
    "    if i[0] in seq: \n",
    "        seq[i[0]].append((i[1], i[2], i[3], i[4], i[5])) \n",
    "    else:\n",
    "        seq.update({i[0]: [(i[1], i[2], i[3], i[4], i[5])]})\n",
    "\n",
    "seq"
   ]
  },
  {
   "cell_type": "markdown",
   "metadata": {},
   "source": [
    "### **DATOS DE LOS PROCESOS**\n"
   ]
  },
  {
   "cell_type": "code",
   "execution_count": 6,
   "metadata": {},
   "outputs": [
    {
     "data": {
      "text/plain": [
       "{'corte_m': 2,\n",
       " 'doblado': 1,\n",
       " 'soldado': 2,\n",
       " 'corte_w': 2,\n",
       " 'tapizado': 1,\n",
       " 'pintura': 1,\n",
       " 'despacho': 3}"
      ]
     },
     "execution_count": 6,
     "metadata": {},
     "output_type": "execute_result"
    }
   ],
   "source": [
    "# EMPLEADOS POR CENTRO DE TRABAJO\n",
    "# Obtengo un diccionario con la cantidad de empleados que cuento en cada centro de trabajo.\n",
    "\n",
    "wc = {}\n",
    "wcq = conexion.execute(f\"select woc_code, woc_employees from work_center;\")\n",
    "for i in wcq:\n",
    "    wc.update({i[0]: i[1]})\n",
    "\n",
    "wc"
   ]
  },
  {
   "cell_type": "code",
   "execution_count": 7,
   "metadata": {},
   "outputs": [
    {
     "data": {
      "text/plain": [
       "{('VEZMU1EQ', 'corte_m'): (2, 48, 60),\n",
       " ('VEZMU1EQ', 'doblado'): (1, 38, 9.4),\n",
       " ('VEZMU1EQ', 'soldado'): (2, 56, 71),\n",
       " ('VEZMU1EQ', 'pintura'): (1, 36, 8.4),\n",
       " ('VEZMU1EQ', 'despacho'): (2, 20, 30),\n",
       " ('QTROUV79', 'corte_m'): (2, 45, 60),\n",
       " ('QTROUV79', 'doblado'): (1, 23, 8.7),\n",
       " ('QTROUV79', 'soldado'): (2, 32, 38),\n",
       " ('QTROUV79', 'corte_w'): (1, 34, 8.5),\n",
       " ('QTROUV79', 'tapizado'): (1, 102, 20.8),\n",
       " ('QTROUV79', 'pintura'): (1, 36, 9.8),\n",
       " ('QTROUV79', 'despacho'): (2, 34, 45),\n",
       " ('YUIIIP4W', 'corte_w'): (1, 23, 5.4),\n",
       " ('YUIIIP4W', 'pintura'): (1, 15, 2.4),\n",
       " ('YUIIIP4W', 'despacho'): (2, 24, 34)}"
      ]
     },
     "execution_count": 7,
     "metadata": {},
     "output_type": "execute_result"
    }
   ],
   "source": [
    "# TIEMPO DE PROCESO  formato {(producto, work center): (distribución, media/min, desvio/max)}\n",
    "# La variabilidad de los tiempos se registró en la BD en forma de distribuciones. Busco dicha infomración.\n",
    "# distribucion 1 = normal\n",
    "# distribucion 2 = uniforme\n",
    "\n",
    "m = conexion.execute(f\"select prs_product, prs_workcenter, prs_time, prs_deviation, prs_distribution from process;\")\n",
    "\n",
    "t_process = {}\n",
    "\n",
    "for i in m.fetchall(): \n",
    "        t_process.update({(i[0], i[1]): (i[4], i[2], i[3])})\n",
    "\n",
    "t_process"
   ]
  },
  {
   "cell_type": "code",
   "execution_count": 8,
   "metadata": {},
   "outputs": [
    {
     "data": {
      "text/plain": [
       "{('VEZMU1EQ', 'corte_m'): 4.8,\n",
       " ('VEZMU1EQ', 'doblado'): 0,\n",
       " ('VEZMU1EQ', 'soldado'): 0,\n",
       " ('VEZMU1EQ', 'pintura'): 0.9,\n",
       " ('VEZMU1EQ', 'despacho'): 0,\n",
       " ('QTROUV79', 'corte_m'): 4.5,\n",
       " ('QTROUV79', 'doblado'): 0,\n",
       " ('QTROUV79', 'soldado'): 0,\n",
       " ('QTROUV79', 'corte_w'): 1.8,\n",
       " ('QTROUV79', 'tapizado'): 0,\n",
       " ('QTROUV79', 'pintura'): 0.3,\n",
       " ('QTROUV79', 'despacho'): 0,\n",
       " ('YUIIIP4W', 'corte_w'): 7.8,\n",
       " ('YUIIIP4W', 'pintura'): 0.8,\n",
       " ('YUIIIP4W', 'despacho'): 0}"
      ]
     },
     "execution_count": 8,
     "metadata": {},
     "output_type": "execute_result"
    }
   ],
   "source": [
    "# CONSUMO DE MATERIA PRIMA  formato {(producto, proceso): cantidad}\n",
    "# genero un diccionario con indices (producto, proceso) para obtener la cantidad de MP que se consume en cada operación \n",
    "# (y que varia por producto).\n",
    "\n",
    "m = conexion.execute(f\"select prs_product, prs_workcenter, prs_rawqty from process;\")\n",
    "\n",
    "t_rawqty = {}\n",
    "\n",
    "for i in m.fetchall(): \n",
    "        t_rawqty.update({(i[0], i[1]): i[2]})\n",
    "\n",
    "t_rawqty\n"
   ]
  },
  {
   "cell_type": "code",
   "execution_count": 9,
   "metadata": {},
   "outputs": [
    {
     "data": {
      "text/plain": [
       "{('laca', 'laca'): 25,\n",
       " ('laca', 'blanco'): 25,\n",
       " ('laca', 'crema'): 25,\n",
       " ('laca', 'marrón'): 25,\n",
       " ('laca', 'dorado'): 25,\n",
       " ('laca', 'rojo'): 25,\n",
       " ('laca', 'aluminio'): 25,\n",
       " ('laca', 'negro'): 25,\n",
       " ('blanco', 'laca'): 50,\n",
       " ('blanco', 'blanco'): 25,\n",
       " ('blanco', 'crema'): 30,\n",
       " ('blanco', 'marrón'): 30,\n",
       " ('blanco', 'dorado'): 30,\n",
       " ('blanco', 'rojo'): 30,\n",
       " ('blanco', 'aluminio'): 30,\n",
       " ('blanco', 'negro'): 30,\n",
       " ('crema', 'laca'): 50,\n",
       " ('crema', 'blanco'): 40,\n",
       " ('crema', 'crema'): 25,\n",
       " ('crema', 'marrón'): 30,\n",
       " ('crema', 'dorado'): 30,\n",
       " ('crema', 'rojo'): 30,\n",
       " ('crema', 'aluminio'): 30,\n",
       " ('crema', 'negro'): 30,\n",
       " ('marrón', 'laca'): 50,\n",
       " ('marrón', 'blanco'): 50,\n",
       " ('marrón', 'crema'): 50,\n",
       " ('marrón', 'marrón'): 25,\n",
       " ('marrón', 'dorado'): 30,\n",
       " ('marrón', 'rojo'): 50,\n",
       " ('marrón', 'aluminio'): 50,\n",
       " ('marrón', 'negro'): 30,\n",
       " ('dorado', 'laca'): 50,\n",
       " ('dorado', 'blanco'): 50,\n",
       " ('dorado', 'crema'): 50,\n",
       " ('dorado', 'marrón'): 30,\n",
       " ('dorado', 'dorado'): 25,\n",
       " ('dorado', 'rojo'): 50,\n",
       " ('dorado', 'aluminio'): 30,\n",
       " ('dorado', 'negro'): 30,\n",
       " ('rojo', 'laca'): 50,\n",
       " ('rojo', 'blanco'): 50,\n",
       " ('rojo', 'crema'): 50,\n",
       " ('rojo', 'marrón'): 40,\n",
       " ('rojo', 'dorado'): 50,\n",
       " ('rojo', 'rojo'): 25,\n",
       " ('rojo', 'aluminio'): 50,\n",
       " ('rojo', 'negro'): 30,\n",
       " ('aluminio', 'laca'): 50,\n",
       " ('aluminio', 'blanco'): 50,\n",
       " ('aluminio', 'crema'): 40,\n",
       " ('aluminio', 'marrón'): 40,\n",
       " ('aluminio', 'dorado'): 40,\n",
       " ('aluminio', 'rojo'): 50,\n",
       " ('aluminio', 'aluminio'): 25,\n",
       " ('aluminio', 'negro'): 25,\n",
       " ('negro', 'laca'): 50,\n",
       " ('negro', 'blanco'): 50,\n",
       " ('negro', 'crema'): 50,\n",
       " ('negro', 'marrón'): 50,\n",
       " ('negro', 'dorado'): 50,\n",
       " ('negro', 'rojo'): 50,\n",
       " ('negro', 'aluminio'): 50,\n",
       " ('negro', 'negro'): 25}"
      ]
     },
     "execution_count": 9,
     "metadata": {},
     "output_type": "execute_result"
    }
   ],
   "source": [
    "# MATRIZ DE TIEMPOS DE CAMBIO DE COLOR  formato {(color1, color2) : tiempo} \n",
    "# obtengo la matriz de cambio (de color) de la base de datos y así genero un diccionario (de color, a color) \n",
    "# que me devuelve el tiempo para pasar de un color a otro.\n",
    "\n",
    "m = conexion.execute(f\"select c1.col_desc, c2.col_desc, cot_time from color_table, colors c1, colors c2 where c1.col_code = cot_orig and c2.col_code = cot_dest;\")\n",
    "\n",
    "setup_color_matrix = {}\n",
    "\n",
    "for i in m.fetchall(): \n",
    "        setup_color_matrix.update({(i[0], i[1]): (i[2])})     \n",
    "\n",
    "setup_color_matrix"
   ]
  },
  {
   "cell_type": "code",
   "execution_count": 10,
   "metadata": {},
   "outputs": [
    {
     "name": "stdout",
     "output_type": "stream",
     "text": [
      "0.15349740932642486\n"
     ]
    }
   ],
   "source": [
    "# CALCULO DE AUSENTISMO (work center: CORTE)\n",
    "# El centro de trabajo de CORTE tiene ausentismo. Hay cierta probabilidad de que un operario falte.\n",
    "# debo calcular cual es la probabilidad en base al historico de ausentismo.\n",
    "\n",
    "a = conexion.execute(f\"select count(*) from attendance where att_attendance = 1 and att_workcenter = 'CORTE';\")\n",
    "b = conexion.execute(f\"select count(*) from attendance where att_workcenter = 'CORTE';\")\n",
    "p_ausentismo = 1-(a.fetchall()[0][0]/b.fetchall()[0][0])\n",
    "\n",
    "print(p_ausentismo)"
   ]
  },
  {
   "cell_type": "code",
   "execution_count": 11,
   "metadata": {},
   "outputs": [
    {
     "data": {
      "text/plain": [
       "[(25, 10, 2024), (3, 10, 2024)]"
      ]
     },
     "execution_count": 11,
     "metadata": {},
     "output_type": "execute_result"
    }
   ],
   "source": [
    "# FERIADOS formato (dia, mes, año)\n",
    "# Obtengo los días feriados.\n",
    "\n",
    "s = conexion.execute(f\"select * from feriados;\")\n",
    "holidays = []\n",
    "for i in s.fetchall():\n",
    "    holidays.append( (i[0],i[1],i[2]) )\n",
    "\n",
    "holidays"
   ]
  },
  {
   "cell_type": "markdown",
   "metadata": {},
   "source": [
    "### **INFORMACION DE ALMACENAMIENTO**"
   ]
  },
  {
   "cell_type": "code",
   "execution_count": 12,
   "metadata": {},
   "outputs": [
    {
     "data": {
      "text/plain": [
       "{'madera': 1500,\n",
       " 'metal': 7000,\n",
       " 'laca': 70,\n",
       " 'blanco': 100,\n",
       " 'crema': 80,\n",
       " 'marron': 55,\n",
       " 'dorado': 12,\n",
       " 'rojo': 500,\n",
       " 'aluminio': 42,\n",
       " 'negro': 10}"
      ]
     },
     "execution_count": 12,
     "metadata": {},
     "output_type": "execute_result"
    }
   ],
   "source": [
    "# STOCK DE MATERIA PRIMA {codigo: cantidad inicial}\n",
    "# obtengo información de stock de MP.\n",
    "\n",
    "s = conexion.execute(f\"select * from stock;\")\n",
    "stk = {}\n",
    "for i in s.fetchall():\n",
    "    stk.update({i[1]: i[3]})\n",
    "\n",
    "stk"
   ]
  },
  {
   "cell_type": "code",
   "execution_count": 13,
   "metadata": {},
   "outputs": [
    {
     "data": {
      "text/plain": [
       "[(480, 'metal', 600),\n",
       " (480, 'madera', 300),\n",
       " (0, 'metal', 400),\n",
       " (0, 'laca', 30),\n",
       " (480, 'laca', 45),\n",
       " (0, 'blanco', 80),\n",
       " (0, 'crema', 30),\n",
       " (0, 'aluminio', 80),\n",
       " (1440, 'negro', 10),\n",
       " (960, 'marron', 12),\n",
       " (480, 'dorado', 30),\n",
       " (0, 'rojo', 250),\n",
       " (960, 'rojo', 300),\n",
       " (960, 'marron', 10),\n",
       " (480, 'aluminio', 80)]"
      ]
     },
     "execution_count": 13,
     "metadata": {},
     "output_type": "execute_result"
    }
   ],
   "source": [
    "# REAPROVISIONAMIENTO  formato [(minutos (dif), codigo materia prima, cantidad que ingresa)]\n",
    "# Obtengo las fechas y cantidades de MP que se va a reponer. La fecha la calculo en funcion de los minutos que pasan\n",
    "# desde el inicio de la produccion hasta la fecha de reaprovisionamiento.\n",
    "\n",
    "def get_min(fecha):\n",
    "    diff = fecha - start_date\n",
    "    min = 0\n",
    "    day = start_date\n",
    "    for d in range(diff.days):        \n",
    "        if (day.weekday()<5) and ((day.day, day.month, day.year) not in holidays): \n",
    "            min += worked_minutes\n",
    "        day = day + dt.timedelta(days=1)\n",
    "    return min\n",
    "\n",
    "reaprovisionamiento = []\n",
    "\n",
    "s = conexion.execute(f\"select * from to_receive where tre_status='waiting' order by tre_date asc;\")\n",
    "\n",
    "t0 = 0\n",
    "for i in s.fetchall():\n",
    "    tt = get_min(dt.datetime.strptime(i[4], '%Y-%m-%d'))\n",
    "    reaprovisionamiento.append((tt-t0, i[2], i[3]))\n",
    "    t0 = tt\n",
    "\n",
    "reaprovisionamiento"
   ]
  },
  {
   "cell_type": "markdown",
   "metadata": {},
   "source": [
    "### **MANTENIMIENTO**"
   ]
  },
  {
   "cell_type": "markdown",
   "metadata": {},
   "source": [
    "### AJUSTE DE TIEMPOS DE MANTENIMIENTO"
   ]
  },
  {
   "cell_type": "code",
   "execution_count": 14,
   "metadata": {},
   "outputs": [
    {
     "name": "stdout",
     "output_type": "stream",
     "text": [
      "{'norm': (138.992, 15.06412745564774)}\n"
     ]
    },
    {
     "data": {
      "image/png": "[encoded data removed]",
      "text/plain": [
       "<Figure size 432x288 with 1 Axes>"
      ]
     },
     "metadata": {
      "needs_background": "light"
     },
     "output_type": "display_data"
    }
   ],
   "source": [
    "# DOBLADORA (TTR)\n",
    "# En base a información historica de mantenimiento se obtiene la distribución del TTR de la dobladora.\n",
    "\n",
    "m = conexion.execute(f\"select mai_ttr from maintenance where mai_machine='DOBLADORA' and mai_type='C';\")\n",
    "d_ttr = [i[0] for i in m.fetchall()] \n",
    "\n",
    "# ajuste y obtención de parámetros\n",
    "\n",
    "f2 = ft.Fitter(d_ttr, bins=20, timeout=100, distributions=['norm', 'expon', 'weibull_max','weibull_min'])\n",
    "f2.fit()\n",
    "f2.summary()\n",
    "\n",
    "u_ttr = f2.get_best()['norm'][0]\n",
    "d_ttr = f2.get_best()['norm'][1]\n",
    "\n",
    "print(f2.get_best())"
   ]
  },
  {
   "cell_type": "code",
   "execution_count": 15,
   "metadata": {},
   "outputs": [
    {
     "name": "stdout",
     "output_type": "stream",
     "text": [
      "{'f': (3.447816595522619, 13.8683456034166, -14.313661056778123, 5977.9059421798975)}\n"
     ]
    },
    {
     "data": {
      "image/png": "[encoded data removed]",
      "text/plain": [
       "<Figure size 432x288 with 1 Axes>"
      ]
     },
     "metadata": {
      "needs_background": "light"
     },
     "output_type": "display_data"
    }
   ],
   "source": [
    "# DOBLADORA (TBF)\n",
    "# En base a información historica de mantenimiento se obtiene la distribución del TBF de la dobladora.\n",
    "\n",
    "m = conexion.execute(f\"select mai_tbf from maintenance where mai_machine='DOBLADORA' and mai_type='C';\")\n",
    "d_tbf = [i[0] for i in m.fetchall()] \n",
    "\n",
    "# ajuste y obtención de parámetros\n",
    "f1 = ft.Fitter(d_tbf, bins=20, timeout=100, distributions=['norm', 'expon','beta', 'f'])\n",
    "f1.fit()\n",
    "f1.summary()\n",
    "\n",
    "a_tbf = f1.get_best()['f'][0]\n",
    "b_tbf = f1.get_best()['f'][1]\n",
    "c_tbf = f1.get_best()['f'][2]\n",
    "d_tbf = f1.get_best()['f'][3]\n",
    "\n",
    "print(f1.get_best())"
   ]
  },
  {
   "cell_type": "code",
   "execution_count": 16,
   "metadata": {},
   "outputs": [],
   "source": [
    "conexion.close()"
   ]
  },
  {
   "cell_type": "code",
   "execution_count": null,
   "metadata": {},
   "outputs": [],
   "source": []
  }
 ],
 "metadata": {
  "kernelspec": {
   "display_name": "base",
   "language": "python",
   "name": "python3"
  },
  "language_info": {
   "codemirror_mode": {
    "name": "ipython",
    "version": 3
   },
   "file_extension": ".py",
   "mimetype": "text/x-python",
   "name": "python",
   "nbconvert_exporter": "python",
   "pygments_lexer": "ipython3",
   "version": "3.8.8"
  }
 },
 "nbformat": 4,
 "nbformat_minor": 2
}
