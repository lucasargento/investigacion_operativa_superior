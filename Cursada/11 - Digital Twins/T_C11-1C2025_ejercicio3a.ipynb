{
 "cells": [
  {
   "cell_type": "markdown",
   "metadata": {},
   "source": [
    "## EJERCICIO 3A: IMPRESIÓN DE EVENTOS"
   ]
  },
  {
   "cell_type": "markdown",
   "metadata": {},
   "source": [
    "#### CARGA DE BIBLIOTECAS"
   ]
  },
  {
   "cell_type": "code",
   "execution_count": 1,
   "metadata": {},
   "outputs": [],
   "source": [
    "import datetime as dt"
   ]
  },
  {
   "cell_type": "markdown",
   "metadata": {},
   "source": [
    "## **DEMO FUNCIÓN IMPRESIÓN**"
   ]
  },
  {
   "cell_type": "markdown",
   "metadata": {},
   "source": [
    "https://stackoverflow.com/questions/287871/how-do-i-print-colored-text-to-the-terminal"
   ]
  },
  {
   "cell_type": "code",
   "execution_count": 2,
   "metadata": {},
   "outputs": [],
   "source": [
    "a = 54.38485\n",
    "b = 'CORTE'\n",
    "c = 12.1\n",
    "d = 'PINTURA'"
   ]
  },
  {
   "cell_type": "code",
   "execution_count": 3,
   "metadata": {},
   "outputs": [
    {
     "name": "stdout",
     "output_type": "stream",
     "text": [
      "54.38485 [CORTE] 2025-05-20\n",
      "12.1 [PINTURA] 2025-05-20\n"
     ]
    }
   ],
   "source": [
    "print(f'{a} [{b}] {dt.date.today()}')\n",
    "print(f'{c} [{d}] {dt.date.today()}')"
   ]
  },
  {
   "cell_type": "code",
   "execution_count": 4,
   "metadata": {},
   "outputs": [
    {
     "name": "stdout",
     "output_type": "stream",
     "text": [
      "54.38 [  CORTE   ] 2025-05-20\n",
      "12.10 [ PINTURA  ] 2025-05-20\n"
     ]
    }
   ],
   "source": [
    "print(f'{a:.2f} [{b.center(10)}] {dt.date.today()}')\n",
    "print(f'{c:.2f} [{d.center(10)}] {dt.date.today()}')"
   ]
  },
  {
   "cell_type": "code",
   "execution_count": 5,
   "metadata": {},
   "outputs": [
    {
     "name": "stdout",
     "output_type": "stream",
     "text": [
      "\u001b[91m54.38 [  CORTE   ] 20-05-2025, 00:00:00\n",
      "\u001b[94m12.10 [ PINTURA  ] 20-05-2025, 00:00:00\n"
     ]
    }
   ],
   "source": [
    "print(f'\\033[91m{a:.2f} [{b.center(10)}] {dt.date.today().strftime(\"%d-%m-%Y, %H:%M:%S\")}')\n",
    "print(f'\\033[94m{c:.2f} [{d.center(10)}] {dt.date.today().strftime(\"%d-%m-%Y, %H:%M:%S\")}')\n",
    "\n"
   ]
  },
  {
   "cell_type": "code",
   "execution_count": null,
   "metadata": {},
   "outputs": [],
   "source": []
  }
 ],
 "metadata": {
  "kernelspec": {
   "display_name": "base",
   "language": "python",
   "name": "python3"
  },
  "language_info": {
   "codemirror_mode": {
    "name": "ipython",
    "version": 3
   },
   "file_extension": ".py",
   "mimetype": "text/x-python",
   "name": "python",
   "nbconvert_exporter": "python",
   "pygments_lexer": "ipython3",
   "version": "3.8.8"
  }
 },
 "nbformat": 4,
 "nbformat_minor": 2
}
