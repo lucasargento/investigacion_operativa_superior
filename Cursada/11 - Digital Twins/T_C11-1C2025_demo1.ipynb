{
 "cells": [
  {
   "cell_type": "code",
   "execution_count": 6,
   "metadata": {},
   "outputs": [],
   "source": [
    "from doepy import build     # biblioteca que permite hacer DoE (hay otras librerias similares) "
   ]
  },
  {
   "cell_type": "markdown",
   "metadata": {},
   "source": [
    "Vamos a utilizar tres métodos de DoE: Full Factorial y Latin Hypercube.\n",
    "\n",
    "Para los tres métodos utilizamos el mismo set de datos:\n",
    "\n",
    "\n",
    "\n",
    "\n",
    "\n",
    "<table>\n",
    "  <thead>\n",
    "    <tr>\n",
    "      <th>Factor</th>\n",
    "      <th>Nivel 1</th>\n",
    "      <th>Nivel 2</th>\n",
    "    </tr>\n",
    "  </thead>\n",
    "  <tbody>\n",
    "    <tr>\n",
    "      <td>Presión</td>\n",
    "      <td>40</td>\n",
    "      <td>70</td>\n",
    "    </tr>\n",
    "    <tr>\n",
    "      <td>Temperatura</td>\n",
    "      <td>290</td>\n",
    "      <td>320</td>\n",
    "    </tr>\n",
    "    <tr>\n",
    "      <td>Flujo</td>\n",
    "      <td>2</td>\n",
    "      <td>4</td>\n",
    "    </tr>\n",
    "    <tr>\n",
    "      <td>Tiempo</td>\n",
    "      <td>5</td>\n",
    "      <td>11</td>\n",
    "    </tr>\n",
    "  </tbody>\n",
    "</table>"
   ]
  },
  {
   "cell_type": "code",
   "execution_count": 7,
   "metadata": {},
   "outputs": [
    {
     "name": "stdout",
     "output_type": "stream",
     "text": [
      "    Pressure  Temperature  Flujo  Tiempo\n",
      "0       40.0        290.0    2.0     5.0\n",
      "1       70.0        290.0    2.0     5.0\n",
      "2       40.0        320.0    2.0     5.0\n",
      "3       70.0        320.0    2.0     5.0\n",
      "4       40.0        290.0    4.0     5.0\n",
      "5       70.0        290.0    4.0     5.0\n",
      "6       40.0        320.0    4.0     5.0\n",
      "7       70.0        320.0    4.0     5.0\n",
      "8       40.0        290.0    2.0    11.0\n",
      "9       70.0        290.0    2.0    11.0\n",
      "10      40.0        320.0    2.0    11.0\n",
      "11      70.0        320.0    2.0    11.0\n",
      "12      40.0        290.0    4.0    11.0\n",
      "13      70.0        290.0    4.0    11.0\n",
      "14      40.0        320.0    4.0    11.0\n",
      "15      70.0        320.0    4.0    11.0\n"
     ]
    }
   ],
   "source": [
    "# FULL FRACTORIAL\n",
    "\n",
    "s = build.full_fact({'Pressure':[40,70], 'Temperature':[290, 320], 'Flujo':[2,4], 'Tiempo':[5,11]})\n",
    "\n",
    "print(s)    # Imprimimos el resultado"
   ]
  },
  {
   "cell_type": "code",
   "execution_count": 8,
   "metadata": {},
   "outputs": [
    {
     "name": "stdout",
     "output_type": "stream",
     "text": [
      "    Pressure  Temperature  Flow rate       Time\n",
      "0  48.571429   290.000000   2.857143   8.428571\n",
      "1  70.000000   311.428571   2.571429   5.857143\n",
      "2  57.142857   307.142857   2.285714  11.000000\n",
      "3  65.714286   315.714286   2.000000   5.000000\n",
      "4  61.428571   298.571429   3.142857   9.285714\n",
      "5  40.000000   302.857143   4.000000   6.714286\n",
      "6  52.857143   294.285714   3.714286   7.571429\n",
      "7  44.285714   320.000000   3.428571  10.142857\n"
     ]
    }
   ],
   "source": [
    "# LATIN HYPERCUBE (CON 8 NIVELES)\n",
    "\n",
    "s = build.space_filling_lhs({'Pressure':[40,70],'Temperature':[290, 320],'Flow rate':[2,4],'Time':[5,11]}, num_samples = 8)\n",
    "\n",
    "print(s)    # Imprimimos el resultado"
   ]
  },
  {
   "cell_type": "code",
   "execution_count": null,
   "metadata": {},
   "outputs": [],
   "source": []
  }
 ],
 "metadata": {
  "kernelspec": {
   "display_name": "base",
   "language": "python",
   "name": "python3"
  },
  "language_info": {
   "codemirror_mode": {
    "name": "ipython",
    "version": 3
   },
   "file_extension": ".py",
   "mimetype": "text/x-python",
   "name": "python",
   "nbconvert_exporter": "python",
   "pygments_lexer": "ipython3",
   "version": "3.8.8"
  }
 },
 "nbformat": 4,
 "nbformat_minor": 2
}
