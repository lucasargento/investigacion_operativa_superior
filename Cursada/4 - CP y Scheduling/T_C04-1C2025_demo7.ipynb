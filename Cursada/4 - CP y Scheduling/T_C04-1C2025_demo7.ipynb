{
 "cells": [
  {
   "cell_type": "markdown",
   "metadata": {},
   "source": [
    "### DEMO 7: DIAGRAMA GANTT"
   ]
  },
  {
   "cell_type": "code",
   "execution_count": null,
   "metadata": {},
   "outputs": [],
   "source": [
    "# EJEMPLO RÁPIDO\n",
    "\n",
    "import docplex.cp.utils_visu as visu\n",
    "\n",
    "visu.interval(0,  10, 'lightgreen', 'A1')\n",
    "visu.interval(8,  20, 'pink', 'A2')\n",
    "visu.interval(18, 30, 'lightblue', 'A3')\n",
    "\n",
    "visu.show()"
   ]
  },
  {
   "cell_type": "code",
   "execution_count": null,
   "metadata": {},
   "outputs": [],
   "source": [
    "# MODELO ANTERIOR\n",
    "\n",
    "from docplex.cp.model import CpoModel\n",
    "\n",
    "m = CpoModel()\n",
    "\n",
    "t1 = m.interval_var(name = 't1')\n",
    "\n",
    "t2 = m.interval_var(start = 10, name = 't2')\n",
    "\n",
    "t3 = m.interval_var(optional = True, size = 20, name = 't3')\n",
    "\n",
    "t4 = m.interval_var(optional = True, size = 15, name = 't4')\n",
    "\n",
    "m.add(m.start_of(t1)==1)\n",
    "\n",
    "m.add(m.size_of(t1)>6)\n",
    "\n",
    "m.add(m.end_of(t2)>14)\n",
    "\n",
    "m.add(m.size_of(t2)>15)\n",
    "\n",
    "m.add(m.end_before_start(t1, t2, 2))\n",
    "\n",
    "a1 = m.interval_var(name = 'a1')\n",
    "\n",
    "m.add(m.span(a1, [t1, t2]))\n",
    "\n",
    "a2 = m.interval_var(name = 'a2')\n",
    "\n",
    "m.add(m.alternative(a2, [t3, t4]))\n",
    "\n",
    "m.add(m.end_before_start(a1, a2))\n",
    "\n",
    "s = m.solve()\n",
    "\n",
    "s.print_solution()"
   ]
  },
  {
   "cell_type": "code",
   "execution_count": null,
   "metadata": {},
   "outputs": [],
   "source": [
    "# DIAGRAMA GANTT\n",
    "\n",
    "import docplex.cp.utils_visu as visu\n",
    "\n",
    "if s.get_var_solution(t1).is_present(): visu.interval(s.get_var_solution(t1), 'orange', 'T1')\n",
    "if s.get_var_solution(t2).is_present(): visu.interval(s.get_var_solution(t2), 'lightgreen', 'T2')\n",
    "if s.get_var_solution(t3).is_present(): visu.interval(s.get_var_solution(t3), 'red', 'T3')\n",
    "if s.get_var_solution(t4).is_present(): visu.interval(s.get_var_solution(t4), 'lightcyan', 'T4')\n",
    "\n",
    "visu.show()"
   ]
  },
  {
   "cell_type": "code",
   "execution_count": null,
   "metadata": {},
   "outputs": [],
   "source": [
    "# OPERACIONES \"PADRE\"\n",
    "\n",
    "if s.get_var_solution(a1).is_present(): visu.interval(s.get_var_solution(a1), 'orange', 'A1')\n",
    "if s.get_var_solution(a2).is_present(): visu.interval(s.get_var_solution(a2), 'lightgreen', 'A2')\n",
    "visu.show()"
   ]
  }
 ],
 "metadata": {
  "kernelspec": {
   "display_name": "base",
   "language": "python",
   "name": "python3"
  },
  "language_info": {
   "codemirror_mode": {
    "name": "ipython",
    "version": 3
   },
   "file_extension": ".py",
   "mimetype": "text/x-python",
   "name": "python",
   "nbconvert_exporter": "python",
   "pygments_lexer": "ipython3",
   "version": "3.8.8"
  }
 },
 "nbformat": 4,
 "nbformat_minor": 2
}
