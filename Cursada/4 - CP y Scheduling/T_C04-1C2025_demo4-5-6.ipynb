{
 "cells": [
  {
   "cell_type": "markdown",
   "metadata": {},
   "source": [
    "### DEMO 4: INTERVALOS"
   ]
  },
  {
   "cell_type": "code",
   "execution_count": 1,
   "metadata": {},
   "outputs": [],
   "source": [
    "# BIBLIOTECAS\n",
    "from docplex.cp.model import CpoModel"
   ]
  },
  {
   "cell_type": "code",
   "execution_count": 10,
   "metadata": {},
   "outputs": [],
   "source": [
    "# DEMO 4(A)\n",
    "\n",
    "modelo1 = CpoModel()\n",
    "\n",
    "t1 = modelo1.interval_var(name = 't1')\n",
    "\n",
    "t2 = modelo1.interval_var(start = 10, name = 't2')\n",
    "\n",
    "t3 = modelo1.interval_var(optional = True, size = 20, name = 't3')\n",
    "\n",
    "t4 = modelo1.interval_var(optional = True, size = 15, name = 't4')"
   ]
  },
  {
   "cell_type": "code",
   "execution_count": 11,
   "metadata": {},
   "outputs": [],
   "source": [
    "# DEMO 4(B)\n",
    "\n",
    "modelo1.add(modelo1.start_of(t1)==1)\n",
    "\n",
    "modelo1.add(modelo1.size_of(t1)>6)\n",
    "\n",
    "modelo1.add(modelo1.end_of(t2)>14)\n",
    "\n",
    "modelo1.add(modelo1.size_of(t2)>15)"
   ]
  },
  {
   "cell_type": "code",
   "execution_count": 12,
   "metadata": {},
   "outputs": [],
   "source": [
    "# DEMO 4(C)\n",
    "\n",
    "modelo1.add(modelo1.presence_of(t3)+modelo1.presence_of(t4) == 1 )"
   ]
  },
  {
   "cell_type": "code",
   "execution_count": 13,
   "metadata": {},
   "outputs": [
    {
     "name": "stdout",
     "output_type": "stream",
     "text": [
      " ! --------------------------------------------------- CP Optimizer 22.1.0.0 --\n",
      " ! Satisfiability problem - 4 variables, 5 constraints\n",
      " ! Presolve      : 1 extractable eliminated\n",
      " ! Initial process time : 0.00s (0.00s extraction + 0.00s propagation)\n",
      " !  . Log search space  : 8.6 (before), 8.6 (after)\n",
      " !  . Memory usage      : 302.1 kB (before), 302.1 kB (after)\n",
      " ! Using parallel search with 8 workers.\n",
      " ! ----------------------------------------------------------------------------\n",
      " !               Branches  Non-fixed    W       Branch decision\n",
      " *                      5  0.01s        1            -\n",
      " ! ----------------------------------------------------------------------------\n",
      " ! Search completed, 1 solution found.\n",
      " ! ----------------------------------------------------------------------------\n",
      " ! Number of branches     : 30\n",
      " ! Number of fails        : 0\n",
      " ! Total memory usage     : 2.5 MB (2.5 MB CP Optimizer + 0.0 MB Concert)\n",
      " ! Time spent in solve    : 0.01s (0.01s engine + 0.00s extraction)\n",
      " ! Search speed (br. / s) : 3000.0\n",
      " ! ----------------------------------------------------------------------------\n",
      "-------------------------------------------------------------------------------\n",
      "Model constraints: 5, variables: integer: 0, interval: 4, sequence: 0\n",
      "Solve status: Feasible\n",
      "Search status: SearchCompleted, stop cause: SearchHasNotBeenStopped\n",
      "Solve time: 0.01 sec\n",
      "-------------------------------------------------------------------------------\n",
      "Variables:\n",
      "   t1 = IntervalVarValue(start=1, end=8, size=7)\n",
      "   t2 = IntervalVarValue(start=10, end=26, size=16)\n",
      "   t3 = ()\n",
      "   t4 = IntervalVarValue(start=0, end=15, size=15)\n"
     ]
    }
   ],
   "source": [
    "# DEMO 4 (RESOLUCIÓN)\n",
    "\n",
    "s = modelo1.solve()\n",
    "\n",
    "s.print_solution()"
   ]
  },
  {
   "cell_type": "markdown",
   "metadata": {},
   "source": [
    "### DEMO 5: RELACIONES DE PRECEDENCIA"
   ]
  },
  {
   "cell_type": "code",
   "execution_count": 14,
   "metadata": {},
   "outputs": [],
   "source": [
    "# MODELO ANTERIOR ...\n",
    "\n",
    "modelo2 = CpoModel()\n",
    "\n",
    "t1 = modelo2.interval_var(name = 't1')\n",
    "\n",
    "t2 = modelo2.interval_var(start = 10, name = 't2')\n",
    "\n",
    "t3 = modelo2.interval_var(optional = True, size = 20, name = 't3')\n",
    "\n",
    "t4 = modelo2.interval_var(optional = True, size = 15, name = 't4')\n",
    "\n",
    "modelo2.add(modelo2.start_of(t1)==1)\n",
    "\n",
    "modelo2.add(modelo2.size_of(t1)>6)\n",
    "\n",
    "modelo2.add(modelo2.end_of(t2)>14)\n",
    "\n",
    "modelo2.add(modelo2.size_of(t2)>15)\n",
    "\n",
    "modelo2.add(modelo2.presence_of(t3)+modelo2.presence_of(t4) == 1 )"
   ]
  },
  {
   "cell_type": "code",
   "execution_count": 15,
   "metadata": {},
   "outputs": [],
   "source": [
    "# RELACIONES DE PRECEDENCIA\n",
    "\n",
    "modelo2.add(modelo2.end_before_start(t1, t2, 2))    # t1 termina antes al menos 2 días antes de que comience t2\n",
    "\n",
    "modelo2.add(modelo2.end_of(t2) + 3 == modelo2.start_of(t3)) # t3 termina exactamente 3 días antes de que comience t4"
   ]
  },
  {
   "cell_type": "code",
   "execution_count": 16,
   "metadata": {},
   "outputs": [
    {
     "name": "stdout",
     "output_type": "stream",
     "text": [
      " ! --------------------------------------------------- CP Optimizer 22.1.0.0 --\n",
      " ! Satisfiability problem - 4 variables, 7 constraints\n",
      " ! Presolve      : 2 extractables eliminated\n",
      " ! Initial process time : 0.02s (0.02s extraction + 0.00s propagation)\n",
      " !  . Log search space  : 3.2 (before), 3.2 (after)\n",
      " !  . Memory usage      : 302.0 kB (before), 302.0 kB (after)\n",
      " ! Using parallel search with 8 workers.\n",
      " ! ----------------------------------------------------------------------------\n",
      " !               Branches  Non-fixed    W       Branch decision\n",
      " *                      2  0.03s        1            -\n",
      " ! ----------------------------------------------------------------------------\n",
      " ! Search completed, 1 solution found.\n",
      " ! ----------------------------------------------------------------------------\n",
      " ! Number of branches     : 12\n",
      " ! Number of fails        : 0\n",
      " ! Total memory usage     : 2.5 MB (2.5 MB CP Optimizer + 0.0 MB Concert)\n",
      " ! Time spent in solve    : 0.03s (0.01s engine + 0.02s extraction)\n",
      " ! Search speed (br. / s) : 1200.0\n",
      " ! ----------------------------------------------------------------------------\n",
      "-------------------------------------------------------------------------------\n",
      "Model constraints: 7, variables: integer: 0, interval: 4, sequence: 0\n",
      "Solve status: Feasible\n",
      "Search status: SearchCompleted, stop cause: SearchHasNotBeenStopped\n",
      "Solve time: 0.03 sec\n",
      "-------------------------------------------------------------------------------\n",
      "Variables:\n",
      "   t1 = IntervalVarValue(start=1, end=8, size=7)\n",
      "   t2 = IntervalVarValue(start=10, end=26, size=16)\n",
      "   t3 = IntervalVarValue(start=29, end=49, size=20)\n",
      "   t4 = ()\n"
     ]
    }
   ],
   "source": [
    "# DEMO 5 (RESOLUCIÓN)\n",
    "\n",
    "s2 = modelo2.solve()\n",
    "\n",
    "s2.print_solution()"
   ]
  },
  {
   "cell_type": "markdown",
   "metadata": {},
   "source": [
    "### DEMO 6: RELACIONES DE JERARQUÍA"
   ]
  },
  {
   "cell_type": "code",
   "execution_count": 20,
   "metadata": {},
   "outputs": [],
   "source": [
    "# MODELO ANTERIOR ...\n",
    "\n",
    "modelo3 = CpoModel()\n",
    "\n",
    "t1 = modelo3.interval_var(name = 't1')\n",
    "\n",
    "t2 = modelo3.interval_var(start = 10, name = 't2')\n",
    "\n",
    "t3 = modelo3.interval_var(optional = True, size = 20, name = 't3')\n",
    "\n",
    "t4 = modelo3.interval_var(optional = True, size = 15, name = 't4')\n",
    "\n",
    "modelo3.add(modelo3.start_of(t1)==1)\n",
    "\n",
    "modelo3.add(modelo3.size_of(t1)>6)\n",
    "\n",
    "modelo3.add(modelo3.end_of(t2)>14)\n",
    "\n",
    "modelo3.add(modelo3.size_of(t2)>15)\n",
    "\n",
    "# modelo3.add(modelo3.presence_of(t3)+modelo3.presence_of(t4) == 1 )\n",
    "\n",
    "modelo3.add(modelo3.end_before_start(t1, t2, 2))\n",
    "\n",
    "# modelo2.add(modelo2.end_of(t2) + 3 == modelo2.start_of(t3) + modelo2.start_of(t4)) # t3 termina exactamente 3 días antes de que comience t4"
   ]
  },
  {
   "cell_type": "code",
   "execution_count": 21,
   "metadata": {},
   "outputs": [],
   "source": [
    "# SPAN & ALTERNATIVE\n",
    "\n",
    "# SPAN. \n",
    "# t1 y t2 son hijas del intervalo a1\n",
    "\n",
    "a1 = modelo3.interval_var(name = 'a1')\n",
    "\n",
    "modelo3.add(modelo3.span(a1, [t1, t2]))\n",
    "\n",
    "# ALTERNATIVE. \n",
    "# El intervalo a2 elije entre t3 y t4\n",
    "\n",
    "a2 = modelo3.interval_var(name = 'a2')\n",
    "\n",
    "modelo3.add(modelo3.alternative(a2, [t3, t4]))\n",
    "\n",
    "# ENCADENO a1 y a2\n",
    "\n",
    "modelo3.add(modelo3.end_before_start(a1, a2))\n"
   ]
  },
  {
   "cell_type": "code",
   "execution_count": 22,
   "metadata": {},
   "outputs": [
    {
     "name": "stdout",
     "output_type": "stream",
     "text": [
      " ! --------------------------------------------------- CP Optimizer 22.1.0.0 --\n",
      " ! Satisfiability problem - 6 variables, 8 constraints\n",
      " ! Initial process time : 0.01s (0.01s extraction + 0.00s propagation)\n",
      " !  . Log search space  : 5.8 (before), 5.8 (after)\n",
      " !  . Memory usage      : 302.2 kB (before), 302.2 kB (after)\n",
      " ! Using parallel search with 8 workers.\n",
      " ! ----------------------------------------------------------------------------\n",
      " !               Branches  Non-fixed    W       Branch decision\n",
      " *                      4  0.02s        1            -\n",
      " ! ----------------------------------------------------------------------------\n",
      " ! Search completed, 1 solution found.\n",
      " ! ----------------------------------------------------------------------------\n",
      " ! Number of branches     : 24\n",
      " ! Number of fails        : 0\n",
      " ! Total memory usage     : 2.5 MB (2.5 MB CP Optimizer + 0.0 MB Concert)\n",
      " ! Time spent in solve    : 0.02s (0.01s engine + 0.01s extraction)\n",
      " ! Search speed (br. / s) : 2400.0\n",
      " ! ----------------------------------------------------------------------------\n",
      "-------------------------------------------------------------------------------\n",
      "Model constraints: 8, variables: integer: 0, interval: 6, sequence: 0\n",
      "Solve status: Feasible\n",
      "Search status: SearchCompleted, stop cause: SearchHasNotBeenStopped\n",
      "Solve time: 0.02 sec\n",
      "-------------------------------------------------------------------------------\n",
      "Variables:\n",
      "   a1 = IntervalVarValue(start=1, end=26, size=25)\n",
      "   a2 = IntervalVarValue(start=26, end=41, size=15)\n",
      "   t1 = IntervalVarValue(start=1, end=8, size=7)\n",
      "   t2 = IntervalVarValue(start=10, end=26, size=16)\n",
      "   t3 = ()\n",
      "   t4 = IntervalVarValue(start=26, end=41, size=15)\n"
     ]
    }
   ],
   "source": [
    "# DEMO 6 (RESOLUCIÓN)\n",
    "\n",
    "s3 = modelo3.solve()\n",
    "\n",
    "s3.print_solution()"
   ]
  },
  {
   "cell_type": "code",
   "execution_count": null,
   "metadata": {},
   "outputs": [],
   "source": []
  }
 ],
 "metadata": {
  "kernelspec": {
   "display_name": "base",
   "language": "python",
   "name": "python3"
  },
  "language_info": {
   "codemirror_mode": {
    "name": "ipython",
    "version": 3
   },
   "file_extension": ".py",
   "mimetype": "text/x-python",
   "name": "python",
   "nbconvert_exporter": "python",
   "pygments_lexer": "ipython3",
   "version": "3.8.8"
  }
 },
 "nbformat": 4,
 "nbformat_minor": 2
}
