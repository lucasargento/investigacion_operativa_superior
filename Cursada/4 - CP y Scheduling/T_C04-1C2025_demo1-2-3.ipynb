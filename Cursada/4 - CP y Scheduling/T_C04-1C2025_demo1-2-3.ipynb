{
 "cells": [
  {
   "cell_type": "markdown",
   "metadata": {},
   "source": [
    "### DEMO 1: EL PROBLEMA MÁS SIMPLE"
   ]
  },
  {
   "cell_type": "code",
   "execution_count": 1,
   "metadata": {},
   "outputs": [
    {
     "name": "stdout",
     "output_type": "stream",
     "text": [
      "tiempo:  35.68387031555176\n",
      "x = 50.0, y = 2.0\n"
     ]
    }
   ],
   "source": [
    "# CON PROGRAMACIÓN MATEMÁTICA\n",
    "\n",
    "from docplex.mp.model import Model\n",
    "import time                                                 # medición de tiempo                    \n",
    "\n",
    "m = Model()\n",
    "\n",
    "x = m.integer_var(name='x')\n",
    "y = m.integer_var(name='y')\n",
    "\n",
    "m.maximize(30*x + 15*y)\n",
    "m.add_constraint(x + 2*y <= 55)\n",
    "m.add_constraint(x <= 50)\n",
    "m.add_constraint(y <= 50)\n",
    "\n",
    "start1 = time.time()                                        # medición de tiempo                    \n",
    "s = m.solve()\n",
    "print(\"tiempo: \", (time.time() - start1) * 1000)            # medición de tiempo                    \n",
    "\n",
    "print(f\"x = {s[x]}, y = {s[y]}\")"
   ]
  },
  {
   "cell_type": "code",
   "execution_count": 2,
   "metadata": {},
   "outputs": [
    {
     "name": "stdout",
     "output_type": "stream",
     "text": [
      " ! --------------------------------------------------- CP Optimizer 22.1.0.0 --\n",
      " ! Maximization problem - 2 variables, 3 constraints\n",
      " ! Initial process time : 0.00s (0.00s extraction + 0.00s propagation)\n",
      " !  . Log search space  : 106.0 (before), 106.0 (after)\n",
      " !  . Memory usage      : 267.0 kB (before), 267.0 kB (after)\n",
      " ! Using parallel search with 8 workers.\n",
      " ! ----------------------------------------------------------------------------\n",
      " !          Best Branches  Non-fixed    W       Branch decision\n",
      "                        0          2                 -\n",
      " + New bound is 2250\n",
      "                        0          2    1            -\n",
      " + New bound is 1530\n",
      "            1530        0          2    1            -\n",
      " *          1530        0  0.02s        1      (gap is 0.00%)\n",
      " ! ----------------------------------------------------------------------------\n",
      " ! Search completed, 1 solution found.\n",
      " ! Best objective         : 1530 (optimal - effective tol. is 0)\n",
      " ! Best bound             : 1530\n",
      " ! ----------------------------------------------------------------------------\n",
      " ! Number of branches     : 1589\n",
      " ! Number of fails        : 765\n",
      " ! Total memory usage     : 3.9 MB (3.9 MB CP Optimizer + 0.0 MB Concert)\n",
      " ! Time spent in solve    : 0.02s (0.02s engine + 0.00s extraction)\n",
      " ! Search speed (br. / s) : 79450.1\n",
      " ! ----------------------------------------------------------------------------\n",
      "tiempo:  3.4819247722625732\n",
      "x = 50, y = 2\n"
     ]
    }
   ],
   "source": [
    "# CON PROGRAMACIÓN DE RESTRICCIONES\n",
    "\n",
    "from docplex.cp.model import CpoModel\n",
    "import time                                                 # medición de tiempo                    \n",
    "\n",
    "m = CpoModel()\n",
    "\n",
    "x = m.integer_var(name = 'x')\n",
    "y = m.integer_var(name = 'y')\n",
    "\n",
    "m.maximize(30*x + 15*y)\n",
    "m.add_constraint(x + 2*y <= 55)\n",
    "m.add_constraint(x <= 50)\n",
    "m.add_constraint(y <= 50)\n",
    "\n",
    "start2 = time.time()                                        # medición de tiempo                                                               \n",
    "s = m.solve()\n",
    "print(\"tiempo: \", (time.time() - start2))                   # medición de tiempo                      \n",
    "\n",
    "print(f\"x = {s[x]}, y = {s[y]}\")"
   ]
  },
  {
   "cell_type": "markdown",
   "metadata": {},
   "source": [
    "### DEMO 2: PROGRAMACIÓN DE RESTRICCIONES"
   ]
  },
  {
   "cell_type": "code",
   "execution_count": null,
   "metadata": {},
   "outputs": [
    {
     "name": "stdout",
     "output_type": "stream",
     "text": [
      "['x1', 'x2', 'x3', 'x4', 'x5', 'x6', 'x7', 'x8', 'x9', 'x10', 'x11', 'x12', 'x13', 'x14', 'x15', 'x16', 'x17', 'x18', 'x19', 'x20', 'x21', 'x22', 'x23', 'x24', 'x25', 'x26', 'x27', 'x28', 'x29', 'x30', 'x31', 'x32', 'x33', 'x34', 'x35', 'x36', 'x37', 'x38', 'x39', 'x40', 'x41']\n"
     ]
    }
   ],
   "source": [
    "# CONSTRUCCIÓN DE VECTORES, MATRICES Y BUCLES EN LINEA\n",
    "\n",
    "x = ['x'+str(i+1) for i in range(41)]\n",
    "\n",
    "print(x)"
   ]
  },
  {
   "cell_type": "code",
   "execution_count": null,
   "metadata": {},
   "outputs": [
    {
     "name": "stdout",
     "output_type": "stream",
     "text": [
      " ! --------------------------------------------------- CP Optimizer 22.1.0.0 --\n",
      " ! Satisfiability problem - 20 variables, 1 constraint\n",
      " ! TimeLimit            = 10\n",
      " ! Initial process time : 0.01s (0.01s extraction + 0.00s propagation)\n",
      " !  . Log search space  : 133.2 (before), 133.2 (after)\n",
      " !  . Memory usage      : 299.8 kB (before), 299.8 kB (after)\n",
      " ! Using parallel search with 8 workers.\n",
      " ! ----------------------------------------------------------------------------\n",
      " !               Branches  Non-fixed    W       Branch decision\n",
      " *                     18  0.02s        1         3  = x2\n",
      " ! ----------------------------------------------------------------------------\n",
      " ! Search completed, 1 solution found.\n",
      " ! ----------------------------------------------------------------------------\n",
      " ! Number of branches     : 166\n",
      " ! Number of fails        : 10\n",
      " ! Total memory usage     : 4.2 MB (4.2 MB CP Optimizer + 0.0 MB Concert)\n",
      " ! Time spent in solve    : 0.02s (0.01s engine + 0.01s extraction)\n",
      " ! Search speed (br. / s) : 16600.0\n",
      " ! ----------------------------------------------------------------------------\n",
      "-------------------------------------------------------------------------------\n",
      "Model constraints: 1, variables: integer: 20, interval: 0, sequence: 0\n",
      "Solve status: Feasible\n",
      "Search status: SearchCompleted, stop cause: SearchHasNotBeenStopped\n",
      "Solve time: 0.02 sec\n",
      "-------------------------------------------------------------------------------\n",
      "Variables:\n",
      "   x0 = 32\n",
      "   x1 = 51\n",
      "   x2 = 3\n",
      "   x3 = 44\n",
      "   x4 = 33\n",
      "   x5 = 67\n",
      "   x6 = 26\n",
      "   x7 = 2\n",
      "   x8 = 63\n",
      "   x9 = 2\n",
      "   x10 = 2\n",
      "   x11 = 79\n",
      "   x12 = 70\n",
      "   x13 = 83\n",
      "   x14 = 1\n",
      "   x15 = 68\n",
      "   x16 = 74\n",
      "   x17 = 48\n",
      "   x18 = 46\n",
      "   x19 = 80\n"
     ]
    }
   ],
   "source": [
    "# EJEMPLO: COUNT()\n",
    "\n",
    "from docplex.cp.model import CpoModel\n",
    "\n",
    "m = CpoModel()\n",
    "\n",
    "x = [m.integer_var(min=0, max=100, name='x'+str(i)) for i in range()]\n",
    "\n",
    "m.add(m.count(x, 2) == 3)\n",
    "\n",
    "s = m.solve(TimeLimit=10)\n",
    "\n",
    "s.print_solution()"
   ]
  },
  {
   "cell_type": "code",
   "execution_count": null,
   "metadata": {},
   "outputs": [],
   "source": [
    "# EJEMPLO ALLDIFF()\n",
    "\n",
    "from docplex.cp.model import CpoModel\n",
    "\n",
    "m = CpoModel()\n",
    "\n",
    "x = [m.integer_var(min=0, max=20, name='x'+str(i)) for i in range(20)]\n",
    "\n",
    "m.add(m.all_diff(x))\n",
    "\n",
    "s = m.solve(TimeLimit=10)\n",
    "\n",
    "s.print_solution()"
   ]
  },
  {
   "cell_type": "markdown",
   "metadata": {},
   "source": [
    "### DEMO 3: SUDOKU (sin gráficos)"
   ]
  },
  {
   "cell_type": "code",
   "execution_count": null,
   "metadata": {},
   "outputs": [],
   "source": [
    "# RESOLUCIÓN \n",
    "from docplex.cp.model import CpoModel\n",
    "\n",
    "m = CpoModel()\n",
    "\n",
    "# defino la matriz\n",
    "k = [[m.integer_var(min=0, max=9, name=\"x\" + str(i) + str(j)) for i in range(9)] for j in range(9)]\n",
    "\n",
    "# cargo los números base\n",
    "m.add(k[0][0] == 5)\n",
    "m.add(k[0][1] == 3)\n",
    "m.add(k[0][4] == 7)\n",
    "m.add(k[1][0] == 6)\n",
    "m.add(k[1][3] == 1)\n",
    "m.add(k[1][4] == 9)\n",
    "m.add(k[1][5] == 5)\n",
    "m.add(k[2][1] == 9)\n",
    "m.add(k[2][2] == 8)\n",
    "m.add(k[2][7] == 6)\n",
    "m.add(k[3][0] == 8)\n",
    "m.add(k[3][4] == 6)\n",
    "m.add(k[3][8] == 3)\n",
    "m.add(k[4][0] == 4)\n",
    "m.add(k[4][3] == 8)\n",
    "m.add(k[4][5] == 3)\n",
    "m.add(k[4][8] == 1)\n",
    "m.add(k[5][0] == 7)\n",
    "m.add(k[5][4] == 2)\n",
    "m.add(k[5][8] == 6)\n",
    "m.add(k[6][1] == 6)\n",
    "m.add(k[6][6] == 2)\n",
    "m.add(k[6][7] == 8)\n",
    "m.add(k[7][3] == 4)\n",
    "m.add(k[7][4] == 1)\n",
    "m.add(k[7][5] == 9)\n",
    "m.add(k[7][8] == 5)\n",
    "m.add(k[8][4] == 8)\n",
    "m.add(k[8][7] == 7)\n",
    "m.add(k[8][8] == 9)\n",
    "\n",
    "# filas diferentes\n",
    "for i in range(9):\n",
    "    m.add(m.all_diff([k[i][j] for j in range(9)]))\n",
    "\n",
    "# columnas diferentes\n",
    "for j in range(9):\n",
    "    m.add(m.all_diff([k[i][j] for i in range(9)]))\n",
    "\n",
    "# diferente cuadrante\n",
    "\n",
    "for x in range(0, 9, 3):\n",
    "    for y in range(0, 9, 3):\n",
    "        m.add(m.all_diff([k[i][j] for i in range(x, x + 3) for j in range(y, y + 3)]))\n",
    "\n",
    "s = m.solve(TimeLimit=10)\n",
    "\n",
    "s.print_solution()"
   ]
  },
  {
   "cell_type": "markdown",
   "metadata": {},
   "source": [
    "### DEMO 3B: SUDOKU (con gráficos)"
   ]
  },
  {
   "cell_type": "code",
   "execution_count": null,
   "metadata": {},
   "outputs": [],
   "source": [
    "# BIBLIOTECAS\n",
    "from docplex.cp.model import CpoModel\n",
    "from sys import stdout\n",
    "import numpy as np\n",
    "import matplotlib.pyplot as plt"
   ]
  },
  {
   "cell_type": "code",
   "execution_count": null,
   "metadata": {},
   "outputs": [],
   "source": [
    "# FUNCIÓN QUE GRAFICA\n",
    "def draw_grid(orig, values, name):\n",
    "    stdout.write(name)\n",
    "    stdout.write(\":\\n\")    \n",
    "    fig, ax = plt.subplots(figsize =(4,4))\n",
    "    min_val, max_val = 0, 9\n",
    "    R =  range(0,9)\n",
    "    for l in R:\n",
    "        for c in R:\n",
    "            o = orig[c][l]\n",
    "            v = values[c][l]\n",
    "            s = \" \"\n",
    "            if v > 0:\n",
    "                if o > 0:\n",
    "                    s = str(v)  # es valor fijo\n",
    "                    color = 'red'\n",
    "                else:\n",
    "                    s = str(v)  # no es valor fijo\n",
    "                    color = 'black'\n",
    "\n",
    "            ax.text(l+0.5,8.5-c, s, color = color , va='center', ha='center')\n",
    "        ax.set_xlim(min_val, max_val)\n",
    "    ax.set_ylim(min_val, max_val)\n",
    "    ax.set_xticks(np.arange(max_val))\n",
    "    ax.set_yticks(np.arange(max_val))\n",
    "    ax.grid()\n",
    "    plt.show()"
   ]
  },
  {
   "cell_type": "code",
   "execution_count": null,
   "metadata": {},
   "outputs": [],
   "source": [
    "# DATOS INICIALES\n",
    "p1 = [[5, 3, 0, 0, 7, 0, 0, 0, 0],\n",
    "      [6, 0, 0, 1, 9, 5, 0, 0, 0],\n",
    "      [0, 9, 8, 0, 0, 0, 0, 6, 0],\n",
    "      [8, 0, 0, 0, 6, 0, 0, 0, 3],\n",
    "      [4, 0, 0, 8, 0, 3, 0, 0, 1],\n",
    "      [7, 0, 0, 0, 2, 0, 0, 0, 6],\n",
    "      [0, 6, 0, 0, 0, 0, 2, 8, 0],\n",
    "      [0, 0, 0, 4, 1, 9, 0, 0, 5],\n",
    "      [0, 0, 0, 0, 8, 0, 0, 7, 9],            \n",
    "      ]\n",
    "\n",
    "draw_grid(p1, p1, \"PROBLEMA INICIAL\")"
   ]
  },
  {
   "cell_type": "code",
   "execution_count": null,
   "metadata": {},
   "outputs": [],
   "source": [
    "# RESOLUCIÓN\n",
    "modelo = CpoModel()\n",
    "\n",
    "# defino la matriz\n",
    "k = [[modelo.integer_var(min=1, max=9, name=\"x\" + str(i) + str(j)) for i in range(9)] for j in range(9)]\n",
    "\n",
    "# cargo los numeros base\n",
    "for i in range(9):\n",
    "    for j in range(9):\n",
    "        if p1[i][j]>0: modelo.add(k[i][j] == p1[i][j])\n",
    "\n",
    "# filas diferentes\n",
    "for i in range(9):\n",
    "    modelo.add(modelo.all_diff([k[i][j] for j in range(9)]))\n",
    "\n",
    "# columnas diferentes\n",
    "for j in range(9):\n",
    "    modelo.add(modelo.all_diff([k[i][j] for i in range(9)]))\n",
    "\n",
    "# diferente cuadrante\n",
    "for x in range(0, 9, 3):\n",
    "    for y in range(0, 9, 3):\n",
    "        modelo.add(modelo.all_diff([k[i][j] for i in range(x, x + 3) for j in range(y, y + 3)]))\n",
    "\n",
    "s = modelo.solve(TimeLimit=10)\n",
    "\n",
    "if s:\n",
    "    sol = [[s[k[l][c]] for c in range(9)] for l in range(9)]\n",
    "    stdout.write(\"Tiempo: \" + str(s.get_solve_time()) + \"\\n\")\n",
    "    draw_grid(p1, sol, \"Problema resuelto\")\n",
    "else:\n",
    "    stdout.write(\"No se encontró solución\\n\")\n"
   ]
  }
 ],
 "metadata": {
  "kernelspec": {
   "display_name": "base",
   "language": "python",
   "name": "python3"
  },
  "language_info": {
   "codemirror_mode": {
    "name": "ipython",
    "version": 3
   },
   "file_extension": ".py",
   "mimetype": "text/x-python",
   "name": "python",
   "nbconvert_exporter": "python",
   "pygments_lexer": "ipython3",
   "version": "3.8.8"
  }
 },
 "nbformat": 4,
 "nbformat_minor": 2
}
