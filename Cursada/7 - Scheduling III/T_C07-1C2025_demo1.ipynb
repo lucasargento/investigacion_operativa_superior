{
 "cells": [
  {
   "cell_type": "markdown",
   "metadata": {},
   "source": [
    "### **DEMO 1**"
   ]
  },
  {
   "cell_type": "markdown",
   "metadata": {},
   "source": [
    "### El problema más simple (con Google OR Tools)"
   ]
  },
  {
   "cell_type": "code",
   "execution_count": null,
   "metadata": {},
   "outputs": [],
   "source": [
    "from ortools.sat.python.cp_model import CpModel, CpSolver\n",
    "\n",
    "m = CpModel()\n",
    "\n",
    "x = m.new_int_var(0, 50, \"x\")\n",
    "y = m.new_int_var(0, 50, \"y\")\n",
    "\n",
    "m.add( x+ 2*y <= 55 )\n",
    "\n",
    "m.maximize(30*x+15*y)\n",
    "\n",
    "s = CpSolver()\n",
    "s.Solve(m)\n",
    "\n",
    "print(f\"obj = {s.objective_value}\")\n",
    "print(f\"x = {s.value(x)}\")\n",
    "print(f\"y = {s.value(y)}\")"
   ]
  },
  {
   "cell_type": "markdown",
   "metadata": {},
   "source": [
    "### SUDOKU (sin gráficos)"
   ]
  },
  {
   "cell_type": "code",
   "execution_count": null,
   "metadata": {},
   "outputs": [],
   "source": [
    "from ortools.sat.python.cp_model import CpModel, CpSolver\n",
    "\n",
    "m = CpModel()\n",
    "\n",
    "# defino la matriz\n",
    "k = [[m.new_int_var(0, 9, \"x\" + str(i) + str(j)) for i in range(9)] for j in range(9)]\n",
    "\n",
    "# cargo los numeros base\n",
    "m.add(k[0][0] == 5)\n",
    "m.add(k[0][1] == 3)\n",
    "m.add(k[0][4] == 7)\n",
    "m.add(k[1][0] == 6)\n",
    "m.add(k[1][3] == 1)\n",
    "m.add(k[1][4] == 9)\n",
    "m.add(k[1][5] == 5)\n",
    "m.add(k[2][1] == 9)\n",
    "m.add(k[2][2] == 8)\n",
    "m.add(k[2][7] == 6)\n",
    "m.add(k[3][0] == 8)\n",
    "m.add(k[3][4] == 6)\n",
    "m.add(k[3][8] == 3)\n",
    "m.add(k[4][0] == 4)\n",
    "m.add(k[4][3] == 8)\n",
    "m.add(k[4][5] == 3)\n",
    "m.add(k[4][8] == 1)\n",
    "m.add(k[5][0] == 7)\n",
    "m.add(k[5][4] == 2)\n",
    "m.add(k[5][8] == 6)\n",
    "m.add(k[6][1] == 6)\n",
    "m.add(k[6][6] == 2)\n",
    "m.add(k[6][7] == 8)\n",
    "m.add(k[7][3] == 4)\n",
    "m.add(k[7][4] == 1)\n",
    "m.add(k[7][5] == 9)\n",
    "m.add(k[7][8] == 5)\n",
    "m.add(k[8][4] == 8)\n",
    "m.add(k[8][7] == 7)\n",
    "m.add(k[8][8] == 9)\n",
    "\n",
    "# filas diferentes\n",
    "for i in range(9):\n",
    "    m.add_all_different([k[i][j] for j in range(9)])\n",
    "\n",
    "# columnas diferentes\n",
    "for j in range(9):\n",
    "    m.add_all_different([k[i][j] for i in range(9)])\n",
    "\n",
    "# diferente cuadrante\n",
    "\n",
    "for x in range(0, 9, 3):\n",
    "    for y in range(0, 9, 3):\n",
    "        m.add_all_different([k[i][j] for i in range(x, x + 3) for j in range(y, y + 3)])\n",
    "\n",
    "s = CpSolver()\n",
    "s.Solve(m)\n",
    "\n",
    "for i in k:\n",
    "    for v in i:\n",
    "            if s.Value(v):\n",
    "                print(v, '=', s.Value(v))\n"
   ]
  },
  {
   "cell_type": "markdown",
   "metadata": {},
   "source": [
    "### SUDOKU (con gráficos)"
   ]
  },
  {
   "cell_type": "code",
   "execution_count": null,
   "metadata": {},
   "outputs": [],
   "source": [
    "from sys import stdout\n",
    "import numpy as np\n",
    "import matplotlib.pyplot as plt\n",
    "\n",
    "\n",
    "# función para gráficar el sudoku\n",
    "def draw_grid(orig, values, name):\n",
    "    stdout.write(name)\n",
    "    stdout.write(\":\\n\")    \n",
    "    fig, ax = plt.subplots(figsize =(4,4))\n",
    "    min_val, max_val = 0, 9\n",
    "    R =  range(0,9)\n",
    "    for l in R:\n",
    "        for c in R:\n",
    "            o = orig[c][l]\n",
    "            v = values[c][l]\n",
    "            s = \" \"\n",
    "            if v > 0:\n",
    "                if o > 0:\n",
    "                    s = str(v)  # es valor fijo\n",
    "                    color = 'red'\n",
    "                else:\n",
    "                    s = str(v)  # no es valor fijo\n",
    "                    color = 'black'\n",
    "\n",
    "            ax.text(l+0.5,8.5-c, s, color = color , va='center', ha='center')\n",
    "        ax.set_xlim(min_val, max_val)\n",
    "    ax.set_ylim(min_val, max_val)\n",
    "    ax.set_xticks(np.arange(max_val))\n",
    "    ax.set_yticks(np.arange(max_val))\n",
    "    ax.grid()\n",
    "    plt.show()"
   ]
  },
  {
   "cell_type": "code",
   "execution_count": null,
   "metadata": {},
   "outputs": [],
   "source": [
    "p1 = [[5, 3, 0, 0, 7, 0, 0, 0, 0],\n",
    "      [6, 0, 0, 1, 9, 5, 0, 0, 0],\n",
    "      [0, 9, 8, 0, 0, 0, 0, 6, 0],\n",
    "      [8, 0, 0, 0, 6, 0, 0, 0, 3],\n",
    "      [4, 0, 0, 8, 0, 3, 0, 0, 1],\n",
    "      [7, 0, 0, 0, 2, 0, 0, 0, 6],\n",
    "      [0, 6, 0, 0, 0, 0, 2, 8, 0],\n",
    "      [0, 0, 0, 4, 1, 9, 0, 0, 5],\n",
    "      [0, 0, 0, 0, 8, 0, 0, 7, 9],            \n",
    "      ]\n",
    "\n",
    "draw_grid(p1, p1, \"PROBLEMA INICIAL\")"
   ]
  },
  {
   "cell_type": "code",
   "execution_count": null,
   "metadata": {},
   "outputs": [],
   "source": [
    "from ortools.sat.python.cp_model import CpModel, CpSolver\n",
    "\n",
    "m = CpModel()\n",
    "\n",
    "# defino la matriz\n",
    "k = [[m.new_int_var(1, 9, \"x\" + str(i) + str(j)) for i in range(9)] for j in range(9)]\n",
    "\n",
    "# cargo los numeros base\n",
    "for i in range(9):\n",
    "    for j in range(9):\n",
    "        if p1[i][j]>0: m.add(k[i][j] == p1[i][j])\n",
    "\n",
    "# filas diferentes\n",
    "for i in range(9):\n",
    "    m.add_all_different([k[i][j] for j in range(9)])\n",
    "\n",
    "# columnas diferentes\n",
    "for j in range(9):\n",
    "    m.add_all_different([k[i][j] for i in range(9)])\n",
    "\n",
    "# diferente cuadrante\n",
    "for x in range(0, 9, 3):\n",
    "    for y in range(0, 9, 3):\n",
    "        m.add_all_different([k[i][j] for i in range(x, x + 3) for j in range(y, y + 3)])\n",
    "\n",
    "s = CpSolver()\n",
    "e = s.solve(m)\n",
    "\n",
    "if e == 4 or e == 2:       # 4: OPTIMAL, 2: FEASIBLE\n",
    "    sol = [[s.value(k[l][c]) for c in range(9)] for l in range(9)]\n",
    "    draw_grid(p1, sol, \"Problema resuelto\")\n",
    "else:\n",
    "    stdout.write(\"No se encontró solución\\n\")"
   ]
  }
 ],
 "metadata": {
  "kernelspec": {
   "display_name": "base",
   "language": "python",
   "name": "python3"
  },
  "language_info": {
   "codemirror_mode": {
    "name": "ipython",
    "version": 3
   },
   "file_extension": ".py",
   "mimetype": "text/x-python",
   "name": "python",
   "nbconvert_exporter": "python",
   "pygments_lexer": "ipython3",
   "version": "3.8.8"
  }
 },
 "nbformat": 4,
 "nbformat_minor": 2
}
