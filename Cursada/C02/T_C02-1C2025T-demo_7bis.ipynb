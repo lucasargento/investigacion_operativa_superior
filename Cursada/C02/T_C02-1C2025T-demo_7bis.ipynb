{
 "cells": [
  {
   "cell_type": "markdown",
   "metadata": {},
   "source": [
    "## DEMO 7"
   ]
  },
  {
   "cell_type": "code",
   "execution_count": null,
   "metadata": {},
   "outputs": [],
   "source": [
    "# cargo el dataset\n",
    "\n",
    "import pandas as pd\n",
    "df = pd.read_csv('T_C02-1C2025T-historico_prod.csv', sep=';')\n",
    "df"
   ]
  },
  {
   "cell_type": "code",
   "execution_count": null,
   "metadata": {},
   "outputs": [],
   "source": [
    "# hago un one hot encoding (https://www.youtube.com/watch?v=JDMViAeLxgQ)\n",
    "\n",
    "df = pd.get_dummies(df, dtype='int')\n",
    "df"
   ]
  },
  {
   "cell_type": "code",
   "execution_count": null,
   "metadata": {},
   "outputs": [],
   "source": [
    "# elimino la columna año\n",
    "df = df.drop(columns=['año'])\n",
    "df"
   ]
  },
  {
   "cell_type": "code",
   "execution_count": null,
   "metadata": {},
   "outputs": [],
   "source": [
    "# reviso la información del dataset ...\n",
    "df.info()"
   ]
  },
  {
   "cell_type": "code",
   "execution_count": null,
   "metadata": {},
   "outputs": [],
   "source": [
    "# separo X e y\n",
    "y = df['ventas_und']\n",
    "X = df.drop(columns=['ventas_und'])\n",
    "\n"
   ]
  },
  {
   "cell_type": "code",
   "execution_count": null,
   "metadata": {},
   "outputs": [],
   "source": [
    "# scalo datos\n",
    "from sklearn.preprocessing import StandardScaler\n",
    "\n",
    "e = StandardScaler()\n",
    "X = e.fit_transform(X)"
   ]
  },
  {
   "cell_type": "code",
   "execution_count": null,
   "metadata": {},
   "outputs": [],
   "source": [
    "# divido el dataset en entrenamiento (80%) y test (20%)\n",
    "\n",
    "from sklearn.model_selection import train_test_split\n",
    "\n",
    "print('tamaño X: ', X.shape)\n",
    "print('tamaño y: ', y.shape)\n",
    "\n",
    "X_train, X_test, y_train, y_test = train_test_split(X, y, test_size=.2, random_state=9)\n",
    "\n",
    "print('train X', X_train.shape, 'train y', y_train.shape)\n",
    "print('test X', X_test.shape, 'test y', y_test.shape)"
   ]
  },
  {
   "cell_type": "code",
   "execution_count": null,
   "metadata": {},
   "outputs": [],
   "source": [
    "import torch    # importo la biblioteca de pyTorch\n",
    "\n",
    "device = 'cpu' # 'cpu' 'cuda' # selecciono el dispositivo que va a procesar los datos\n",
    "\n",
    "# convierto mis arrays en tensores\n",
    "X_train_t = torch.tensor(X_train).float().to(device)\n",
    "X_test_t = torch.tensor(X_test).float().to(device)\n",
    "y_train_t = torch.tensor(y_train.values).float().to(device)\n",
    "y_test_t = torch.tensor(y_test.values).float().to(device)\n",
    "y_test_t = y_test_t[:, None]\n",
    "y_train_t = y_train_t[:, None]\n"
   ]
  },
  {
   "cell_type": "code",
   "execution_count": null,
   "metadata": {},
   "outputs": [],
   "source": [
    "# genero mi red neuronal (otra forma donde tengo más control que en la definicion que realicé en la demo 6)\n",
    "\n",
    "\n",
    "\n",
    "class nn1(torch.nn.Module):\n",
    "\n",
    "    def __init__(self):\n",
    "        super(nn1, self).__init__()\n",
    "        self.fc1 = torch.nn.Linear(in_features=47, out_features=100, bias=True)\n",
    "        self.relu1 = torch.nn.ReLU()\n",
    "        self.fc2 = torch.nn.Linear(in_features=100, out_features=50, bias=True)\n",
    "        self.relu2 = torch.nn.ReLU()\n",
    "        self.fc3 = torch.nn.Linear(in_features=50, out_features=30, bias=True)\n",
    "        self.relu3 = torch.nn.ReLU()\n",
    "        self.fc4 = torch.nn.Linear(in_features=30, out_features=1, bias=True)\n",
    "\n",
    "    def forward(self, x):\n",
    "        x = self.fc1(x)\n",
    "        x = self.relu1(x)\n",
    "        x = self.fc2(x)\n",
    "        x = self.relu2(x)        \n",
    "        x = self.fc3(x)\n",
    "        x = self.relu3(x)        \n",
    "        y = self.fc4(x)\n",
    "        return y"
   ]
  },
  {
   "cell_type": "code",
   "execution_count": null,
   "metadata": {},
   "outputs": [],
   "source": [
    "# instanciamos el modelo\n",
    "\n",
    "model = nn1()\n",
    "print(model)"
   ]
  },
  {
   "cell_type": "code",
   "execution_count": null,
   "metadata": {},
   "outputs": [],
   "source": [
    "# defino los hiperparametros de entrenamiento:\n",
    "\n",
    "lr = 0.001\n",
    "epochs = 50000\n",
    "e_print = 100\n",
    "loss_fn = torch.nn.MSELoss()\n",
    "optimizer = torch.optim.Adam(params=model.parameters(), lr=lr)\n",
    "historico = pd.DataFrame()"
   ]
  },
  {
   "cell_type": "code",
   "execution_count": null,
   "metadata": {},
   "outputs": [],
   "source": [
    "# realizo el entrenamiento (dependiendo el procesador esta operacion tarda unos 6 minutos):\n",
    "\n",
    "for epoch in range(1, epochs+1):\n",
    "    y_pred = model(X_train_t)\n",
    "    loss = loss_fn(y_pred, y_train_t)\n",
    "    loss.backward()\n",
    "    optimizer.step()\n",
    "    optimizer.zero_grad()\n",
    "    \n",
    "    if epoch % e_print == 0:\n",
    "        print(f\"epoch {epoch} \\t Loss: {round(loss.item(),4)}\")"
   ]
  },
  {
   "cell_type": "code",
   "execution_count": null,
   "metadata": {},
   "outputs": [],
   "source": [
    "# pruebo el resultado con un dato del dataset de TEST:\n",
    "\n",
    "\n",
    "i = 2\n",
    "Xp = X_test_t[i]        # pruebo con los datos de la fila i del dataset de prueba.\n",
    "\n",
    "pred = model(Xp)        # calculo la predicción del modelo\n",
    "\n",
    "print(f\"el modelo predijo: {int(pred.item())} sin embargo el resultado debería haber sido: {int(y_test_t[i].item())}\")      "
   ]
  },
  {
   "cell_type": "code",
   "execution_count": null,
   "metadata": {},
   "outputs": [],
   "source": [
    "# pruebo con un dato nuevo\n",
    "\n",
    "infl = 11.0 # defino una inflación del 4%\n",
    "\n",
    "# genero el vector con los datos que quiero probar\n",
    "test = [[infl, 1., 0., 0., 0., 0., 0., 0., 0., 0., 0., 0., 0., 1., 0., 0., 0., 0., 0., 0., 0., 0., 0., 0., 0., 0., 0., 0., 0., 0., 0., 0., 0., 0., 0., 0., 0., 0., 0., 0., 0., 0., 0., 0., 0., 0., 1.]]\n",
    "Xp = e.transform(test)  # escalo los datos\n",
    "r = torch.tensor(Xp).float() # los convierto en un tensor\n",
    "\n",
    "pred = model(r) # calculo la predicción de modelo\n",
    "\n",
    "print(f\"el modelo predijo: {int(pred[0].item())}\")"
   ]
  }
 ],
 "metadata": {
  "kernelspec": {
   "display_name": "base",
   "language": "python",
   "name": "python3"
  },
  "language_info": {
   "codemirror_mode": {
    "name": "ipython",
    "version": 3
   },
   "file_extension": ".py",
   "mimetype": "text/x-python",
   "name": "python",
   "nbconvert_exporter": "python",
   "pygments_lexer": "ipython3",
   "version": "3.8.8"
  }
 },
 "nbformat": 4,
 "nbformat_minor": 2
}
