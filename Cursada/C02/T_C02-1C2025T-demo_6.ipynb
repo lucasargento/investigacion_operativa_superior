{
 "cells": [
  {
   "cell_type": "markdown",
   "metadata": {},
   "source": [
    "## DEMO 6"
   ]
  },
  {
   "cell_type": "code",
   "execution_count": null,
   "metadata": {},
   "outputs": [],
   "source": [
    "# cargo el dataset\n",
    "\n",
    "import pandas as pd\n",
    "df = pd.read_csv(\"T_C02-1C2025T-helados2.csv\", sep=\";\")\n",
    "df.head()"
   ]
  },
  {
   "cell_type": "code",
   "execution_count": null,
   "metadata": {},
   "outputs": [],
   "source": [
    "# separo X (datos de entrada) e y (resultado conocido)\n",
    "\n",
    "y = df['KG']\n",
    "X = df.drop(columns=['KG'])"
   ]
  },
  {
   "cell_type": "code",
   "execution_count": null,
   "metadata": {},
   "outputs": [],
   "source": [
    "# scalo los datos ... (X-u)/d\n",
    "from sklearn.preprocessing import StandardScaler\n",
    "e = StandardScaler()\n",
    "X = e.fit_transform(X)      "
   ]
  },
  {
   "cell_type": "code",
   "execution_count": null,
   "metadata": {},
   "outputs": [],
   "source": [
    "# divido el dataset entre entrenamiento (80%) y test (20%)\n",
    "\n",
    "from sklearn.model_selection import train_test_split\n",
    "\n",
    "print('tamaño X: ', X.shape)\n",
    "print('tamaño y: ', y.shape)\n",
    "\n",
    "X_train, X_test, y_train, y_test = train_test_split(X, y, test_size=.2, random_state=9)\n",
    "\n",
    "print('train X', X_train.shape, 'train y', y_train.shape)\n",
    "print('test X', X_test.shape, 'test y', y_test.shape)"
   ]
  },
  {
   "cell_type": "code",
   "execution_count": null,
   "metadata": {},
   "outputs": [],
   "source": [
    "import torch    # importo la biblioteca de IA que voy a usar, en este caso pyTorch \n",
    "\n",
    "device = 'cpu' # 'cpu' 'cuda' ¿qué dispositivo va a procesar los datos?\n",
    "\n",
    "X_train_t = torch.tensor(X_train).float().to(device)\n",
    "X_test_t = torch.tensor(X_test).float().to(device)\n",
    "y_train_t = torch.tensor(y_train.values).float().to(device)\n",
    "y_test_t = torch.tensor(y_test.values).float().to(device)\n",
    "y_test_t = y_test_t[:, None]\n",
    "y_train_t = y_train_t[:, None]"
   ]
  },
  {
   "cell_type": "code",
   "execution_count": null,
   "metadata": {},
   "outputs": [],
   "source": [
    "# definimos e instanciamos el modelo de la red neuronal\n",
    "\n",
    "model = torch.nn.Sequential(\n",
    "    torch.nn.Linear(2, 6),\n",
    "    torch.nn.ReLU(),\n",
    "    torch.nn.Linear(6, 4),\n",
    "    torch.nn.ReLU(),\n",
    "    torch.nn.Linear(4, 1),\n",
    ")\n",
    "\n",
    "print(model)    # imprimo el modelo de red neuronal"
   ]
  },
  {
   "cell_type": "code",
   "execution_count": null,
   "metadata": {},
   "outputs": [],
   "source": [
    "# defino los hiperparámetros (parametros de entrenamiento) del modelo\n",
    "lr = 0.001\n",
    "epochs = 50000\n",
    "e_print = 100\n",
    "loss_fn = torch.nn.MSELoss()\n",
    "optimizer = torch.optim.Adam(params=model.parameters(), lr=lr)"
   ]
  },
  {
   "cell_type": "code",
   "execution_count": null,
   "metadata": {},
   "outputs": [],
   "source": [
    "# entreno el modelo\n",
    "\n",
    "for epoch in range(1, epochs+1):\n",
    "    y_pred = model(X_train_t)\n",
    "    loss = loss_fn(y_pred, y_train_t)\n",
    "    loss.backward()\n",
    "    optimizer.step()\n",
    "    optimizer.zero_grad()\n",
    "    \n",
    "    if epoch % e_print == 0:\n",
    "        print(f\"epoch {epoch} \\t Loss: {round(loss.item(),4)}\")"
   ]
  },
  {
   "cell_type": "code",
   "execution_count": null,
   "metadata": {},
   "outputs": [],
   "source": [
    "# pruebo el modelo:\n",
    "\n",
    "X = [[20.0, 0]] # el primer valos es el de temperatura, el segundo si es fin de semana o no\n",
    "\n",
    "Xp = e.transform(X) # escalo mis datos de entrada\n",
    "print(Xp)\n",
    "\n",
    "pred = model(torch.tensor(Xp).float())\n",
    "\n",
    "print(pred) # imprimo la predicción"
   ]
  }
 ],
 "metadata": {
  "kernelspec": {
   "display_name": "base",
   "language": "python",
   "name": "python3"
  },
  "language_info": {
   "codemirror_mode": {
    "name": "ipython",
    "version": 3
   },
   "file_extension": ".py",
   "mimetype": "text/x-python",
   "name": "python",
   "nbconvert_exporter": "python",
   "pygments_lexer": "ipython3",
   "version": "3.8.8"
  }
 },
 "nbformat": 4,
 "nbformat_minor": 2
}
