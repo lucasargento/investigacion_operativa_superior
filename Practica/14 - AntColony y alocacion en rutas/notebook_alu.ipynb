{
 "cells": [
  {
   "cell_type": "markdown",
   "id": "856fd621",
   "metadata": {},
   "source": [
    "### Parte I - Modelo de programación lineal y metaheurística de Ant Colony"
   ]
  },
  {
   "cell_type": "code",
   "execution_count": null,
   "id": "a87ad93b",
   "metadata": {},
   "outputs": [],
   "source": [
    "from docplex.mp.model import Model\n",
    "import random\n",
    "import numpy as np"
   ]
  },
  {
   "cell_type": "markdown",
   "id": "a79ae213",
   "metadata": {},
   "source": [
    "#### Parámetros del problema"
   ]
  },
  {
   "cell_type": "code",
   "execution_count": null,
   "id": "2598501b",
   "metadata": {},
   "outputs": [],
   "source": [
    "# Conjuntos\n",
    "origenes = ['A', 'B', ???]  # A: Entre Ríos, B: Catamarca, C: Comodoro Rivadavia\n",
    "destinos = ['X', 'Y']       # X: Neuquén, Y: Santa Cruz\n",
    "\n",
    "# Costos base por tonelada (USD)\n",
    "costo_arena = {\n",
    "    'A': 2000,  # Entre Ríos\n",
    "    'B': 2500,  # Catamarca\n",
    "    'C': 2800   # Importada vía Comodoro\n",
    "}\n",
    "\n",
    "# Distancias (km)\n",
    "distancia = {\n",
    "    ('A', 'X'): 1500,\n",
    "    ('A', 'Y'): 2000,\n",
    "    ('B', 'X'): 500,\n",
    "    ('B', 'Y'): 1000,\n",
    "    ('C', 'X'): 450,\n",
    "    ('C', 'Y'): 250\n",
    "}\n",
    "\n",
    "# Costo total por tonelada = costo base + distancia\n",
    "costo_total = {(i, j): costo_arena[i] + distancia[i, j] for i in origenes for j in ???}\n",
    "\n",
    "# Rutas posibles\n",
    "rutas = [('A', 'X'), ('A', 'Y'), ('B', 'X'), ('B', 'Y'), ('C', 'X'), ('C', 'Y')]\n",
    "\n",
    "# Parámetros del problema\n",
    "demanda = {'X': 7, 'Y': 3}\n",
    "max_camiones = 10\n",
    "comodoro_limit = {'C_X': 1, 'C_Y': 1}\n",
    "\n",
    "\n",
    "print(costo_total)"
   ]
  },
  {
   "cell_type": "markdown",
   "id": "5ef08767",
   "metadata": {},
   "source": [
    "#### Solución via PL"
   ]
  },
  {
   "cell_type": "code",
   "execution_count": null,
   "id": "93372666",
   "metadata": {},
   "outputs": [],
   "source": [
    "# Crear modelo\n",
    "mdl = Model(\"Asignacion_Camiones_Distancia\")\n",
    "\n",
    "# Variables: x_ij = cantidad de camiones asignados (toneladas) de i a j\n",
    "x = mdl.integer_var_dict(((i, j) for i in origenes for j in destinos), name='x')\n",
    "\n",
    "# Restricción de demanda\n",
    "mdl.add_constraint(x['A', 'X'] + x['B', 'X'] + x['C', 'X'] == demanda['X'], \"demanda_Neuquen\")\n",
    "mdl.add_constraint(x['A', 'Y'] + x['B', 'Y'] + x['C', 'Y'] == demanda['Y'], \"demanda_SantaCruz\")\n",
    "\n",
    "# Límite de camiones totales\n",
    "mdl.add_constraint(mdl.sum(x[i, j] for i in origenes for j in destinos) <= 10, \"camiones_totales\")\n",
    "\n",
    "# Restricciones de capacidad por ruta desde Comodoro\n",
    "mdl.add_constraint(x['C', 'X'] <= ???\n",
    "mdl.add_constraint(x['C', 'Y'] <= ???\n",
    "\n",
    "# Objetivo: minimizar costo total\n",
    "mdl.minimize(mdl.sum(costo_total[i, j] * x[i, j] for i in origenes for j in destinos))\n",
    "\n",
    "# Resolver\n",
    "sol = mdl.solve(log_output=True)\n",
    "\n",
    "# Resultados\n",
    "if sol:\n",
    "    print(\"\\nSolución óptima encontrada:\\n\")\n",
    "    for i in origenes:\n",
    "        for j in destinos:\n",
    "            val = x[i, j].solution_value\n",
    "            if val > 0:\n",
    "                print(f\"Camiones desde {i} hacia {j}: {int(val)}\")\n",
    "    print(f\"\\nCosto total mínimo: ${mdl.objective_value:.2f}\")\n",
    "else:\n",
    "    print(\"No se encontró una solución.\")\n"
   ]
  },
  {
   "cell_type": "markdown",
   "id": "ab74365c",
   "metadata": {},
   "source": [
    "#### Solución vía Ant Colony"
   ]
  },
  {
   "cell_type": "code",
   "execution_count": null,
   "id": "98e2e40e",
   "metadata": {},
   "outputs": [],
   "source": [
    "# Parámetros metaheurística Ant Colony\n",
    "num_hormigas = ??\n",
    "num_iter = ??\n",
    "evap = ??\n",
    "alpha = 1.0\n",
    "beta = 2.0\n",
    "\n",
    "# Inicializar feromonas\n",
    "feromona = {r: 1.0 for ? in ?}\n",
    "mejor_costo = float('inf')\n",
    "mejor_solucion = None\n",
    "\n",
    "for iteracion in range(???):\n",
    "    soluciones = []\n",
    "    costos_por_solucion = []\n",
    "\n",
    "    for ant in range(??):\n",
    "        x = {r: 0 for r in rutas}\n",
    "        total_camiones = 0\n",
    "        carga = {'X': 0, 'Y': 0}\n",
    "\n",
    "        rutas_disponibles = rutas.copy()\n",
    "        while rutas_disponibles and total_camiones < max_camiones:\n",
    "            # Elegir una ruta con probabilidad proporcional a feromona / costo\n",
    "            scores = []\n",
    "            for r in rutas_disponibles:\n",
    "                i, j = r\n",
    "                eta = 1 / costo_total[r]\n",
    "                tau = feromona[r]\n",
    "                scores.append((tau ** alpha) * (eta ** beta))\n",
    "\n",
    "            probs = np.array(scores) / sum(scores)\n",
    "            idx = np.random.choice(len(rutas_disponibles), p=probs)\n",
    "            ruta = rutas_disponibles[idx]\n",
    "            i, j = ruta\n",
    "\n",
    "            # Validar restricciones antes de asignar\n",
    "            if carga[j] < demanda[j]:\n",
    "                # Restricciones de Comodoro\n",
    "                if i == 'C' and x[ruta] >= 1:\n",
    "                    rutas_disponibles.remove(ruta)\n",
    "                    continue\n",
    "\n",
    "                x[ruta] += 1\n",
    "                carga[j] += 1\n",
    "                total_camiones += 1\n",
    "\n",
    "            # Si ya cumplió demanda, quitar ruta\n",
    "            if carga[j] >= ???:\n",
    "                rutas_disponibles = [r for r in rutas_disponibles if r[1] != j]\n",
    "\n",
    "        # Validar solución\n",
    "        if carga == demanda and total_camiones <= max_camiones:\n",
    "            costo_actual = sum(x[r] * costo_total[r] for r in rutas)\n",
    "            soluciones.append(x.copy())\n",
    "            costos_por_solucion.append(costo_actual)\n",
    "\n",
    "            if costo_actual < ???:\n",
    "                mejor_costo = costo_actual\n",
    "                mejor_solucion = x.copy()\n",
    "\n",
    "    # Evaporación\n",
    "    for r in rutas:\n",
    "        feromona[r] *= (1 - evap)\n",
    "\n",
    "    # Refuerzo con mejores soluciones\n",
    "    if soluciones:\n",
    "        mejor_indice = np.argmin(costos_por_solucion)\n",
    "        for r in rutas:\n",
    "            feromona[r] += 1.0 / costos_por_solucion[mejor_indice] * soluciones[mejor_indice][r]\n",
    "\n",
    "#print(mejor_solucion)\n",
    "print(\"\\nMejor solución encontrada:\")\n",
    "for r in rutas:\n",
    "    if mejor_solucion[r] > 0:\n",
    "        print(f\"Camiones desde {r[0]} hacia {r[1]}: {mejor_solucion[r]}\")\n",
    "print(f\"Costo total: ${mejor_costo:.2f}\")\n"
   ]
  },
  {
   "cell_type": "markdown",
   "id": "0a0dc754",
   "metadata": {},
   "source": [
    "### Parte II - Sensibilidad de solución"
   ]
  },
  {
   "cell_type": "markdown",
   "id": "4274be9b",
   "metadata": {},
   "source": [
    "##### b. ¿A partir de que costo de la arena importada esta deja de estar en la solución?"
   ]
  }
 ],
 "metadata": {
  "kernelspec": {
   "display_name": "Python 3",
   "language": "python",
   "name": "python3"
  },
  "language_info": {
   "codemirror_mode": {
    "name": "ipython",
    "version": 3
   },
   "file_extension": ".py",
   "mimetype": "text/x-python",
   "name": "python",
   "nbconvert_exporter": "python",
   "pygments_lexer": "ipython3",
   "version": "3.11.9"
  }
 },
 "nbformat": 4,
 "nbformat_minor": 5
}
