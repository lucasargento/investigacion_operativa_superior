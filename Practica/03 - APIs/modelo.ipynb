{
 "cells": [
  {
   "cell_type": "code",
   "execution_count": null,
   "metadata": {},
   "outputs": [],
   "source": [
    "from docplex.mp.model import Model\n",
    "import yfinance as yf\n",
    "import pandas as pd\n",
    "import warnings\n",
    "warnings.filterwarnings('ignore')"
   ]
  },
  {
   "cell_type": "code",
   "execution_count": 31,
   "metadata": {},
   "outputs": [],
   "source": [
    "# ticker por mes, cero si no hay data\n",
    "tickers = [0,0,0,0,\"ZSK25.CBT\", 0, \"ZSN25.CBT\", \"ZSQ25.CBT\", \"ZSU25.CBT\", 0, \"ZSX25.CBT\", 0]\n",
    "precios = []\n",
    "pago_local = 300\n",
    "\n",
    "for ticker in tickers:\n",
    "    if ticker == 0:\n",
    "        precios.append(pago_local)\n",
    "    else:\n",
    "        future_price = yf.Ticker(ticker).history(period=\"5d\")[\"Close\"].iloc[-1]\n",
    "        precios.append(float(future_price)*36.7/100)"
   ]
  },
  {
   "cell_type": "code",
   "execution_count": 32,
   "metadata": {},
   "outputs": [
    {
     "data": {
      "text/plain": [
       "[300,\n",
       " 300,\n",
       " 300,\n",
       " 300,\n",
       " 367.82575,\n",
       " 300,\n",
       " 372.87200000000007,\n",
       " 371.95450000000005,\n",
       " 367.9175,\n",
       " 300,\n",
       " 369.38550000000004,\n",
       " 300]"
      ]
     },
     "execution_count": 32,
     "metadata": {},
     "output_type": "execute_result"
    }
   ],
   "source": [
    "precios"
   ]
  },
  {
   "cell_type": "code",
   "execution_count": 35,
   "metadata": {},
   "outputs": [],
   "source": [
    "cosecha_df = pd.read_csv(\"cosecha.csv\", delimiter = \";\")\n",
    "cosecha_df.head(12)\n",
    "\n",
    "cosecha = cosecha_df[\"cantidad\"].tolist()"
   ]
  },
  {
   "cell_type": "code",
   "execution_count": null,
   "metadata": {},
   "outputs": [],
   "source": [
    "# Crear el modelo\n",
    "model = Model(name=\"Modelo de Optimización de cosecha\")\n",
    "\n",
    "caja_min = 200000\n",
    "\n",
    "# Variables de decision: Xij = cantidad de cosecha del mes i vendida en el mes j\n",
    "x = {(i, j): model.continuous_var(name=f\"x_{i}_{j}\", lb=0) for i in range(1,13) for j in range(i, min(i+6,13))}\n",
    "\n",
    "# Variables de saldo acumulado S[j]\n",
    "S = {j: model.continuous_var(name=f\"S_{j}\", lb=0) for j in range(1,13)}\n",
    "\n",
    "# Ejemplo: y = model.integer_var(name=\"y\")\n",
    "\n",
    "# Definir la función objetivo\n",
    "# Ejemplo: model.maximize(10 * x + 20 * y)\n",
    "\n",
    "# Agregar restricciones\n",
    "# Ejemplo: model.add_constraint(x + y <= 100, \"Restricción 1\")\n",
    "# Ejemplo: model.add_constraint(x - 2 * y >= 10, \"Restricción 2\")\n",
    "\n",
    "# Resolver el modelo\n",
    "solution = model.solve()\n",
    "\n",
    "# Verificar si se encontró una solución\n",
    "if solution:\n",
    "    # Imprimir la solución\n",
    "    model.print_solution()\n",
    "else:\n",
    "    print(\"No se encontró una solución factible.\")"
   ]
  }
 ],
 "metadata": {
  "kernelspec": {
   "display_name": "Python 3",
   "language": "python",
   "name": "python3"
  },
  "language_info": {
   "codemirror_mode": {
    "name": "ipython",
    "version": 3
   },
   "file_extension": ".py",
   "mimetype": "text/x-python",
   "name": "python",
   "nbconvert_exporter": "python",
   "pygments_lexer": "ipython3",
   "version": "3.12.9"
  }
 },
 "nbformat": 4,
 "nbformat_minor": 2
}
